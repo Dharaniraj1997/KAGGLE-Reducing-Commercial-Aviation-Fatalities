{
 "cells": [
  {
   "cell_type": "markdown",
   "metadata": {
    "id": "N2V10YYogS1L"
   },
   "source": [
    "# REDUCING COMMERCIAL AVIATION FATALITIES\n",
    "\n",
    "\n",
    "\n",
    "# Overview\n",
    "\n",
    "Most of the flight fatalities are caused due to Loss of Airplane State\n",
    "Awareness of the pilot. So we have to build a model that can detect\n",
    "troubling events from the Aircrew’s Physiological Data. This model should\n",
    "help the pilots by alerting them when they are entering into a troubling state\n",
    "thereby preventing accidents\n",
    "\n",
    "# BUSINESS PROBLEM\n",
    "\n",
    "Losing the Airplane State Awareness occurs during a very stressful\n",
    "environment. In this stressful environment different pilots react differently\n",
    "but all of them are trained in such a way that the passengers safety is of\n",
    "utmost importance. So even small help can get the pilot on track.\n",
    "The pilots can get into one of these 3 cognitive states under the distracting\n",
    "events.\n",
    "\n",
    "1) Channelized Attention (CA): The pilot is focussing only on 1 task and\n",
    "excluding others.\n",
    "\n",
    "2) Diverted Attention (DA): The state of having one’s attention diverted\n",
    "by the actions or thought processes associated with a decision.\n",
    "\n",
    "3) Startle/Surprised (SS): This is an involuntary reaction when something\n",
    "unexpected happens.\n",
    "\n",
    "So the model has to alert the pilot when he/she has entered one of the 3\n",
    "states.\n",
    "\n",
    "# ML Formulation\n",
    "\n",
    "The evaluation factor is MULTI CLASS LOG LOSS between predicted\n",
    "probabilities and Observed Target.\n",
    "We need to predict for each id (particular crew at particular time), one of the\n",
    "4 states (SS,CA,DA or Baseline) of the pilot. We have to strictly predict the\n",
    "probability of occurrence of each event.\n",
    "\n",
    "# Business Constraint\n",
    "This is totally possible. So i dont find any business constraints.\n",
    "\n",
    "# Dataset analysis\n",
    "\n",
    "The 1.15 GB of Training Dataset consists of 3 categories CA,DA,SS.\n",
    "The test dataset is of 4.46 GB and the output can be Baseline, CA, DA or SS.\n",
    "The test data is taken from a flight simulator, where the experiment is called\n",
    "LOFT -> Line Oriented Flight Training where the pilot is trained in a\n",
    "simulator.\n",
    "Our data has the ECG, EEG, GSR(Galvanic SKin Response) and Respiration\n",
    "of the pilots.\n",
    "\n",
    "Id: Unique identifier for crew+time combination. A pilot with a particular time\n",
    "into the experiment is represented using an id. So for each id, we need to\n",
    "predict the state.\n",
    "\n",
    "Experiment: For training, it will be either CA or DA or SS. For testing, it will be LOFT.\n",
    "\n",
    "Crew: Unique id for a pair or pilot\n",
    "\n",
    "Time: Seconds into the experiment\n",
    "\n",
    "Seat: Seat of the pilot- 0 means left, 1 means right.\n",
    "\n",
    "EEG (Electroencephalogram) — This is the summation of all activities on the\n",
    "surface of the brain. Data from 20 electrodes are given to us. Each electrode\n",
    "lead is placed near a particular part of the brain ( prefrontal(fp), temporal(t),\n",
    "frontal(f), parietal(p), occipital(o), central(c) ). The odd numbers in the representation indicate that the electrode is placed on the left side of the brain, even numbers indicate the right side, and z indicate the middle region.\n",
    "\n",
    "Eeg_f7: Data from the electrode near the prefrontal portion — left side\n",
    "\n",
    "Eeg_f8: Data from the electrode near the frontal area — right side\n",
    "\n",
    "Eeg_t4: Data from the electrode near the temporal area — right side\n",
    "\n",
    "Eeg_t6: Data from the electrode near the temporal area — right side\n",
    "\n",
    "Eeg_t5: Data from the electrode near the temporal area — left side\n",
    "\n",
    "Eeg_t3: Data from the electrode near the temporal area — left side\n",
    "\n",
    "Eeg_fp2: Data from the electrode near the prefrontal area — right side\n",
    "\n",
    "Eeg_o1: Data from the electrode near the occipital area — left side\n",
    "\n",
    "Eeg_p3: Data from the electrode near the parietal area — left side\n",
    "\n",
    "Eeg_pz: Data from the electrode near the parietal area — middle region\n",
    "\n",
    "Eeg_f3: Data from the electrode near the frontal area — left side\n",
    "\n",
    "Eeg_fz: Data from the electrode near the frontal area — middle region\n",
    "\n",
    "Eeg_f4: Data from the electrode near the frontal area — right side\n",
    "\n",
    "Eeg_c4: Data from the electrode near the central area — right side\n",
    "\n",
    "Eeg_p4: Data from the electrode near the parietal area — right side\n",
    "\n",
    "Eeg_poz: Data from the electrode near the parietal-occipital junction— Middle region\n",
    "\n",
    "Eeg_c3: Data from the electrode near the central area — left side\n",
    "\n",
    "Eeg_cz: Data from the electrode near the central area — middle region\n",
    "\n",
    "Eeg_o2: Data from the electrode near the occipital area — right side\n",
    "\n",
    "Ecg: Three-point electrocardiogram (ECG) signal — It measures the\n",
    "electrical activity of the heart (sensor output is in microvolts)\n",
    "\n",
    "R: Respiration sensor — It measures the rise and fall of the chest\n",
    "(Sensor output is in microvolts)\n",
    "\n",
    "Gsr: Galvanic skin response — The measure of electrodermal activity\n",
    "(Sensor output is in microvolts)\n",
    "\n",
    "Event: The output which is to be predicted — The state of the pilot at a\n",
    "given time. It will be either baseline (A no event) or SS(B) or CA(C)or DA(D).\n",
    "\n",
    "# Performance Metric\n",
    "\n",
    "Our metric is Multiclass Log Loss between Predicted Probability and\n",
    "Observed Target. This problem is a MULTICLASS CLASSIFICATION\n",
    "PROBLEM where the #classes are 4.\n",
    "\n",
    "![1_Tv01uAvsiY2qbbtrbbCKLw.png](attachment:1_Tv01uAvsiY2qbbtrbbCKLw.png)\n",
    "\n",
    "N = total number of data points\n",
    "\n",
    "M =  the number of classes\n",
    "\n",
    "yij is 1 if the data point i is predicted to be of class j else 0.\n",
    "\n",
    "pij is the probability of datapoint i belonging to class j\n",
    "\n",
    "# Research-Papers/Solutions/Architectures/Kernels\n",
    "\n",
    "1. https://www.kaggle.com/stuartbman/introduction-to-physiological-data\n",
    "\n",
    "This link helped me out to understand what is physiological data. What are all the features in the dataset. The 3 types of physiological data Respiration, EEG and ECG are explained there along with how to use the data for visualization. It also explained about the values of normal ones and how they waver when the person(here the pilot) is set into one of the stressful situations.\n",
    "Eg: For EEG:\n",
    "Delta (<4Hz) Slow wave sleep, continuous attention tasks\n",
    "Theta (4-7Hz) Drowsiness, repression of elicited responses\n",
    "Alpha (8-15Hz) Relaxed, eyes closed\n",
    "Beta (16-31Hz) Active thinking, focus, alert\n",
    "Gamma (>32Hz) Short term memory, cross sensory perception\n",
    "\n",
    "2. https://medium.com/analytics-vidhya/reducing-commercial-aviation-fatalities-dataset-pipeline-b835d06be423\n",
    "\n",
    "This blog helped me to understand:\n",
    "That the data is imbalanced and to balance the data they used a technique called SMOTE(Synthetic Minority Oversampling TEchnique). This technique generates synthetic data for the minority class joining the points of the minority class with line segments and then places artificial points on these lines.\n",
    "The order of Feature Importance for a LightGBM model.\n",
    "The LightGBM is a fast, distributed, high-performance gradient boosting framework based on a decision tree algorithm, used for ranking, classification and many other machine learning tasks.\n",
    "\n",
    "3. https://medium.com/swlh/reducing-commercial-aviation-fatalities-2257b5090d9f\n",
    "4. https://atharvamusale.medium.com/reducing-commercial-aviation-fatalities-c335757e8d01\n",
    "\n",
    "3 and 4 blogs helped me understand:\n",
    "We can't just simply use one feature(ECG or EEG or GSR) and classify the event, we need all three of them.\n",
    "We can use Dask since we have a large dataset.\n",
    "Approaches to build a model which utilizes the least amount memory and their procedures.  \n",
    "\n",
    "5. https://medium.com/analytics-vidhya/reducing-commercial-aviation-fatalities-ec338e37900c\n",
    "\n",
    "This blog helped me understand: \n",
    "When the value of ECG is high (more than 10000 microvolts), the pilot is more likely to enter into the DA state.\n",
    "When the ECG value is too negative, the pilot is likely to be in the CA state.\n",
    "These data are clearly rich in noise and hence we need to remove this high-frequency noise. For that purpose, we use a low pass Butterworth filter.\n",
    "For filtering the ECG signal, the cutoff frequency(w) was selected as 100 and for filtering the respiration signal, the value of w was taken as 0.7.\n",
    "This data can be of so much help when we are designing the model.\n",
    "\n",
    "6. https://www.kaggle.com/arjanso/reducing-dataframe-memory-size-by-65\n",
    "\n",
    "To reduce the RAM occupied by the Kaggle's Test dataset.\n",
    "\n",
    "# First Cut Approach\n",
    "\n",
    "For EDA we use:\n",
    "Violin Plots\n",
    "Box PLots\n",
    "Histograms\n",
    "Std Deviation\n",
    "Variance\n",
    "Mean\n",
    "\n",
    "I would like to Normalize using the MinMax feature so that the data exists between 0 and 1.\n",
    "MinMax feature helps us scale and translate each feature individually such that it is in the given range on the training set, e.g. between zero and one.\n",
    "\n",
    "We find that the data is Imbalanced so we use SMOTE to balance that data.\n",
    "Models that don't have a balanced dataset turn out to give us poor performance.\n",
    "SMOTE(Synthetic Minority Oversampling TEchnique) generates synthetic data for the minority class joining the points of the minority class with line segments and then places artificial points on these lines.\n",
    "SMOTE works by selecting examples that are close in the feature space, drawing a line between the examples in the feature space and drawing a new sample at a point along that line.\n",
    "\n",
    "We have a huge dataset so we better use DASK(like in Microsoft Malware case study) for better use of RAM.\n",
    "Dask can efficiently perform parallel computations on a single machine using multi-core CPUs.\n",
    "Dask can run on a cluster of machines to process data efficiently as it uses all the cores of the connected machines. One interesting fact here is that it is not necessary that all machines should have the same number of cores. If one system has 2 cores while the other has 4 cores, Dask can handle these variations internally.\n",
    "The model I would like to try on this huge dataset is Light GBM.\n",
    "\n",
    "LightGBM is a gradient boosting framework that uses tree based learning algorithms. It is designed to be distributed and efficient with the following advantages:\n",
    "Faster training speed and higher efficiency.\n",
    "Lower memory usage.\n",
    "Better accuracy.\n",
    "Support of parallel and GPU learning.\n",
    "Capable of handling large-scale data.\n",
    "\n",
    "Generally XGBoost models have high performance rates, so we can try it.\n",
    "The first reason to try XGBoost is that it has parallel processing which might groom itself easily through this huge dataset.\n",
    "It has the capability to handle missing values\n",
    "It provides cross validation\n",
    "Logistic Regression \n",
    "It is less inclined to over fitting.\n",
    "Simple to implement\n",
    "Faster than many models.\n",
    "\n",
    "# Loading the TRAIN and TEST datasets\n"
   ]
  },
  {
   "cell_type": "code",
   "execution_count": 1,
   "metadata": {
    "colab": {
     "base_uri": "https://localhost:8080/"
    },
    "id": "e0tAzUi1glES",
    "outputId": "d60c9b88-6253-4796-9389-a0b11d1f2f71"
   },
   "outputs": [
    {
     "name": "stderr",
     "output_type": "stream",
     "text": [
      "ERROR: Invalid requirement: \"'fsspec\"\n"
     ]
    }
   ],
   "source": [
    "!python -m pip install 'fsspec>=0.3.3'\n",
    "import pandas as pd\n",
    "\n",
    "from sklearn.preprocessing import LabelEncoder\n",
    "from sklearn.feature_extraction.text import CountVectorizer\n",
    "from sklearn.manifold import TSNE\n",
    "from scipy.sparse import csr_matrix \n",
    "from sklearn.preprocessing import MinMaxScaler\n",
    "\n",
    "from tqdm import tqdm\n",
    "import numpy as np\n",
    "import matplotlib.pyplot as plt\n",
    "import seaborn as sns\n",
    "import dask.dataframe as dd\n",
    "import warnings\n",
    "warnings.filterwarnings(\"ignore\")\n",
    "\n",
    "from sklearn.model_selection import train_test_split\n",
    "\n",
    "from sklearn.tree import DecisionTreeClassifier\n",
    "from sklearn.model_selection import RandomizedSearchCV\n",
    "from sklearn.model_selection import GridSearchCV\n",
    "from sklearn.metrics import log_loss\n",
    "import xgboost as xgb\n",
    "import lightgbm as lgb\n",
    "from sklearn.ensemble import AdaBoostClassifier"
   ]
  },
  {
   "cell_type": "code",
   "execution_count": 2,
   "metadata": {
    "id": "Br2FHTHLgwgY"
   },
   "outputs": [],
   "source": [
    "def reduce_mem_usage(props):\n",
    "    start_mem_usg = props.memory_usage().sum() / 1024**2 \n",
    "    print(\"Memory usage of properties dataframe is :\",start_mem_usg,\" MB\")\n",
    "    NAlist = [] # Keeps track of columns that have missing values filled in. \n",
    "    for col in props.columns:\n",
    "        if props[col].dtype != object:  # Exclude strings\n",
    "            \n",
    "            # Print current column type\n",
    "            print(\"******************************\")\n",
    "            print(\"Column: \",col)\n",
    "            print(\"dtype before: \",props[col].dtype)\n",
    "            \n",
    "            # make variables for Int, max and min\n",
    "            IsInt = False\n",
    "            mx = props[col].max()\n",
    "            mn = props[col].min()\n",
    "            \n",
    "            # Integer does not support NA, therefore, NA needs to be filled\n",
    "            if not np.isfinite(props[col]).all(): \n",
    "                NAlist.append(col)\n",
    "                props[col].fillna(mn-1,inplace=True)  \n",
    "                   \n",
    "            # test if column can be converted to an integer\n",
    "            asint = props[col].fillna(0).astype(np.int64)\n",
    "            result = (props[col] - asint)\n",
    "            result = result.sum()\n",
    "            if result > -0.01 and result < 0.01:\n",
    "                IsInt = True\n",
    "\n",
    "            \n",
    "            # Make Integer/unsigned Integer datatypes\n",
    "            if IsInt:\n",
    "                if mn >= 0:\n",
    "                    if mx < 255:\n",
    "                        props[col] = props[col].astype(np.uint8)\n",
    "                    elif mx < 65535:\n",
    "                        props[col] = props[col].astype(np.uint16)\n",
    "                    elif mx < 4294967295:\n",
    "                        props[col] = props[col].astype(np.uint32)\n",
    "                    else:\n",
    "                        props[col] = props[col].astype(np.uint64)\n",
    "                else:\n",
    "                    if mn > np.iinfo(np.int8).min and mx < np.iinfo(np.int8).max:\n",
    "                        props[col] = props[col].astype(np.int8)\n",
    "                    elif mn > np.iinfo(np.int16).min and mx < np.iinfo(np.int16).max:\n",
    "                        props[col] = props[col].astype(np.int16)\n",
    "                    elif mn > np.iinfo(np.int32).min and mx < np.iinfo(np.int32).max:\n",
    "                        props[col] = props[col].astype(np.int32)\n",
    "                    elif mn > np.iinfo(np.int64).min and mx < np.iinfo(np.int64).max:\n",
    "                        props[col] = props[col].astype(np.int64)    \n",
    "            \n",
    "            # Make float datatypes 32 bit\n",
    "            else:\n",
    "                props[col] = props[col].astype(np.float32)\n",
    "            \n",
    "            # Print new column type\n",
    "            print(\"dtype after: \",props[col].dtype)\n",
    "            print(\"******************************\")\n",
    "    \n",
    "    # Print final result\n",
    "    print(\"___MEMORY USAGE AFTER COMPLETION:___\")\n",
    "    mem_usg = props.memory_usage().sum() / 1024**2 \n",
    "    print(\"Memory usage is: \",mem_usg,\" MB\")\n",
    "    print(\"This is \",100*mem_usg/start_mem_usg,\"% of the initial size\")\n",
    "    return props"
   ]
  },
  {
   "cell_type": "code",
   "execution_count": 143,
   "metadata": {
    "id": "YXIvo_29g03s"
   },
   "outputs": [],
   "source": [
    "! pip install -q kaggle"
   ]
  },
  {
   "cell_type": "code",
   "execution_count": 144,
   "metadata": {
    "colab": {
     "base_uri": "https://localhost:8080/",
     "height": 342,
     "resources": {
      "http://localhost:8080/nbextensions/google.colab/files.js": {
       "data": "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",
       "headers": [
        [
         "content-type",
         "application/javascript"
        ]
       ],
       "ok": true,
       "status": 200,
       "status_text": ""
      }
     }
    },
    "id": "fA8euMfXg4rL",
    "outputId": "943e1436-5450-4faa-b975-3ab085378b00"
   },
   "outputs": [
    {
     "data": {
      "text/html": [
       "\n",
       "     <input type=\"file\" id=\"files-a0c28987-c6ac-4e3f-9455-b9b2b4814895\" name=\"files[]\" multiple disabled\n",
       "        style=\"border:none\" />\n",
       "     <output id=\"result-a0c28987-c6ac-4e3f-9455-b9b2b4814895\">\n",
       "      Upload widget is only available when the cell has been executed in the\n",
       "      current browser session. Please rerun this cell to enable.\n",
       "      </output>\n",
       "      <script src=\"/nbextensions/google.colab/files.js\"></script> "
      ],
      "text/plain": [
       "<IPython.core.display.HTML object>"
      ]
     },
     "metadata": {
      "tags": []
     },
     "output_type": "display_data"
    },
    {
     "ename": "KeyboardInterrupt",
     "evalue": "ignored",
     "output_type": "error",
     "traceback": [
      "\u001b[0;31m---------------------------------------------------------------------------\u001b[0m",
      "\u001b[0;31mKeyboardInterrupt\u001b[0m                         Traceback (most recent call last)",
      "\u001b[0;32m<ipython-input-144-5c2e8a8d365b>\u001b[0m in \u001b[0;36m<module>\u001b[0;34m()\u001b[0m\n\u001b[1;32m      1\u001b[0m \u001b[0;32mfrom\u001b[0m \u001b[0mgoogle\u001b[0m\u001b[0;34m.\u001b[0m\u001b[0mcolab\u001b[0m \u001b[0;32mimport\u001b[0m \u001b[0mfiles\u001b[0m\u001b[0;34m\u001b[0m\u001b[0;34m\u001b[0m\u001b[0m\n\u001b[0;32m----> 2\u001b[0;31m \u001b[0mfiles\u001b[0m\u001b[0;34m.\u001b[0m\u001b[0mupload\u001b[0m\u001b[0;34m(\u001b[0m\u001b[0;34m)\u001b[0m\u001b[0;34m\u001b[0m\u001b[0;34m\u001b[0m\u001b[0m\n\u001b[0m",
      "\u001b[0;32m/usr/local/lib/python3.7/dist-packages/google/colab/files.py\u001b[0m in \u001b[0;36mupload\u001b[0;34m()\u001b[0m\n\u001b[1;32m     62\u001b[0m   result = _output.eval_js(\n\u001b[1;32m     63\u001b[0m       'google.colab._files._uploadFiles(\"{input_id}\", \"{output_id}\")'.format(\n\u001b[0;32m---> 64\u001b[0;31m           input_id=input_id, output_id=output_id))\n\u001b[0m\u001b[1;32m     65\u001b[0m   \u001b[0mfiles\u001b[0m \u001b[0;34m=\u001b[0m \u001b[0m_collections\u001b[0m\u001b[0;34m.\u001b[0m\u001b[0mdefaultdict\u001b[0m\u001b[0;34m(\u001b[0m\u001b[0m_six\u001b[0m\u001b[0;34m.\u001b[0m\u001b[0mbinary_type\u001b[0m\u001b[0;34m)\u001b[0m\u001b[0;34m\u001b[0m\u001b[0;34m\u001b[0m\u001b[0m\n\u001b[1;32m     66\u001b[0m   \u001b[0;31m# Mapping from original filename to filename as saved locally.\u001b[0m\u001b[0;34m\u001b[0m\u001b[0;34m\u001b[0m\u001b[0;34m\u001b[0m\u001b[0m\n",
      "\u001b[0;32m/usr/local/lib/python3.7/dist-packages/google/colab/output/_js.py\u001b[0m in \u001b[0;36meval_js\u001b[0;34m(script, ignore_result, timeout_sec)\u001b[0m\n\u001b[1;32m     38\u001b[0m   \u001b[0;32mif\u001b[0m \u001b[0mignore_result\u001b[0m\u001b[0;34m:\u001b[0m\u001b[0;34m\u001b[0m\u001b[0;34m\u001b[0m\u001b[0m\n\u001b[1;32m     39\u001b[0m     \u001b[0;32mreturn\u001b[0m\u001b[0;34m\u001b[0m\u001b[0;34m\u001b[0m\u001b[0m\n\u001b[0;32m---> 40\u001b[0;31m   \u001b[0;32mreturn\u001b[0m \u001b[0m_message\u001b[0m\u001b[0;34m.\u001b[0m\u001b[0mread_reply_from_input\u001b[0m\u001b[0;34m(\u001b[0m\u001b[0mrequest_id\u001b[0m\u001b[0;34m,\u001b[0m \u001b[0mtimeout_sec\u001b[0m\u001b[0;34m)\u001b[0m\u001b[0;34m\u001b[0m\u001b[0;34m\u001b[0m\u001b[0m\n\u001b[0m\u001b[1;32m     41\u001b[0m \u001b[0;34m\u001b[0m\u001b[0m\n\u001b[1;32m     42\u001b[0m \u001b[0;34m\u001b[0m\u001b[0m\n",
      "\u001b[0;32m/usr/local/lib/python3.7/dist-packages/google/colab/_message.py\u001b[0m in \u001b[0;36mread_reply_from_input\u001b[0;34m(message_id, timeout_sec)\u001b[0m\n\u001b[1;32m     99\u001b[0m     \u001b[0mreply\u001b[0m \u001b[0;34m=\u001b[0m \u001b[0m_read_next_input_message\u001b[0m\u001b[0;34m(\u001b[0m\u001b[0;34m)\u001b[0m\u001b[0;34m\u001b[0m\u001b[0;34m\u001b[0m\u001b[0m\n\u001b[1;32m    100\u001b[0m     \u001b[0;32mif\u001b[0m \u001b[0mreply\u001b[0m \u001b[0;34m==\u001b[0m \u001b[0m_NOT_READY\u001b[0m \u001b[0;32mor\u001b[0m \u001b[0;32mnot\u001b[0m \u001b[0misinstance\u001b[0m\u001b[0;34m(\u001b[0m\u001b[0mreply\u001b[0m\u001b[0;34m,\u001b[0m \u001b[0mdict\u001b[0m\u001b[0;34m)\u001b[0m\u001b[0;34m:\u001b[0m\u001b[0;34m\u001b[0m\u001b[0;34m\u001b[0m\u001b[0m\n\u001b[0;32m--> 101\u001b[0;31m       \u001b[0mtime\u001b[0m\u001b[0;34m.\u001b[0m\u001b[0msleep\u001b[0m\u001b[0;34m(\u001b[0m\u001b[0;36m0.025\u001b[0m\u001b[0;34m)\u001b[0m\u001b[0;34m\u001b[0m\u001b[0;34m\u001b[0m\u001b[0m\n\u001b[0m\u001b[1;32m    102\u001b[0m       \u001b[0;32mcontinue\u001b[0m\u001b[0;34m\u001b[0m\u001b[0;34m\u001b[0m\u001b[0m\n\u001b[1;32m    103\u001b[0m     if (reply.get('type') == 'colab_reply' and\n",
      "\u001b[0;31mKeyboardInterrupt\u001b[0m: "
     ]
    }
   ],
   "source": [
    "from google.colab import files\n",
    "files.upload()"
   ]
  },
  {
   "cell_type": "code",
   "execution_count": 13,
   "metadata": {
    "id": "cZiqThi-g60X"
   },
   "outputs": [],
   "source": [
    "! mkdir ~/.kaggle"
   ]
  },
  {
   "cell_type": "code",
   "execution_count": 14,
   "metadata": {
    "id": "QMxIMaqDg93H"
   },
   "outputs": [],
   "source": [
    "! cp kaggle.json ~/.kaggle/"
   ]
  },
  {
   "cell_type": "code",
   "execution_count": 15,
   "metadata": {
    "id": "5YgH7TUkg_dt"
   },
   "outputs": [],
   "source": [
    "! chmod 600 ~/.kaggle/kaggle.json"
   ]
  },
  {
   "cell_type": "code",
   "execution_count": 16,
   "metadata": {
    "colab": {
     "base_uri": "https://localhost:8080/"
    },
    "id": "kVbOv-M3hBXz",
    "outputId": "e53c6a02-a81f-45cd-f063-497ac017cc42"
   },
   "outputs": [
    {
     "name": "stdout",
     "output_type": "stream",
     "text": [
      "Warning: Looks like you're using an outdated API Version, please consider updating (server 1.5.12 / client 1.5.4)\n",
      "ref                                                         title                                              size  lastUpdated          downloadCount  \n",
      "----------------------------------------------------------  ------------------------------------------------  -----  -------------------  -------------  \n",
      "gpreda/reddit-vaccine-myths                                 Reddit Vaccine Myths                              217KB  2021-03-24 09:00:10            861  \n",
      "crowww/a-large-scale-fish-dataset                           A Large Scale Fish Dataset                          3GB  2021-02-17 16:10:44            689  \n",
      "dhruvildave/wikibooks-dataset                               Wikibooks Dataset                                   1GB  2021-02-18 10:08:27            650  \n",
      "imsparsh/musicnet-dataset                                   MusicNet Dataset                                   22GB  2021-02-18 14:12:19            272  \n",
      "fatiimaezzahra/famous-iconic-women                          Famous Iconic Women                               838MB  2021-02-28 14:56:00            211  \n",
      "nickuzmenkov/nih-chest-xrays-tfrecords                      NIH Chest X-rays TFRecords                         11GB  2021-03-09 04:49:23            134  \n",
      "mathurinache/the-lj-speech-dataset                          The LJ Speech Dataset                               3GB  2021-02-15 09:19:54             58  \n",
      "nickuzmenkov/ranzcr-clip-kfold-tfrecords                    RANZCR CLiP KFold TFRecords                         2GB  2021-02-21 13:29:51             40  \n",
      "alsgroup/end-als                                            End ALS Kaggle Challenge                           12GB  2021-03-16 22:31:35             67  \n",
      "simiotic/github-code-snippets                               GitHub Code Snippets                                7GB  2021-03-03 11:34:39             21  \n",
      "imsparsh/accentdb-core-extended                             AccentDB - Core & Extended                          6GB  2021-02-17 14:22:54             23  \n",
      "coloradokb/dandelionimages                                  DandelionImages                                     4GB  2021-02-19 20:03:47            101  \n",
      "mathurinache/twitter-edge-nodes                             Twitter Edge Nodes                                342MB  2021-03-08 06:43:04             34  \n",
      "landrykezebou/lvzhdr-tone-mapping-benchmark-dataset-tmonet  LVZ-HDR Tone Mapping Benchmark Dataset (TMO-Net)   24GB  2021-03-01 05:03:40             23  \n",
      "promptcloud/careerbuilder-job-listing-2020                  Careerbuilder Job Listing 2020                     42MB  2021-03-05 06:59:52             52  \n",
      "stuartjames/lights                                          LightS: Light Specularity Dataset                  18GB  2021-02-18 14:32:26             22  \n",
      "shivamb/netflix-shows                                       Netflix Movies and TV Shows                         1MB  2021-01-18 16:20:26         118989  \n",
      "arashnic/hr-analytics-job-change-of-data-scientists         HR Analytics: Job Change of Data Scientists       295KB  2020-12-07 00:25:10          16254  \n",
      "jsphyg/weather-dataset-rattle-package                       Rain in Australia                                   4MB  2020-12-11 10:26:12          40439  \n",
      "michau96/restaurant-business-rankings-2020                  Restaurant Business Rankings 2020                  16KB  2021-01-30 14:20:45           9764  \n"
     ]
    }
   ],
   "source": [
    "! kaggle datasets list"
   ]
  },
  {
   "cell_type": "code",
   "execution_count": 17,
   "metadata": {
    "colab": {
     "base_uri": "https://localhost:8080/"
    },
    "id": "7tntQDvohDRC",
    "outputId": "88789724-197e-41c4-adfa-4372ac8f61b7"
   },
   "outputs": [
    {
     "name": "stdout",
     "output_type": "stream",
     "text": [
      "Warning: Looks like you're using an outdated API Version, please consider updating (server 1.5.12 / client 1.5.4)\n",
      "Downloading sample_submission.csv.zip to /content\n",
      " 87% 36.0M/41.2M [00:00<00:00, 90.4MB/s]\n",
      "100% 41.2M/41.2M [00:00<00:00, 104MB/s] \n",
      "Downloading test.csv.zip to /content\n",
      " 99% 1.66G/1.67G [00:13<00:00, 118MB/s]\n",
      "100% 1.67G/1.67G [00:13<00:00, 132MB/s]\n",
      "Downloading train.csv.zip to /content\n",
      "100% 434M/435M [00:04<00:00, 103MB/s]\n",
      "100% 435M/435M [00:04<00:00, 94.4MB/s]\n"
     ]
    }
   ],
   "source": [
    "! kaggle competitions download -c 'Reducing-Commercial-Aviation-Fatalities'"
   ]
  },
  {
   "cell_type": "code",
   "execution_count": 18,
   "metadata": {
    "colab": {
     "base_uri": "https://localhost:8080/"
    },
    "id": "XvgoLgl7hGBc",
    "outputId": "12ccf498-525b-4741-d6fd-20c7e08b94fc"
   },
   "outputs": [
    {
     "name": "stdout",
     "output_type": "stream",
     "text": [
      "Archive:  train.csv.zip\n",
      "  inflating: train/train.csv         \n"
     ]
    }
   ],
   "source": [
    "! unzip train.csv.zip -d train"
   ]
  },
  {
   "cell_type": "code",
   "execution_count": 3,
   "metadata": {
    "id": "-5F3PTuOhH7S"
   },
   "outputs": [
    {
     "ename": "FileNotFoundError",
     "evalue": "[Errno 2] File /content/train/train.csv does not exist: '/content/train/train.csv'",
     "output_type": "error",
     "traceback": [
      "\u001b[1;31m---------------------------------------------------------------------------\u001b[0m",
      "\u001b[1;31mFileNotFoundError\u001b[0m                         Traceback (most recent call last)",
      "\u001b[1;32m<ipython-input-3-f97377583633>\u001b[0m in \u001b[0;36m<module>\u001b[1;34m\u001b[0m\n\u001b[1;32m----> 1\u001b[1;33m \u001b[0mtrain\u001b[0m \u001b[1;33m=\u001b[0m \u001b[0mpd\u001b[0m\u001b[1;33m.\u001b[0m\u001b[0mread_csv\u001b[0m\u001b[1;33m(\u001b[0m\u001b[1;34m'/content/train/train.csv'\u001b[0m\u001b[1;33m)\u001b[0m\u001b[1;33m\u001b[0m\u001b[1;33m\u001b[0m\u001b[0m\n\u001b[0m",
      "\u001b[1;32mC:\\ProgramData\\Anaconda3\\lib\\site-packages\\pandas\\io\\parsers.py\u001b[0m in \u001b[0;36mparser_f\u001b[1;34m(filepath_or_buffer, sep, delimiter, header, names, index_col, usecols, squeeze, prefix, mangle_dupe_cols, dtype, engine, converters, true_values, false_values, skipinitialspace, skiprows, skipfooter, nrows, na_values, keep_default_na, na_filter, verbose, skip_blank_lines, parse_dates, infer_datetime_format, keep_date_col, date_parser, dayfirst, cache_dates, iterator, chunksize, compression, thousands, decimal, lineterminator, quotechar, quoting, doublequote, escapechar, comment, encoding, dialect, error_bad_lines, warn_bad_lines, delim_whitespace, low_memory, memory_map, float_precision)\u001b[0m\n\u001b[0;32m    674\u001b[0m         )\n\u001b[0;32m    675\u001b[0m \u001b[1;33m\u001b[0m\u001b[0m\n\u001b[1;32m--> 676\u001b[1;33m         \u001b[1;32mreturn\u001b[0m \u001b[0m_read\u001b[0m\u001b[1;33m(\u001b[0m\u001b[0mfilepath_or_buffer\u001b[0m\u001b[1;33m,\u001b[0m \u001b[0mkwds\u001b[0m\u001b[1;33m)\u001b[0m\u001b[1;33m\u001b[0m\u001b[1;33m\u001b[0m\u001b[0m\n\u001b[0m\u001b[0;32m    677\u001b[0m \u001b[1;33m\u001b[0m\u001b[0m\n\u001b[0;32m    678\u001b[0m     \u001b[0mparser_f\u001b[0m\u001b[1;33m.\u001b[0m\u001b[0m__name__\u001b[0m \u001b[1;33m=\u001b[0m \u001b[0mname\u001b[0m\u001b[1;33m\u001b[0m\u001b[1;33m\u001b[0m\u001b[0m\n",
      "\u001b[1;32mC:\\ProgramData\\Anaconda3\\lib\\site-packages\\pandas\\io\\parsers.py\u001b[0m in \u001b[0;36m_read\u001b[1;34m(filepath_or_buffer, kwds)\u001b[0m\n\u001b[0;32m    446\u001b[0m \u001b[1;33m\u001b[0m\u001b[0m\n\u001b[0;32m    447\u001b[0m     \u001b[1;31m# Create the parser.\u001b[0m\u001b[1;33m\u001b[0m\u001b[1;33m\u001b[0m\u001b[1;33m\u001b[0m\u001b[0m\n\u001b[1;32m--> 448\u001b[1;33m     \u001b[0mparser\u001b[0m \u001b[1;33m=\u001b[0m \u001b[0mTextFileReader\u001b[0m\u001b[1;33m(\u001b[0m\u001b[0mfp_or_buf\u001b[0m\u001b[1;33m,\u001b[0m \u001b[1;33m**\u001b[0m\u001b[0mkwds\u001b[0m\u001b[1;33m)\u001b[0m\u001b[1;33m\u001b[0m\u001b[1;33m\u001b[0m\u001b[0m\n\u001b[0m\u001b[0;32m    449\u001b[0m \u001b[1;33m\u001b[0m\u001b[0m\n\u001b[0;32m    450\u001b[0m     \u001b[1;32mif\u001b[0m \u001b[0mchunksize\u001b[0m \u001b[1;32mor\u001b[0m \u001b[0miterator\u001b[0m\u001b[1;33m:\u001b[0m\u001b[1;33m\u001b[0m\u001b[1;33m\u001b[0m\u001b[0m\n",
      "\u001b[1;32mC:\\ProgramData\\Anaconda3\\lib\\site-packages\\pandas\\io\\parsers.py\u001b[0m in \u001b[0;36m__init__\u001b[1;34m(self, f, engine, **kwds)\u001b[0m\n\u001b[0;32m    878\u001b[0m             \u001b[0mself\u001b[0m\u001b[1;33m.\u001b[0m\u001b[0moptions\u001b[0m\u001b[1;33m[\u001b[0m\u001b[1;34m\"has_index_names\"\u001b[0m\u001b[1;33m]\u001b[0m \u001b[1;33m=\u001b[0m \u001b[0mkwds\u001b[0m\u001b[1;33m[\u001b[0m\u001b[1;34m\"has_index_names\"\u001b[0m\u001b[1;33m]\u001b[0m\u001b[1;33m\u001b[0m\u001b[1;33m\u001b[0m\u001b[0m\n\u001b[0;32m    879\u001b[0m \u001b[1;33m\u001b[0m\u001b[0m\n\u001b[1;32m--> 880\u001b[1;33m         \u001b[0mself\u001b[0m\u001b[1;33m.\u001b[0m\u001b[0m_make_engine\u001b[0m\u001b[1;33m(\u001b[0m\u001b[0mself\u001b[0m\u001b[1;33m.\u001b[0m\u001b[0mengine\u001b[0m\u001b[1;33m)\u001b[0m\u001b[1;33m\u001b[0m\u001b[1;33m\u001b[0m\u001b[0m\n\u001b[0m\u001b[0;32m    881\u001b[0m \u001b[1;33m\u001b[0m\u001b[0m\n\u001b[0;32m    882\u001b[0m     \u001b[1;32mdef\u001b[0m \u001b[0mclose\u001b[0m\u001b[1;33m(\u001b[0m\u001b[0mself\u001b[0m\u001b[1;33m)\u001b[0m\u001b[1;33m:\u001b[0m\u001b[1;33m\u001b[0m\u001b[1;33m\u001b[0m\u001b[0m\n",
      "\u001b[1;32mC:\\ProgramData\\Anaconda3\\lib\\site-packages\\pandas\\io\\parsers.py\u001b[0m in \u001b[0;36m_make_engine\u001b[1;34m(self, engine)\u001b[0m\n\u001b[0;32m   1112\u001b[0m     \u001b[1;32mdef\u001b[0m \u001b[0m_make_engine\u001b[0m\u001b[1;33m(\u001b[0m\u001b[0mself\u001b[0m\u001b[1;33m,\u001b[0m \u001b[0mengine\u001b[0m\u001b[1;33m=\u001b[0m\u001b[1;34m\"c\"\u001b[0m\u001b[1;33m)\u001b[0m\u001b[1;33m:\u001b[0m\u001b[1;33m\u001b[0m\u001b[1;33m\u001b[0m\u001b[0m\n\u001b[0;32m   1113\u001b[0m         \u001b[1;32mif\u001b[0m \u001b[0mengine\u001b[0m \u001b[1;33m==\u001b[0m \u001b[1;34m\"c\"\u001b[0m\u001b[1;33m:\u001b[0m\u001b[1;33m\u001b[0m\u001b[1;33m\u001b[0m\u001b[0m\n\u001b[1;32m-> 1114\u001b[1;33m             \u001b[0mself\u001b[0m\u001b[1;33m.\u001b[0m\u001b[0m_engine\u001b[0m \u001b[1;33m=\u001b[0m \u001b[0mCParserWrapper\u001b[0m\u001b[1;33m(\u001b[0m\u001b[0mself\u001b[0m\u001b[1;33m.\u001b[0m\u001b[0mf\u001b[0m\u001b[1;33m,\u001b[0m \u001b[1;33m**\u001b[0m\u001b[0mself\u001b[0m\u001b[1;33m.\u001b[0m\u001b[0moptions\u001b[0m\u001b[1;33m)\u001b[0m\u001b[1;33m\u001b[0m\u001b[1;33m\u001b[0m\u001b[0m\n\u001b[0m\u001b[0;32m   1115\u001b[0m         \u001b[1;32melse\u001b[0m\u001b[1;33m:\u001b[0m\u001b[1;33m\u001b[0m\u001b[1;33m\u001b[0m\u001b[0m\n\u001b[0;32m   1116\u001b[0m             \u001b[1;32mif\u001b[0m \u001b[0mengine\u001b[0m \u001b[1;33m==\u001b[0m \u001b[1;34m\"python\"\u001b[0m\u001b[1;33m:\u001b[0m\u001b[1;33m\u001b[0m\u001b[1;33m\u001b[0m\u001b[0m\n",
      "\u001b[1;32mC:\\ProgramData\\Anaconda3\\lib\\site-packages\\pandas\\io\\parsers.py\u001b[0m in \u001b[0;36m__init__\u001b[1;34m(self, src, **kwds)\u001b[0m\n\u001b[0;32m   1889\u001b[0m         \u001b[0mkwds\u001b[0m\u001b[1;33m[\u001b[0m\u001b[1;34m\"usecols\"\u001b[0m\u001b[1;33m]\u001b[0m \u001b[1;33m=\u001b[0m \u001b[0mself\u001b[0m\u001b[1;33m.\u001b[0m\u001b[0musecols\u001b[0m\u001b[1;33m\u001b[0m\u001b[1;33m\u001b[0m\u001b[0m\n\u001b[0;32m   1890\u001b[0m \u001b[1;33m\u001b[0m\u001b[0m\n\u001b[1;32m-> 1891\u001b[1;33m         \u001b[0mself\u001b[0m\u001b[1;33m.\u001b[0m\u001b[0m_reader\u001b[0m \u001b[1;33m=\u001b[0m \u001b[0mparsers\u001b[0m\u001b[1;33m.\u001b[0m\u001b[0mTextReader\u001b[0m\u001b[1;33m(\u001b[0m\u001b[0msrc\u001b[0m\u001b[1;33m,\u001b[0m \u001b[1;33m**\u001b[0m\u001b[0mkwds\u001b[0m\u001b[1;33m)\u001b[0m\u001b[1;33m\u001b[0m\u001b[1;33m\u001b[0m\u001b[0m\n\u001b[0m\u001b[0;32m   1892\u001b[0m         \u001b[0mself\u001b[0m\u001b[1;33m.\u001b[0m\u001b[0munnamed_cols\u001b[0m \u001b[1;33m=\u001b[0m \u001b[0mself\u001b[0m\u001b[1;33m.\u001b[0m\u001b[0m_reader\u001b[0m\u001b[1;33m.\u001b[0m\u001b[0munnamed_cols\u001b[0m\u001b[1;33m\u001b[0m\u001b[1;33m\u001b[0m\u001b[0m\n\u001b[0;32m   1893\u001b[0m \u001b[1;33m\u001b[0m\u001b[0m\n",
      "\u001b[1;32mpandas\\_libs\\parsers.pyx\u001b[0m in \u001b[0;36mpandas._libs.parsers.TextReader.__cinit__\u001b[1;34m()\u001b[0m\n",
      "\u001b[1;32mpandas\\_libs\\parsers.pyx\u001b[0m in \u001b[0;36mpandas._libs.parsers.TextReader._setup_parser_source\u001b[1;34m()\u001b[0m\n",
      "\u001b[1;31mFileNotFoundError\u001b[0m: [Errno 2] File /content/train/train.csv does not exist: '/content/train/train.csv'"
     ]
    }
   ],
   "source": [
    "train = pd.read_csv('/content/train/train.csv')"
   ]
  },
  {
   "cell_type": "code",
   "execution_count": 15,
   "metadata": {
    "colab": {
     "base_uri": "https://localhost:8080/"
    },
    "id": "CUh_MHUBhKGn",
    "outputId": "fc182e17-6ab4-4ac8-c9ed-11e9392d1940"
   },
   "outputs": [
    {
     "name": "stdout",
     "output_type": "stream",
     "text": [
      "Memory usage of properties dataframe is : 1039.7934265136719  MB\n",
      "******************************\n",
      "Column:  crew\n",
      "dtype before:  int64\n",
      "dtype after:  uint8\n",
      "******************************\n",
      "******************************\n",
      "Column:  time\n",
      "dtype before:  float64\n",
      "dtype after:  float32\n",
      "******************************\n",
      "******************************\n",
      "Column:  seat\n",
      "dtype before:  int64\n",
      "dtype after:  uint8\n",
      "******************************\n",
      "******************************\n",
      "Column:  eeg_fp1\n",
      "dtype before:  float64\n",
      "dtype after:  float32\n",
      "******************************\n",
      "******************************\n",
      "Column:  eeg_f7\n",
      "dtype before:  float64\n",
      "dtype after:  float32\n",
      "******************************\n",
      "******************************\n",
      "Column:  eeg_f8\n",
      "dtype before:  float64\n",
      "dtype after:  float32\n",
      "******************************\n",
      "******************************\n",
      "Column:  eeg_t4\n",
      "dtype before:  float64\n",
      "dtype after:  float32\n",
      "******************************\n",
      "******************************\n",
      "Column:  eeg_t6\n",
      "dtype before:  float64\n",
      "dtype after:  float32\n",
      "******************************\n",
      "******************************\n",
      "Column:  eeg_t5\n",
      "dtype before:  float64\n",
      "dtype after:  float32\n",
      "******************************\n",
      "******************************\n",
      "Column:  eeg_t3\n",
      "dtype before:  float64\n",
      "dtype after:  float32\n",
      "******************************\n",
      "******************************\n",
      "Column:  eeg_fp2\n",
      "dtype before:  float64\n",
      "dtype after:  float32\n",
      "******************************\n",
      "******************************\n",
      "Column:  eeg_o1\n",
      "dtype before:  float64\n",
      "dtype after:  float32\n",
      "******************************\n",
      "******************************\n",
      "Column:  eeg_p3\n",
      "dtype before:  float64\n",
      "dtype after:  float32\n",
      "******************************\n",
      "******************************\n",
      "Column:  eeg_pz\n",
      "dtype before:  float64\n",
      "dtype after:  float32\n",
      "******************************\n",
      "******************************\n",
      "Column:  eeg_f3\n",
      "dtype before:  float64\n",
      "dtype after:  float32\n",
      "******************************\n",
      "******************************\n",
      "Column:  eeg_fz\n",
      "dtype before:  float64\n",
      "dtype after:  float32\n",
      "******************************\n",
      "******************************\n",
      "Column:  eeg_f4\n",
      "dtype before:  float64\n",
      "dtype after:  float32\n",
      "******************************\n",
      "******************************\n",
      "Column:  eeg_c4\n",
      "dtype before:  float64\n",
      "dtype after:  float32\n",
      "******************************\n",
      "******************************\n",
      "Column:  eeg_p4\n",
      "dtype before:  float64\n",
      "dtype after:  float32\n",
      "******************************\n",
      "******************************\n",
      "Column:  eeg_poz\n",
      "dtype before:  float64\n",
      "dtype after:  float32\n",
      "******************************\n",
      "******************************\n",
      "Column:  eeg_c3\n",
      "dtype before:  float64\n",
      "dtype after:  float32\n",
      "******************************\n",
      "******************************\n",
      "Column:  eeg_cz\n",
      "dtype before:  float64\n",
      "dtype after:  float32\n",
      "******************************\n",
      "******************************\n",
      "Column:  eeg_o2\n",
      "dtype before:  float64\n",
      "dtype after:  float32\n",
      "******************************\n",
      "******************************\n",
      "Column:  ecg\n",
      "dtype before:  float64\n",
      "dtype after:  float32\n",
      "******************************\n",
      "******************************\n",
      "Column:  r\n",
      "dtype before:  float64\n",
      "dtype after:  float32\n",
      "******************************\n",
      "******************************\n",
      "Column:  gsr\n",
      "dtype before:  float64\n",
      "dtype after:  float32\n",
      "******************************\n",
      "___MEMORY USAGE AFTER COMPLETION:___\n",
      "Memory usage is:  529.180643081665  MB\n",
      "This is  50.8928629079679 % of the initial size\n"
     ]
    }
   ],
   "source": [
    "train = reduce_mem_usage(train)"
   ]
  },
  {
   "cell_type": "code",
   "execution_count": 22,
   "metadata": {
    "colab": {
     "base_uri": "https://localhost:8080/"
    },
    "id": "z95nQBOshMg1",
    "outputId": "4ac8db29-e40f-42c5-9849-aab5c2769f00"
   },
   "outputs": [
    {
     "name": "stdout",
     "output_type": "stream",
     "text": [
      "Archive:  test.csv.zip\n",
      "  inflating: test/test.csv           \n"
     ]
    }
   ],
   "source": [
    "! unzip test.csv.zip -d test"
   ]
  },
  {
   "cell_type": "code",
   "execution_count": 12,
   "metadata": {
    "id": "VwmLnamThONO"
   },
   "outputs": [],
   "source": [
    "kaggle_test = pd.read_csv('/content/test/test.csv')"
   ]
  },
  {
   "cell_type": "code",
   "execution_count": 13,
   "metadata": {
    "colab": {
     "base_uri": "https://localhost:8080/"
    },
    "id": "9sm87CijhQNH",
    "outputId": "adb8e241-60e8-40a1-ce7f-75032a2281b7"
   },
   "outputs": [
    {
     "name": "stdout",
     "output_type": "stream",
     "text": [
      "Memory usage of properties dataframe is : 3837.7687072753906  MB\n",
      "******************************\n",
      "Column:  id\n",
      "dtype before:  int64\n",
      "dtype after:  uint32\n",
      "******************************\n",
      "******************************\n",
      "Column:  crew\n",
      "dtype before:  int64\n",
      "dtype after:  uint8\n",
      "******************************\n",
      "******************************\n",
      "Column:  time\n",
      "dtype before:  float64\n",
      "dtype after:  float32\n",
      "******************************\n",
      "******************************\n",
      "Column:  seat\n",
      "dtype before:  int64\n",
      "dtype after:  uint8\n",
      "******************************\n",
      "******************************\n",
      "Column:  eeg_fp1\n",
      "dtype before:  float64\n",
      "dtype after:  float32\n",
      "******************************\n",
      "******************************\n",
      "Column:  eeg_f7\n",
      "dtype before:  float64\n",
      "dtype after:  float32\n",
      "******************************\n",
      "******************************\n",
      "Column:  eeg_f8\n",
      "dtype before:  float64\n",
      "dtype after:  float32\n",
      "******************************\n",
      "******************************\n",
      "Column:  eeg_t4\n",
      "dtype before:  float64\n",
      "dtype after:  float32\n",
      "******************************\n",
      "******************************\n",
      "Column:  eeg_t6\n",
      "dtype before:  float64\n",
      "dtype after:  float32\n",
      "******************************\n",
      "******************************\n",
      "Column:  eeg_t5\n",
      "dtype before:  float64\n",
      "dtype after:  float32\n",
      "******************************\n",
      "******************************\n",
      "Column:  eeg_t3\n",
      "dtype before:  float64\n",
      "dtype after:  float32\n",
      "******************************\n",
      "******************************\n",
      "Column:  eeg_fp2\n",
      "dtype before:  float64\n",
      "dtype after:  float32\n",
      "******************************\n",
      "******************************\n",
      "Column:  eeg_o1\n",
      "dtype before:  float64\n",
      "dtype after:  float32\n",
      "******************************\n",
      "******************************\n",
      "Column:  eeg_p3\n",
      "dtype before:  float64\n",
      "dtype after:  float32\n",
      "******************************\n",
      "******************************\n",
      "Column:  eeg_pz\n",
      "dtype before:  float64\n",
      "dtype after:  float32\n",
      "******************************\n",
      "******************************\n",
      "Column:  eeg_f3\n",
      "dtype before:  float64\n",
      "dtype after:  float32\n",
      "******************************\n",
      "******************************\n",
      "Column:  eeg_fz\n",
      "dtype before:  float64\n",
      "dtype after:  float32\n",
      "******************************\n",
      "******************************\n",
      "Column:  eeg_f4\n",
      "dtype before:  float64\n",
      "dtype after:  float32\n",
      "******************************\n",
      "******************************\n",
      "Column:  eeg_c4\n",
      "dtype before:  float64\n",
      "dtype after:  float32\n",
      "******************************\n",
      "******************************\n",
      "Column:  eeg_p4\n",
      "dtype before:  float64\n",
      "dtype after:  float32\n",
      "******************************\n",
      "******************************\n",
      "Column:  eeg_poz\n",
      "dtype before:  float64\n",
      "dtype after:  float32\n",
      "******************************\n",
      "******************************\n",
      "Column:  eeg_c3\n",
      "dtype before:  float64\n",
      "dtype after:  float32\n",
      "******************************\n",
      "******************************\n",
      "Column:  eeg_cz\n",
      "dtype before:  float64\n",
      "dtype after:  float32\n",
      "******************************\n",
      "******************************\n",
      "Column:  eeg_o2\n",
      "dtype before:  float64\n",
      "dtype after:  float32\n",
      "******************************\n",
      "******************************\n",
      "Column:  ecg\n",
      "dtype before:  float64\n",
      "dtype after:  float32\n",
      "******************************\n",
      "******************************\n",
      "Column:  r\n",
      "dtype before:  float64\n",
      "dtype after:  float32\n",
      "******************************\n",
      "******************************\n",
      "Column:  gsr\n",
      "dtype before:  float64\n",
      "dtype after:  float32\n",
      "******************************\n",
      "___MEMORY USAGE AFTER COMPLETION:___\n",
      "Memory usage is:  1884.6186237335205  MB\n",
      "This is  49.10714447592383 % of the initial size\n"
     ]
    }
   ],
   "source": [
    "kaggle_test = reduce_mem_usage(kaggle_test)"
   ]
  },
  {
   "cell_type": "code",
   "execution_count": 16,
   "metadata": {
    "colab": {
     "base_uri": "https://localhost:8080/"
    },
    "id": "IsKs1lmthSGf",
    "outputId": "479404f9-1e8d-4ff2-8fac-3380be80d59f"
   },
   "outputs": [
    {
     "name": "stdout",
     "output_type": "stream",
     "text": [
      "<class 'pandas.core.frame.DataFrame'>\n",
      "RangeIndex: 4867421 entries, 0 to 4867420\n",
      "Data columns (total 28 columns):\n",
      " #   Column      Non-Null Count    Dtype  \n",
      "---  ------      --------------    -----  \n",
      " 0   crew        4867421 non-null  uint8  \n",
      " 1   experiment  4867421 non-null  object \n",
      " 2   time        4867421 non-null  float32\n",
      " 3   seat        4867421 non-null  uint8  \n",
      " 4   eeg_fp1     4867421 non-null  float32\n",
      " 5   eeg_f7      4867421 non-null  float32\n",
      " 6   eeg_f8      4867421 non-null  float32\n",
      " 7   eeg_t4      4867421 non-null  float32\n",
      " 8   eeg_t6      4867421 non-null  float32\n",
      " 9   eeg_t5      4867421 non-null  float32\n",
      " 10  eeg_t3      4867421 non-null  float32\n",
      " 11  eeg_fp2     4867421 non-null  float32\n",
      " 12  eeg_o1      4867421 non-null  float32\n",
      " 13  eeg_p3      4867421 non-null  float32\n",
      " 14  eeg_pz      4867421 non-null  float32\n",
      " 15  eeg_f3      4867421 non-null  float32\n",
      " 16  eeg_fz      4867421 non-null  float32\n",
      " 17  eeg_f4      4867421 non-null  float32\n",
      " 18  eeg_c4      4867421 non-null  float32\n",
      " 19  eeg_p4      4867421 non-null  float32\n",
      " 20  eeg_poz     4867421 non-null  float32\n",
      " 21  eeg_c3      4867421 non-null  float32\n",
      " 22  eeg_cz      4867421 non-null  float32\n",
      " 23  eeg_o2      4867421 non-null  float32\n",
      " 24  ecg         4867421 non-null  float32\n",
      " 25  r           4867421 non-null  float32\n",
      " 26  gsr         4867421 non-null  float32\n",
      " 27  event       4867421 non-null  object \n",
      "dtypes: float32(24), object(2), uint8(2)\n",
      "memory usage: 529.2+ MB\n",
      "*************************************************************************************\n",
      "<class 'pandas.core.frame.DataFrame'>\n",
      "RangeIndex: 17965143 entries, 0 to 17965142\n",
      "Data columns (total 28 columns):\n",
      " #   Column      Non-Null Count     Dtype  \n",
      "---  ------      --------------     -----  \n",
      " 0   id          17965143 non-null  uint32 \n",
      " 1   crew        17965143 non-null  uint8  \n",
      " 2   experiment  17965143 non-null  object \n",
      " 3   time        17965143 non-null  float32\n",
      " 4   seat        17965143 non-null  uint8  \n",
      " 5   eeg_fp1     17965143 non-null  float32\n",
      " 6   eeg_f7      17965143 non-null  float32\n",
      " 7   eeg_f8      17965143 non-null  float32\n",
      " 8   eeg_t4      17965143 non-null  float32\n",
      " 9   eeg_t6      17965143 non-null  float32\n",
      " 10  eeg_t5      17965143 non-null  float32\n",
      " 11  eeg_t3      17965143 non-null  float32\n",
      " 12  eeg_fp2     17965143 non-null  float32\n",
      " 13  eeg_o1      17965143 non-null  float32\n",
      " 14  eeg_p3      17965143 non-null  float32\n",
      " 15  eeg_pz      17965143 non-null  float32\n",
      " 16  eeg_f3      17965143 non-null  float32\n",
      " 17  eeg_fz      17965143 non-null  float32\n",
      " 18  eeg_f4      17965143 non-null  float32\n",
      " 19  eeg_c4      17965143 non-null  float32\n",
      " 20  eeg_p4      17965143 non-null  float32\n",
      " 21  eeg_poz     17965143 non-null  float32\n",
      " 22  eeg_c3      17965143 non-null  float32\n",
      " 23  eeg_cz      17965143 non-null  float32\n",
      " 24  eeg_o2      17965143 non-null  float32\n",
      " 25  ecg         17965143 non-null  float32\n",
      " 26  r           17965143 non-null  float32\n",
      " 27  gsr         17965143 non-null  float32\n",
      "dtypes: float32(24), object(1), uint32(1), uint8(2)\n",
      "memory usage: 1.8+ GB\n"
     ]
    }
   ],
   "source": [
    "# Checking datatypes and null/missing values in all the columns\n",
    " \n",
    "train.info(verbose=True,null_counts=True)\n",
    "\n",
    "print(\"*************************************************************************************\")\n",
    "\n",
    "kaggle_test.info(verbose=True,null_counts=True)"
   ]
  },
  {
   "cell_type": "code",
   "execution_count": 17,
   "metadata": {
    "colab": {
     "base_uri": "https://localhost:8080/"
    },
    "id": "CkJI6dWKhUf7",
    "outputId": "7246cbd1-5c7a-4962-9b6f-9d163062be55"
   },
   "outputs": [
    {
     "data": {
      "text/plain": [
       "<pandas.core.groupby.generic.DataFrameGroupBy object at 0x7f1da6b91990>"
      ]
     },
     "execution_count": 17,
     "metadata": {
      "tags": []
     },
     "output_type": "execute_result"
    }
   ],
   "source": [
    "# Feature Engineering - NOISE REMOVAL \n",
    "train.sort_values([\"crew\",\"time\"],ascending=True).groupby(\"experiment\") # Sorting the values w.r.t experiment\n",
    "\n",
    "kaggle_test.sort_values([\"crew\",\"time\"],ascending=True).groupby(\"experiment\") # Sorting the values w.r.t experiment"
   ]
  },
  {
   "cell_type": "code",
   "execution_count": 18,
   "metadata": {
    "id": "NTa39OJohXdu"
   },
   "outputs": [],
   "source": [
    "import scipy.signal as signal\n",
    "# https://stackoverflow.com/questions/35588782/how-to-average-a-signal-to-remove-noise-with-python\n",
    "def noise_removal(noisy_data,Wn):\n",
    "    N = 3\n",
    "    B, A = signal.butter(N, Wn)\n",
    "    return signal.filtfilt(B,A, noisy_data)"
   ]
  },
  {
   "cell_type": "code",
   "execution_count": 19,
   "metadata": {
    "id": "e26qCPDDhZnI"
   },
   "outputs": [],
   "source": [
    "ca=train[train[\"experiment\"]==\"CA\"]\n",
    "\n",
    "w = 0.1 # cutoff frequency- 10*the maximum possible frequency (10Hz or 100 beats per minute)\n",
    "train['smoothened_ecg_data'] = noise_removal(train[\"ecg\"],w) # Adding the smoothened data to the train dataset\n",
    "\n",
    "kaggle_test['smoothened_ecg_data'] = noise_removal(kaggle_test[\"ecg\"],w) "
   ]
  },
  {
   "cell_type": "code",
   "execution_count": 20,
   "metadata": {
    "id": "_IZSS_-WhjLf"
   },
   "outputs": [],
   "source": [
    "# Noise Removal in GSR data\n",
    "\n",
    "w = 0.7 # cutoff frequency- 10*the maximum possible frequency (10Hz or 100 beats per minute)\n",
    "train['smoothened_gsr_data'] = noise_removal(train[\"gsr\"],w) # Adding the smoothened data to the train dataset\n",
    " \n",
    "kaggle_test['smoothened_gsr_data'] = noise_removal(kaggle_test[\"gsr\"],w) "
   ]
  },
  {
   "cell_type": "code",
   "execution_count": 21,
   "metadata": {
    "id": "J6konVdvhk23"
   },
   "outputs": [],
   "source": [
    "# Noise Removal in Respiration data\n",
    "\n",
    "w = 0.7 # cutoff frequency- 10*the maximum possible frequency (10Hz or 100 beats per minute)\n",
    "train['smoothened_r_data'] = noise_removal(train[\"r\"],w) # Adding the smoothened data to the train dataset\n",
    "\n",
    "kaggle_test['smoothened_r_data'] = noise_removal(kaggle_test[\"r\"],w) "
   ]
  },
  {
   "cell_type": "code",
   "execution_count": 22,
   "metadata": {
    "id": "5vdWb1FChmXb"
   },
   "outputs": [],
   "source": [
    "# Noise Removal in EEG data in TRAIN DATA\n",
    "\n",
    "w = 0.7 # cutoff frequency- 10*the maximum possible frequency (10Hz or 100 beats per minute)\n",
    "feats = [\"eeg_fp1\",\"eeg_f7\",\"eeg_f8\",\"eeg_t4\",\"eeg_t6\",\"eeg_t5\",\"eeg_t3\",\"eeg_fp2\",\"eeg_o1\",\"eeg_p3\",\"eeg_pz\",\"eeg_f3\",\"eeg_fz\",\"eeg_f4\",\"eeg_c4\",\"eeg_p4\",\"eeg_poz\",\"eeg_c3\",\"eeg_cz\",\"eeg_o2\"]\n",
    "train['smoothened_eeg_fp1'] =  noise_removal(train['eeg_fp1'],w)# Adding the smoothened data to the train dataset"
   ]
  },
  {
   "cell_type": "code",
   "execution_count": 23,
   "metadata": {
    "id": "NYOxkZKPhofF"
   },
   "outputs": [],
   "source": [
    "train['smoothened_eeg_f7'] = noise_removal(train['eeg_f7'],w)"
   ]
  },
  {
   "cell_type": "code",
   "execution_count": 15,
   "metadata": {
    "id": "7DXKTfythqxz"
   },
   "outputs": [],
   "source": [
    "train['smoothened_eeg_f8'] = noise_removal(train['eeg_f8'],w)"
   ]
  },
  {
   "cell_type": "code",
   "execution_count": 16,
   "metadata": {
    "id": "0kd0EJX4hsYO"
   },
   "outputs": [],
   "source": [
    "train['smoothened_eeg_t4'] = noise_removal(train['eeg_t4'],w) "
   ]
  },
  {
   "cell_type": "code",
   "execution_count": 17,
   "metadata": {
    "id": "NG9Dh-5jhuHU"
   },
   "outputs": [],
   "source": [
    "train['smoothened_eeg_t6'] = noise_removal(train['eeg_t6'],w)"
   ]
  },
  {
   "cell_type": "code",
   "execution_count": 18,
   "metadata": {
    "id": "RTL6CaCahv89"
   },
   "outputs": [],
   "source": [
    "train['smoothened_eeg_t5'] = noise_removal(train['eeg_t5'],w)"
   ]
  },
  {
   "cell_type": "code",
   "execution_count": 19,
   "metadata": {
    "id": "ycM25wTlhxyg"
   },
   "outputs": [],
   "source": [
    "train['smoothened_eeg_t3'] = noise_removal(train['eeg_t3'],w)"
   ]
  },
  {
   "cell_type": "code",
   "execution_count": 20,
   "metadata": {
    "id": "cNKTAsGhhzpX"
   },
   "outputs": [],
   "source": [
    "train['smoothened_eeg_fp2'] = noise_removal(train['eeg_fp2'],w) "
   ]
  },
  {
   "cell_type": "code",
   "execution_count": 21,
   "metadata": {
    "id": "ZHw8addjh1v7"
   },
   "outputs": [],
   "source": [
    "train['smoothened_eeg_o1'] = noise_removal(train['eeg_o1'],w)"
   ]
  },
  {
   "cell_type": "code",
   "execution_count": 22,
   "metadata": {
    "id": "bNGvJZmCh3kh"
   },
   "outputs": [],
   "source": [
    "train['smoothened_eeg_p3'] = noise_removal(train['eeg_p3'],w)"
   ]
  },
  {
   "cell_type": "code",
   "execution_count": 23,
   "metadata": {
    "id": "wXmP7U7rh5cP"
   },
   "outputs": [],
   "source": [
    "train['smoothened_eeg_pz'] = noise_removal(train['eeg_pz'],w) "
   ]
  },
  {
   "cell_type": "code",
   "execution_count": 24,
   "metadata": {
    "id": "8eBo7vUZh6-n"
   },
   "outputs": [],
   "source": [
    "train['smoothened_eeg_f3'] = noise_removal(train['eeg_f3'],w)"
   ]
  },
  {
   "cell_type": "code",
   "execution_count": 25,
   "metadata": {
    "id": "KpXf5_Gth9Be"
   },
   "outputs": [],
   "source": [
    "train['smoothened_eeg_fz'] = noise_removal(train['eeg_fz'],w)"
   ]
  },
  {
   "cell_type": "code",
   "execution_count": 26,
   "metadata": {
    "id": "UehfdQShh_MD"
   },
   "outputs": [],
   "source": [
    "train['smoothened_eeg_f4'] = noise_removal(train['eeg_f4'],w)"
   ]
  },
  {
   "cell_type": "code",
   "execution_count": 27,
   "metadata": {
    "id": "yxEJsRIyiZr2"
   },
   "outputs": [],
   "source": [
    "train['smoothened_eeg_c4'] = noise_removal(train['eeg_c4'],w)"
   ]
  },
  {
   "cell_type": "code",
   "execution_count": 28,
   "metadata": {
    "id": "LJ6F5kU_ic4T"
   },
   "outputs": [],
   "source": [
    "train['smoothened_eeg_p4'] = noise_removal(train['eeg_p4'],w)"
   ]
  },
  {
   "cell_type": "code",
   "execution_count": 29,
   "metadata": {
    "id": "YvmsFpH4ievq"
   },
   "outputs": [],
   "source": [
    "train['smoothened_eeg_poz'] = noise_removal(train['eeg_poz'],w)"
   ]
  },
  {
   "cell_type": "code",
   "execution_count": 30,
   "metadata": {
    "id": "ngSnQgz_ijeq"
   },
   "outputs": [],
   "source": [
    "train['smoothened_eeg_c3'] = noise_removal(train['eeg_c3'],w)"
   ]
  },
  {
   "cell_type": "code",
   "execution_count": 31,
   "metadata": {
    "id": "PcaEnGBLilCW"
   },
   "outputs": [],
   "source": [
    "train['smoothened_eeg_cz'] = noise_removal(train['eeg_cz'],w)"
   ]
  },
  {
   "cell_type": "code",
   "execution_count": 32,
   "metadata": {
    "id": "Ie8OZX8qimtZ"
   },
   "outputs": [],
   "source": [
    "train['smoothened_eeg_o2'] = noise_removal(train['eeg_o2'],w)"
   ]
  },
  {
   "cell_type": "code",
   "execution_count": 24,
   "metadata": {
    "id": "bPefF_E8ioac"
   },
   "outputs": [],
   "source": [
    "# Noise Removal in EEG data in TEST DATA\n",
    "\n",
    "kaggle_test['smoothened_eeg_fp1'] = noise_removal(kaggle_test['eeg_fp1'],w)"
   ]
  },
  {
   "cell_type": "code",
   "execution_count": 25,
   "metadata": {
    "id": "2k5JG9Y-ir3t"
   },
   "outputs": [],
   "source": [
    "kaggle_test['smoothened_eeg_f7'] = noise_removal(kaggle_test['eeg_f7'],w)"
   ]
  },
  {
   "cell_type": "code",
   "execution_count": 26,
   "metadata": {
    "id": "9bKRN_h8itgH"
   },
   "outputs": [],
   "source": [
    "kaggle_test['smoothened_eeg_f8'] = noise_removal(kaggle_test['eeg_f8'],w)"
   ]
  },
  {
   "cell_type": "code",
   "execution_count": 27,
   "metadata": {
    "id": "RI2VWKADivT8"
   },
   "outputs": [],
   "source": [
    "kaggle_test['smoothened_eeg_t4'] = noise_removal(kaggle_test['eeg_t4'],w)"
   ]
  },
  {
   "cell_type": "code",
   "execution_count": 28,
   "metadata": {
    "id": "cPa4mv1xiwx8"
   },
   "outputs": [],
   "source": [
    "kaggle_test['smoothened_eeg_t6'] = noise_removal(kaggle_test['eeg_t6'],w)"
   ]
  },
  {
   "cell_type": "code",
   "execution_count": 29,
   "metadata": {
    "id": "VTEipvjxiyop"
   },
   "outputs": [],
   "source": [
    "kaggle_test['smoothened_eeg_t5'] = noise_removal(kaggle_test['eeg_t5'],w)"
   ]
  },
  {
   "cell_type": "code",
   "execution_count": 30,
   "metadata": {
    "id": "YHUC5d4Gi0fC"
   },
   "outputs": [],
   "source": [
    "kaggle_test['smoothened_eeg_t3'] = noise_removal(kaggle_test['eeg_t3'],w)"
   ]
  },
  {
   "cell_type": "code",
   "execution_count": 31,
   "metadata": {
    "id": "sD38Pjopi2FQ"
   },
   "outputs": [],
   "source": [
    "kaggle_test['smoothened_eeg_fp2'] = noise_removal(kaggle_test['eeg_fp2'],w)"
   ]
  },
  {
   "cell_type": "code",
   "execution_count": 32,
   "metadata": {
    "id": "jShl_tqwi3qw"
   },
   "outputs": [],
   "source": [
    "kaggle_test['smoothened_eeg_o1'] = noise_removal(kaggle_test['eeg_o1'],w)"
   ]
  },
  {
   "cell_type": "code",
   "execution_count": 33,
   "metadata": {
    "id": "LPmbtch8i5F3"
   },
   "outputs": [],
   "source": [
    "kaggle_test['smoothened_eeg_p3'] = noise_removal(kaggle_test['eeg_p3'],w)"
   ]
  },
  {
   "cell_type": "code",
   "execution_count": 34,
   "metadata": {
    "id": "1x9WYooTi6zm"
   },
   "outputs": [],
   "source": [
    "kaggle_test['smoothened_eeg_pz'] = noise_removal(kaggle_test['eeg_pz'],w)"
   ]
  },
  {
   "cell_type": "code",
   "execution_count": 35,
   "metadata": {
    "id": "jQhaR36_i8vM"
   },
   "outputs": [],
   "source": [
    "kaggle_test['smoothened_eeg_f3'] = noise_removal(kaggle_test['eeg_f3'],w)"
   ]
  },
  {
   "cell_type": "code",
   "execution_count": 36,
   "metadata": {
    "id": "KwSRBJ0Pi-gt"
   },
   "outputs": [],
   "source": [
    "kaggle_test['smoothened_eeg_fz'] = noise_removal(kaggle_test['eeg_fz'],w)"
   ]
  },
  {
   "cell_type": "code",
   "execution_count": 37,
   "metadata": {
    "id": "rddl_J4ZjA2L"
   },
   "outputs": [],
   "source": [
    "kaggle_test['smoothened_eeg_f4'] = noise_removal(kaggle_test['eeg_f4'],w)"
   ]
  },
  {
   "cell_type": "code",
   "execution_count": 38,
   "metadata": {
    "id": "CimogIlFjCuI"
   },
   "outputs": [],
   "source": [
    "kaggle_test['smoothened_eeg_c4'] = noise_removal(kaggle_test['eeg_c4'],w)"
   ]
  },
  {
   "cell_type": "code",
   "execution_count": 39,
   "metadata": {
    "id": "8HQgktzajEa6"
   },
   "outputs": [],
   "source": [
    "kaggle_test['smoothened_eeg_p4'] = noise_removal(kaggle_test['eeg_p4'],w)"
   ]
  },
  {
   "cell_type": "code",
   "execution_count": 40,
   "metadata": {
    "id": "vYanq6KEjGCX"
   },
   "outputs": [],
   "source": [
    "kaggle_test['smoothened_eeg_poz'] = noise_removal(kaggle_test['eeg_poz'],w)"
   ]
  },
  {
   "cell_type": "code",
   "execution_count": 41,
   "metadata": {
    "id": "ALD5qxZ6jH11"
   },
   "outputs": [],
   "source": [
    "kaggle_test['smoothened_eeg_c3'] = noise_removal(kaggle_test['eeg_c3'],w)"
   ]
  },
  {
   "cell_type": "code",
   "execution_count": 42,
   "metadata": {
    "id": "C9I_rdA0jJkW"
   },
   "outputs": [],
   "source": [
    "kaggle_test['smoothened_eeg_cz'] = noise_removal(kaggle_test['eeg_cz'],w)"
   ]
  },
  {
   "cell_type": "code",
   "execution_count": 43,
   "metadata": {
    "id": "JmvLBfkcjLHb"
   },
   "outputs": [],
   "source": [
    "kaggle_test['smoothened_eeg_o2'] = noise_removal(kaggle_test['eeg_o2'],w)"
   ]
  },
  {
   "cell_type": "code",
   "execution_count": 44,
   "metadata": {
    "id": "furiNb1hjM0r"
   },
   "outputs": [],
   "source": [
    "# Normalizing the EEG features in TRAIN DATASET\n",
    "\n",
    "#df_train = pd.read_csv('E:/BOOKS_NEW/Cases datasets/1st/reducing-commercial-aviation-fatalities/train_after_smoothening.csv')\n",
    "df_train = train\n",
    "scaler = MinMaxScaler()\n",
    "df_train[['smoothened_eeg_fp1']] = scaler.fit_transform(df_train[['smoothened_eeg_fp1']])"
   ]
  },
  {
   "cell_type": "code",
   "execution_count": 45,
   "metadata": {
    "id": "H7S_T3bpjOiT"
   },
   "outputs": [],
   "source": [
    "df_train[['smoothened_eeg_f7']] = scaler.fit_transform(df_train[['smoothened_eeg_f7']])"
   ]
  },
  {
   "cell_type": "code",
   "execution_count": 55,
   "metadata": {
    "id": "vsbIzVSgjSsD"
   },
   "outputs": [],
   "source": [
    "df_train[['smoothened_eeg_f8']] = scaler.fit_transform(df_train[['smoothened_eeg_f8']])"
   ]
  },
  {
   "cell_type": "code",
   "execution_count": 56,
   "metadata": {
    "id": "4iAwIo6wjUYU"
   },
   "outputs": [],
   "source": [
    "df_train[['smoothened_eeg_t6']] = scaler.fit_transform(df_train[['smoothened_eeg_t6']])"
   ]
  },
  {
   "cell_type": "code",
   "execution_count": 57,
   "metadata": {
    "id": "vSScJ7oxjV5_"
   },
   "outputs": [],
   "source": [
    "df_train[['smoothened_eeg_t4']] = scaler.fit_transform(df_train[['smoothened_eeg_t4']])"
   ]
  },
  {
   "cell_type": "code",
   "execution_count": 58,
   "metadata": {
    "id": "dZ21S9R8jXiv"
   },
   "outputs": [],
   "source": [
    "df_train[['smoothened_eeg_t5']] = scaler.fit_transform(df_train[['smoothened_eeg_t5']])"
   ]
  },
  {
   "cell_type": "code",
   "execution_count": 59,
   "metadata": {
    "id": "ddeUhgUBjZED"
   },
   "outputs": [],
   "source": [
    "df_train[['smoothened_eeg_t3']] = scaler.fit_transform(df_train[['smoothened_eeg_t3']])"
   ]
  },
  {
   "cell_type": "code",
   "execution_count": 60,
   "metadata": {
    "id": "WjkC423kjarU"
   },
   "outputs": [],
   "source": [
    "df_train[['smoothened_eeg_fp2']] = scaler.fit_transform(df_train[['smoothened_eeg_fp2']])"
   ]
  },
  {
   "cell_type": "code",
   "execution_count": 61,
   "metadata": {
    "id": "ow1i6vS_jcHE"
   },
   "outputs": [],
   "source": [
    "df_train[['smoothened_eeg_o1']] = scaler.fit_transform(df_train[['smoothened_eeg_o1']])"
   ]
  },
  {
   "cell_type": "code",
   "execution_count": 62,
   "metadata": {
    "id": "nf1wL2R2jfuF"
   },
   "outputs": [],
   "source": [
    "df_train[['smoothened_eeg_p3']] = scaler.fit_transform(df_train[['smoothened_eeg_p3']])"
   ]
  },
  {
   "cell_type": "code",
   "execution_count": 63,
   "metadata": {
    "id": "jXXeRpVHjgbO"
   },
   "outputs": [],
   "source": [
    "df_train[['smoothened_eeg_pz']] = scaler.fit_transform(df_train[['smoothened_eeg_pz']])"
   ]
  },
  {
   "cell_type": "code",
   "execution_count": 64,
   "metadata": {
    "id": "HcUS1puCjiU2"
   },
   "outputs": [],
   "source": [
    "df_train[['smoothened_eeg_f3']] = scaler.fit_transform(df_train[['smoothened_eeg_f3']])"
   ]
  },
  {
   "cell_type": "code",
   "execution_count": 65,
   "metadata": {
    "id": "6KZKJA6EjkG9"
   },
   "outputs": [],
   "source": [
    "df_train[['smoothened_eeg_fz']] = scaler.fit_transform(df_train[['smoothened_eeg_fz']])"
   ]
  },
  {
   "cell_type": "code",
   "execution_count": 66,
   "metadata": {
    "id": "aXruSgh5jluy"
   },
   "outputs": [],
   "source": [
    "df_train[['smoothened_eeg_f4']] = scaler.fit_transform(df_train[['smoothened_eeg_f4']])"
   ]
  },
  {
   "cell_type": "code",
   "execution_count": 67,
   "metadata": {
    "id": "XGklTynCjnEd"
   },
   "outputs": [],
   "source": [
    "df_train[['smoothened_eeg_c4']] = scaler.fit_transform(df_train[['smoothened_eeg_c4']])"
   ]
  },
  {
   "cell_type": "code",
   "execution_count": 68,
   "metadata": {
    "id": "26oBjY-7joqx"
   },
   "outputs": [],
   "source": [
    "df_train[['smoothened_eeg_p4']] = scaler.fit_transform(df_train[['smoothened_eeg_p4']])"
   ]
  },
  {
   "cell_type": "code",
   "execution_count": 69,
   "metadata": {
    "id": "tqClVdDVjqYo"
   },
   "outputs": [],
   "source": [
    "df_train[['smoothened_eeg_poz']] = scaler.fit_transform(df_train[['smoothened_eeg_poz']])"
   ]
  },
  {
   "cell_type": "code",
   "execution_count": 70,
   "metadata": {
    "id": "xMBR_qTqjr3t"
   },
   "outputs": [],
   "source": [
    "df_train[['smoothened_eeg_c3']] = scaler.fit_transform(df_train[['smoothened_eeg_c3']])"
   ]
  },
  {
   "cell_type": "code",
   "execution_count": 71,
   "metadata": {
    "id": "FOMyBf53jtlh"
   },
   "outputs": [],
   "source": [
    "df_train[['smoothened_eeg_cz']] = scaler.fit_transform(df_train[['smoothened_eeg_cz']])"
   ]
  },
  {
   "cell_type": "code",
   "execution_count": 72,
   "metadata": {
    "id": "CtXUEWHwjvC1"
   },
   "outputs": [],
   "source": [
    "df_train[['smoothened_eeg_o2']] = scaler.fit_transform(df_train[['smoothened_eeg_o2']])"
   ]
  },
  {
   "cell_type": "code",
   "execution_count": 46,
   "metadata": {
    "id": "iDlEDtZqjwpw"
   },
   "outputs": [],
   "source": [
    "# Normalizing the EEG features in TEST DATASET\n",
    "\n",
    "df_test = kaggle_test\n",
    "df_test[['smoothened_eeg_fp1']] = scaler.fit_transform(df_test[['smoothened_eeg_fp1']])"
   ]
  },
  {
   "cell_type": "code",
   "execution_count": 47,
   "metadata": {
    "id": "lBr0uxKpjyu-"
   },
   "outputs": [],
   "source": [
    "df_test[['smoothened_eeg_f7']] = scaler.fit_transform(df_test[['smoothened_eeg_f7']])"
   ]
  },
  {
   "cell_type": "code",
   "execution_count": 48,
   "metadata": {
    "id": "gTaClRVyj0Wp"
   },
   "outputs": [],
   "source": [
    "df_test[['smoothened_eeg_f8']] = scaler.fit_transform(df_test[['smoothened_eeg_f8']])"
   ]
  },
  {
   "cell_type": "code",
   "execution_count": 49,
   "metadata": {
    "id": "Y5lg-0Vej2Jh"
   },
   "outputs": [],
   "source": [
    "df_test[['smoothened_eeg_t6']] = scaler.fit_transform(df_test[['smoothened_eeg_t6']])"
   ]
  },
  {
   "cell_type": "code",
   "execution_count": 50,
   "metadata": {
    "id": "-k3cpW_pj3se"
   },
   "outputs": [],
   "source": [
    "df_test[['smoothened_eeg_t4']] = scaler.fit_transform(df_test[['smoothened_eeg_t4']])"
   ]
  },
  {
   "cell_type": "code",
   "execution_count": 51,
   "metadata": {
    "id": "Tpu-Uov0j5Fs"
   },
   "outputs": [],
   "source": [
    "df_test[['smoothened_eeg_t5']] = scaler.fit_transform(df_test[['smoothened_eeg_t5']])"
   ]
  },
  {
   "cell_type": "code",
   "execution_count": 52,
   "metadata": {
    "id": "jN1YjWKkj6rp"
   },
   "outputs": [],
   "source": [
    "df_test[['smoothened_eeg_t3']] = scaler.fit_transform(df_test[['smoothened_eeg_t3']])"
   ]
  },
  {
   "cell_type": "code",
   "execution_count": 53,
   "metadata": {
    "id": "6Ic9itkKj8N6"
   },
   "outputs": [],
   "source": [
    "df_test[['smoothened_eeg_fp2']] = scaler.fit_transform(df_test[['smoothened_eeg_fp2']])"
   ]
  },
  {
   "cell_type": "code",
   "execution_count": 54,
   "metadata": {
    "id": "vENKsuuBj_Ll"
   },
   "outputs": [],
   "source": [
    "df_test[['smoothened_eeg_o1']] = scaler.fit_transform(df_test[['smoothened_eeg_o1']])"
   ]
  },
  {
   "cell_type": "code",
   "execution_count": 55,
   "metadata": {
    "id": "1houdCfUkBIk"
   },
   "outputs": [],
   "source": [
    "df_test[['smoothened_eeg_p3']] = scaler.fit_transform(df_test[['smoothened_eeg_p3']])"
   ]
  },
  {
   "cell_type": "code",
   "execution_count": 56,
   "metadata": {
    "id": "tUU4yg-skCu-"
   },
   "outputs": [],
   "source": [
    "df_test[['smoothened_eeg_pz']] = scaler.fit_transform(df_test[['smoothened_eeg_pz']])"
   ]
  },
  {
   "cell_type": "code",
   "execution_count": 57,
   "metadata": {
    "id": "fgH3wCqkkEZj"
   },
   "outputs": [],
   "source": [
    "df_test[['smoothened_eeg_f3']] = scaler.fit_transform(df_test[['smoothened_eeg_f3']])"
   ]
  },
  {
   "cell_type": "code",
   "execution_count": 58,
   "metadata": {
    "id": "q56pulnCkGX7"
   },
   "outputs": [],
   "source": [
    "df_test[['smoothened_eeg_fz']] = scaler.fit_transform(df_test[['smoothened_eeg_fz']])"
   ]
  },
  {
   "cell_type": "code",
   "execution_count": 59,
   "metadata": {
    "id": "aNhAw7UdkH6j"
   },
   "outputs": [],
   "source": [
    "df_test[['smoothened_eeg_f4']] = scaler.fit_transform(df_test[['smoothened_eeg_f4']])"
   ]
  },
  {
   "cell_type": "code",
   "execution_count": 60,
   "metadata": {
    "id": "DmPwKV68kJko"
   },
   "outputs": [],
   "source": [
    "df_test[['smoothened_eeg_c4']] = scaler.fit_transform(df_test[['smoothened_eeg_c4']])"
   ]
  },
  {
   "cell_type": "code",
   "execution_count": 61,
   "metadata": {
    "id": "rrVVGUwZkK_0"
   },
   "outputs": [],
   "source": [
    "df_test[['smoothened_eeg_p4']] = scaler.fit_transform(df_test[['smoothened_eeg_p4']])"
   ]
  },
  {
   "cell_type": "code",
   "execution_count": 62,
   "metadata": {
    "id": "fYh_qUhikMaV"
   },
   "outputs": [],
   "source": [
    "df_test[['smoothened_eeg_poz']] = scaler.fit_transform(df_test[['smoothened_eeg_poz']])"
   ]
  },
  {
   "cell_type": "code",
   "execution_count": 63,
   "metadata": {
    "id": "sD4vrabekNxv"
   },
   "outputs": [],
   "source": [
    "df_test[['smoothened_eeg_c3']] = scaler.fit_transform(df_test[['smoothened_eeg_c3']])"
   ]
  },
  {
   "cell_type": "code",
   "execution_count": 64,
   "metadata": {
    "id": "HNlcy3W-kPgb"
   },
   "outputs": [],
   "source": [
    "df_test[['smoothened_eeg_cz']] = scaler.fit_transform(df_test[['smoothened_eeg_cz']])"
   ]
  },
  {
   "cell_type": "code",
   "execution_count": 65,
   "metadata": {
    "id": "JhFLnstRkRMW"
   },
   "outputs": [],
   "source": [
    "df_test[['smoothened_eeg_o2']] = scaler.fit_transform(df_test[['smoothened_eeg_o2']])"
   ]
  },
  {
   "cell_type": "code",
   "execution_count": 66,
   "metadata": {
    "id": "heEf0wnXkS-m"
   },
   "outputs": [],
   "source": [
    "# Normalizing the SMOOTHENED ECG data of TRAIN AND TEST DATASET\n",
    "\n",
    "df_train[['smoothened_ecg_data']] = scaler.fit_transform(df_train[['smoothened_ecg_data']])\n",
    "\n",
    "df_test[['smoothened_ecg_data']] = scaler.fit_transform(df_test[['smoothened_ecg_data']])"
   ]
  },
  {
   "cell_type": "code",
   "execution_count": 67,
   "metadata": {
    "id": "9D5OREcvkU4h"
   },
   "outputs": [],
   "source": [
    "# Normalizing the SMOOTHENED R data of TRAIN AND TEST DATASET\n",
    "\n",
    "df_train[['smoothened_r_data']] = scaler.fit_transform(df_train[['smoothened_r_data']])\n",
    "\n",
    "df_test[['smoothened_r_data']] = scaler.fit_transform(df_test[['smoothened_r_data']])"
   ]
  },
  {
   "cell_type": "code",
   "execution_count": 68,
   "metadata": {
    "id": "fUltpUhKkW3U"
   },
   "outputs": [],
   "source": [
    "# Normalizing the SMOOTHENED GSR data of TRAIN AND TEST DATASET\n",
    "\n",
    "df_train[['smoothened_gsr_data']] = scaler.fit_transform(df_train[['smoothened_gsr_data']])\n",
    "\n",
    "df_test[['smoothened_gsr_data']] = scaler.fit_transform(df_test[['smoothened_gsr_data']])"
   ]
  },
  {
   "cell_type": "code",
   "execution_count": 69,
   "metadata": {
    "colab": {
     "base_uri": "https://localhost:8080/"
    },
    "id": "i0SjjA0vkYVS",
    "outputId": "302c0ea8-2b98-4dd1-a941-3e3a4ef7579b"
   },
   "outputs": [
    {
     "name": "stdout",
     "output_type": "stream",
     "text": [
      "Features :  ['crew' 'experiment' 'time' 'seat' 'eeg_fp1' 'eeg_f7' 'eeg_f8' 'eeg_t4'\n",
      " 'eeg_t6' 'eeg_t5' 'eeg_t3' 'eeg_fp2' 'eeg_o1' 'eeg_p3' 'eeg_pz' 'eeg_f3'\n",
      " 'eeg_fz' 'eeg_f4' 'eeg_c4' 'eeg_p4' 'eeg_poz' 'eeg_c3' 'eeg_cz' 'eeg_o2'\n",
      " 'ecg' 'r' 'gsr' 'event' 'smoothened_ecg_data' 'smoothened_gsr_data'\n",
      " 'smoothened_r_data' 'smoothened_eeg_fp1' 'smoothened_eeg_f7']\n",
      "Features :  ['id' 'crew' 'experiment' 'time' 'seat' 'eeg_fp1' 'eeg_f7' 'eeg_f8'\n",
      " 'eeg_t4' 'eeg_t6' 'eeg_t5' 'eeg_t3' 'eeg_fp2' 'eeg_o1' 'eeg_p3' 'eeg_pz'\n",
      " 'eeg_f3' 'eeg_fz' 'eeg_f4' 'eeg_c4' 'eeg_p4' 'eeg_poz' 'eeg_c3' 'eeg_cz'\n",
      " 'eeg_o2' 'ecg' 'r' 'gsr' 'smoothened_ecg_data' 'smoothened_gsr_data'\n",
      " 'smoothened_r_data' 'smoothened_eeg_fp1' 'smoothened_eeg_f7'\n",
      " 'smoothened_eeg_f8' 'smoothened_eeg_t4' 'smoothened_eeg_t6'\n",
      " 'smoothened_eeg_t5' 'smoothened_eeg_t3' 'smoothened_eeg_fp2'\n",
      " 'smoothened_eeg_o1' 'smoothened_eeg_p3' 'smoothened_eeg_pz'\n",
      " 'smoothened_eeg_f3' 'smoothened_eeg_fz' 'smoothened_eeg_f4'\n",
      " 'smoothened_eeg_c4' 'smoothened_eeg_p4' 'smoothened_eeg_poz'\n",
      " 'smoothened_eeg_c3' 'smoothened_eeg_cz' 'smoothened_eeg_o2']\n"
     ]
    }
   ],
   "source": [
    "# Dropping features\n",
    "\n",
    "print('Features : ', df_train.columns.values)\n",
    "\n",
    "print('Features : ', df_test.columns.values)"
   ]
  },
  {
   "cell_type": "code",
   "execution_count": 70,
   "metadata": {
    "id": "F-1EYHn5kao8"
   },
   "outputs": [],
   "source": [
    "df_train = df_train.drop([\"eeg_fp1\",\"eeg_f7\",\"eeg_f8\",\"eeg_t4\",\"eeg_t6\",\"eeg_t5\",\"eeg_t3\",\"eeg_o1\",\"eeg_p3\",\"eeg_pz\",\"eeg_f3\",\"eeg_fz\",\"eeg_f4\",\"eeg_c4\",\"eeg_p4\",\"eeg_poz\",\"eeg_c3\",\"eeg_cz\",\"eeg_o2\",\"r\",\"gsr\",\"ecg\",\"eeg_fp2\"],axis=1)\n",
    "\n",
    "df_test = df_test.drop([\"eeg_fp1\",\"eeg_f7\",\"eeg_f8\",\"eeg_t4\",\"eeg_t6\",\"eeg_t5\",\"eeg_t3\",\"eeg_o1\",\"eeg_p3\",\"eeg_pz\",\"eeg_f3\",\"eeg_fz\",\"eeg_f4\",\"eeg_c4\",\"eeg_p4\",\"eeg_poz\",\"eeg_c3\",\"eeg_cz\",\"eeg_o2\",\"r\",\"gsr\",\"ecg\",\"eeg_fp2\"],axis=1)\n"
   ]
  },
  {
   "cell_type": "code",
   "execution_count": 71,
   "metadata": {
    "colab": {
     "base_uri": "https://localhost:8080/"
    },
    "id": "iFdK6x6vkdZL",
    "outputId": "5b5d2284-7a02-4ab1-93f8-702586632eed"
   },
   "outputs": [
    {
     "name": "stdout",
     "output_type": "stream",
     "text": [
      "Features :  ['crew' 'experiment' 'time' 'seat' 'event' 'smoothened_ecg_data'\n",
      " 'smoothened_gsr_data' 'smoothened_r_data' 'smoothened_eeg_fp1'\n",
      " 'smoothened_eeg_f7']\n",
      "Features :  ['id' 'crew' 'experiment' 'time' 'seat' 'smoothened_ecg_data'\n",
      " 'smoothened_gsr_data' 'smoothened_r_data' 'smoothened_eeg_fp1'\n",
      " 'smoothened_eeg_f7' 'smoothened_eeg_f8' 'smoothened_eeg_t4'\n",
      " 'smoothened_eeg_t6' 'smoothened_eeg_t5' 'smoothened_eeg_t3'\n",
      " 'smoothened_eeg_fp2' 'smoothened_eeg_o1' 'smoothened_eeg_p3'\n",
      " 'smoothened_eeg_pz' 'smoothened_eeg_f3' 'smoothened_eeg_fz'\n",
      " 'smoothened_eeg_f4' 'smoothened_eeg_c4' 'smoothened_eeg_p4'\n",
      " 'smoothened_eeg_poz' 'smoothened_eeg_c3' 'smoothened_eeg_cz'\n",
      " 'smoothened_eeg_o2']\n"
     ]
    }
   ],
   "source": [
    "print('Features : ', df_train.columns.values)\n",
    "\n",
    "print('Features : ', df_test.columns.values)\n"
   ]
  },
  {
   "cell_type": "code",
   "execution_count": 99,
   "metadata": {
    "colab": {
     "base_uri": "https://localhost:8080/"
    },
    "id": "MPCFVRoZkfLd",
    "outputId": "a94cf4af-11ff-464e-d47a-0b784bc129aa"
   },
   "outputs": [
    {
     "data": {
      "text/plain": [
       "(4867421, 28)"
      ]
     },
     "execution_count": 99,
     "metadata": {
      "tags": []
     },
     "output_type": "execute_result"
    }
   ],
   "source": [
    "df_train.shape"
   ]
  },
  {
   "cell_type": "code",
   "execution_count": 72,
   "metadata": {
    "colab": {
     "base_uri": "https://localhost:8080/"
    },
    "id": "24CwyvJIkhoy",
    "outputId": "ace124d7-e193-4ec5-8334-da074a6e6a3d"
   },
   "outputs": [
    {
     "data": {
      "text/plain": [
       "(17965143, 28)"
      ]
     },
     "execution_count": 72,
     "metadata": {
      "tags": []
     },
     "output_type": "execute_result"
    }
   ],
   "source": [
    "df_test.shape"
   ]
  },
  {
   "cell_type": "code",
   "execution_count": 101,
   "metadata": {
    "colab": {
     "base_uri": "https://localhost:8080/",
     "height": 422
    },
    "id": "7XeLmK96kkya",
    "outputId": "e49240cb-2312-4f48-e698-59c8fc6b5160"
   },
   "outputs": [
    {
     "data": {
      "text/html": [
       "<div>\n",
       "<style scoped>\n",
       "    .dataframe tbody tr th:only-of-type {\n",
       "        vertical-align: middle;\n",
       "    }\n",
       "\n",
       "    .dataframe tbody tr th {\n",
       "        vertical-align: top;\n",
       "    }\n",
       "\n",
       "    .dataframe thead th {\n",
       "        text-align: right;\n",
       "    }\n",
       "</style>\n",
       "<table border=\"1\" class=\"dataframe\">\n",
       "  <thead>\n",
       "    <tr style=\"text-align: right;\">\n",
       "      <th></th>\n",
       "      <th>crew</th>\n",
       "      <th>experiment</th>\n",
       "      <th>time</th>\n",
       "      <th>seat</th>\n",
       "      <th>event</th>\n",
       "      <th>smoothened_ecg_data</th>\n",
       "      <th>smoothened_gsr_data</th>\n",
       "      <th>smoothened_r_data</th>\n",
       "      <th>smoothened_eeg_fp1</th>\n",
       "      <th>smoothened_eeg_f7</th>\n",
       "      <th>smoothened_eeg_f8</th>\n",
       "      <th>smoothened_eeg_t4</th>\n",
       "      <th>smoothened_eeg_t6</th>\n",
       "      <th>smoothened_eeg_t5</th>\n",
       "      <th>smoothened_eeg_t3</th>\n",
       "      <th>smoothened_eeg_fp2</th>\n",
       "      <th>smoothened_eeg_o1</th>\n",
       "      <th>smoothened_eeg_p3</th>\n",
       "      <th>smoothened_eeg_pz</th>\n",
       "      <th>smoothened_eeg_f3</th>\n",
       "      <th>smoothened_eeg_fz</th>\n",
       "      <th>smoothened_eeg_f4</th>\n",
       "      <th>smoothened_eeg_c4</th>\n",
       "      <th>smoothened_eeg_p4</th>\n",
       "      <th>smoothened_eeg_poz</th>\n",
       "      <th>smoothened_eeg_c3</th>\n",
       "      <th>smoothened_eeg_cz</th>\n",
       "      <th>smoothened_eeg_o2</th>\n",
       "    </tr>\n",
       "  </thead>\n",
       "  <tbody>\n",
       "    <tr>\n",
       "      <th>0</th>\n",
       "      <td>1</td>\n",
       "      <td>0</td>\n",
       "      <td>0.011719</td>\n",
       "      <td>1</td>\n",
       "      <td>A</td>\n",
       "      <td>0.274755</td>\n",
       "      <td>0.330513</td>\n",
       "      <td>0.782286</td>\n",
       "      <td>0.422730</td>\n",
       "      <td>0.430899</td>\n",
       "      <td>0.449610</td>\n",
       "      <td>0.474881</td>\n",
       "      <td>0.497374</td>\n",
       "      <td>0.357974</td>\n",
       "      <td>0.345345</td>\n",
       "      <td>0.424435</td>\n",
       "      <td>0.639376</td>\n",
       "      <td>0.549713</td>\n",
       "      <td>0.482880</td>\n",
       "      <td>0.523979</td>\n",
       "      <td>0.523364</td>\n",
       "      <td>0.461031</td>\n",
       "      <td>0.567931</td>\n",
       "      <td>0.589564</td>\n",
       "      <td>0.331786</td>\n",
       "      <td>0.552896</td>\n",
       "      <td>0.495478</td>\n",
       "      <td>0.484320</td>\n",
       "    </tr>\n",
       "    <tr>\n",
       "      <th>1</th>\n",
       "      <td>1</td>\n",
       "      <td>0</td>\n",
       "      <td>0.015625</td>\n",
       "      <td>1</td>\n",
       "      <td>A</td>\n",
       "      <td>0.274762</td>\n",
       "      <td>0.330513</td>\n",
       "      <td>0.782286</td>\n",
       "      <td>0.424230</td>\n",
       "      <td>0.431652</td>\n",
       "      <td>0.450664</td>\n",
       "      <td>0.479395</td>\n",
       "      <td>0.496431</td>\n",
       "      <td>0.356368</td>\n",
       "      <td>0.344661</td>\n",
       "      <td>0.424796</td>\n",
       "      <td>0.638787</td>\n",
       "      <td>0.549741</td>\n",
       "      <td>0.483321</td>\n",
       "      <td>0.524945</td>\n",
       "      <td>0.523568</td>\n",
       "      <td>0.462672</td>\n",
       "      <td>0.555012</td>\n",
       "      <td>0.590890</td>\n",
       "      <td>0.332135</td>\n",
       "      <td>0.553995</td>\n",
       "      <td>0.499284</td>\n",
       "      <td>0.486074</td>\n",
       "    </tr>\n",
       "    <tr>\n",
       "      <th>2</th>\n",
       "      <td>1</td>\n",
       "      <td>0</td>\n",
       "      <td>0.019531</td>\n",
       "      <td>1</td>\n",
       "      <td>A</td>\n",
       "      <td>0.274775</td>\n",
       "      <td>0.330513</td>\n",
       "      <td>0.782286</td>\n",
       "      <td>0.427798</td>\n",
       "      <td>0.431640</td>\n",
       "      <td>0.454360</td>\n",
       "      <td>0.486551</td>\n",
       "      <td>0.497426</td>\n",
       "      <td>0.356931</td>\n",
       "      <td>0.345183</td>\n",
       "      <td>0.426211</td>\n",
       "      <td>0.639132</td>\n",
       "      <td>0.550483</td>\n",
       "      <td>0.483740</td>\n",
       "      <td>0.525433</td>\n",
       "      <td>0.523840</td>\n",
       "      <td>0.464316</td>\n",
       "      <td>0.535427</td>\n",
       "      <td>0.592171</td>\n",
       "      <td>0.333059</td>\n",
       "      <td>0.553731</td>\n",
       "      <td>0.500125</td>\n",
       "      <td>0.486987</td>\n",
       "    </tr>\n",
       "    <tr>\n",
       "      <th>3</th>\n",
       "      <td>1</td>\n",
       "      <td>0</td>\n",
       "      <td>0.023438</td>\n",
       "      <td>1</td>\n",
       "      <td>A</td>\n",
       "      <td>0.274795</td>\n",
       "      <td>0.330513</td>\n",
       "      <td>0.782286</td>\n",
       "      <td>0.428961</td>\n",
       "      <td>0.430984</td>\n",
       "      <td>0.453458</td>\n",
       "      <td>0.484914</td>\n",
       "      <td>0.500004</td>\n",
       "      <td>0.356892</td>\n",
       "      <td>0.344008</td>\n",
       "      <td>0.426920</td>\n",
       "      <td>0.639652</td>\n",
       "      <td>0.550179</td>\n",
       "      <td>0.484056</td>\n",
       "      <td>0.524927</td>\n",
       "      <td>0.524120</td>\n",
       "      <td>0.464164</td>\n",
       "      <td>0.542754</td>\n",
       "      <td>0.594125</td>\n",
       "      <td>0.333156</td>\n",
       "      <td>0.552512</td>\n",
       "      <td>0.500554</td>\n",
       "      <td>0.486514</td>\n",
       "    </tr>\n",
       "    <tr>\n",
       "      <th>4</th>\n",
       "      <td>1</td>\n",
       "      <td>0</td>\n",
       "      <td>0.027344</td>\n",
       "      <td>1</td>\n",
       "      <td>A</td>\n",
       "      <td>0.274822</td>\n",
       "      <td>0.330513</td>\n",
       "      <td>0.782286</td>\n",
       "      <td>0.427468</td>\n",
       "      <td>0.430294</td>\n",
       "      <td>0.451754</td>\n",
       "      <td>0.481264</td>\n",
       "      <td>0.499792</td>\n",
       "      <td>0.355245</td>\n",
       "      <td>0.343076</td>\n",
       "      <td>0.425932</td>\n",
       "      <td>0.640011</td>\n",
       "      <td>0.549292</td>\n",
       "      <td>0.484675</td>\n",
       "      <td>0.523754</td>\n",
       "      <td>0.524198</td>\n",
       "      <td>0.462932</td>\n",
       "      <td>0.544984</td>\n",
       "      <td>0.594965</td>\n",
       "      <td>0.333128</td>\n",
       "      <td>0.552229</td>\n",
       "      <td>0.499537</td>\n",
       "      <td>0.487844</td>\n",
       "    </tr>\n",
       "    <tr>\n",
       "      <th>...</th>\n",
       "      <td>...</td>\n",
       "      <td>...</td>\n",
       "      <td>...</td>\n",
       "      <td>...</td>\n",
       "      <td>...</td>\n",
       "      <td>...</td>\n",
       "      <td>...</td>\n",
       "      <td>...</td>\n",
       "      <td>...</td>\n",
       "      <td>...</td>\n",
       "      <td>...</td>\n",
       "      <td>...</td>\n",
       "      <td>...</td>\n",
       "      <td>...</td>\n",
       "      <td>...</td>\n",
       "      <td>...</td>\n",
       "      <td>...</td>\n",
       "      <td>...</td>\n",
       "      <td>...</td>\n",
       "      <td>...</td>\n",
       "      <td>...</td>\n",
       "      <td>...</td>\n",
       "      <td>...</td>\n",
       "      <td>...</td>\n",
       "      <td>...</td>\n",
       "      <td>...</td>\n",
       "      <td>...</td>\n",
       "      <td>...</td>\n",
       "    </tr>\n",
       "    <tr>\n",
       "      <th>4867416</th>\n",
       "      <td>13</td>\n",
       "      <td>2</td>\n",
       "      <td>99.991005</td>\n",
       "      <td>1</td>\n",
       "      <td>A</td>\n",
       "      <td>0.165976</td>\n",
       "      <td>0.408233</td>\n",
       "      <td>0.570142</td>\n",
       "      <td>0.406293</td>\n",
       "      <td>0.410275</td>\n",
       "      <td>0.444856</td>\n",
       "      <td>0.468627</td>\n",
       "      <td>0.461702</td>\n",
       "      <td>0.335867</td>\n",
       "      <td>0.323032</td>\n",
       "      <td>0.413629</td>\n",
       "      <td>0.628792</td>\n",
       "      <td>0.516156</td>\n",
       "      <td>0.477754</td>\n",
       "      <td>0.485500</td>\n",
       "      <td>0.519751</td>\n",
       "      <td>0.449000</td>\n",
       "      <td>0.544560</td>\n",
       "      <td>0.565472</td>\n",
       "      <td>0.319350</td>\n",
       "      <td>0.532427</td>\n",
       "      <td>0.477813</td>\n",
       "      <td>0.473767</td>\n",
       "    </tr>\n",
       "    <tr>\n",
       "      <th>4867417</th>\n",
       "      <td>13</td>\n",
       "      <td>2</td>\n",
       "      <td>99.993004</td>\n",
       "      <td>0</td>\n",
       "      <td>A</td>\n",
       "      <td>0.173328</td>\n",
       "      <td>0.413440</td>\n",
       "      <td>0.592765</td>\n",
       "      <td>0.412573</td>\n",
       "      <td>0.429870</td>\n",
       "      <td>0.438919</td>\n",
       "      <td>0.471314</td>\n",
       "      <td>0.465288</td>\n",
       "      <td>0.322181</td>\n",
       "      <td>0.342384</td>\n",
       "      <td>0.418668</td>\n",
       "      <td>0.628168</td>\n",
       "      <td>0.510315</td>\n",
       "      <td>0.480649</td>\n",
       "      <td>0.493671</td>\n",
       "      <td>0.521919</td>\n",
       "      <td>0.466385</td>\n",
       "      <td>0.590118</td>\n",
       "      <td>0.556305</td>\n",
       "      <td>0.322173</td>\n",
       "      <td>0.574295</td>\n",
       "      <td>0.492802</td>\n",
       "      <td>0.472740</td>\n",
       "    </tr>\n",
       "    <tr>\n",
       "      <th>4867418</th>\n",
       "      <td>13</td>\n",
       "      <td>2</td>\n",
       "      <td>99.994003</td>\n",
       "      <td>1</td>\n",
       "      <td>A</td>\n",
       "      <td>0.181932</td>\n",
       "      <td>0.409904</td>\n",
       "      <td>0.577402</td>\n",
       "      <td>0.415645</td>\n",
       "      <td>0.420113</td>\n",
       "      <td>0.447909</td>\n",
       "      <td>0.478053</td>\n",
       "      <td>0.489744</td>\n",
       "      <td>0.342185</td>\n",
       "      <td>0.324024</td>\n",
       "      <td>0.422692</td>\n",
       "      <td>0.634907</td>\n",
       "      <td>0.554424</td>\n",
       "      <td>0.485860</td>\n",
       "      <td>0.497991</td>\n",
       "      <td>0.523764</td>\n",
       "      <td>0.465601</td>\n",
       "      <td>0.591356</td>\n",
       "      <td>0.601829</td>\n",
       "      <td>0.330958</td>\n",
       "      <td>0.602124</td>\n",
       "      <td>0.510355</td>\n",
       "      <td>0.483686</td>\n",
       "    </tr>\n",
       "    <tr>\n",
       "      <th>4867419</th>\n",
       "      <td>13</td>\n",
       "      <td>2</td>\n",
       "      <td>99.997002</td>\n",
       "      <td>0</td>\n",
       "      <td>A</td>\n",
       "      <td>0.191441</td>\n",
       "      <td>0.402409</td>\n",
       "      <td>0.544842</td>\n",
       "      <td>0.427258</td>\n",
       "      <td>0.413950</td>\n",
       "      <td>0.465341</td>\n",
       "      <td>0.489674</td>\n",
       "      <td>0.530587</td>\n",
       "      <td>0.372940</td>\n",
       "      <td>0.300882</td>\n",
       "      <td>0.435956</td>\n",
       "      <td>0.646575</td>\n",
       "      <td>0.635667</td>\n",
       "      <td>0.498135</td>\n",
       "      <td>0.506017</td>\n",
       "      <td>0.529700</td>\n",
       "      <td>0.486331</td>\n",
       "      <td>0.660487</td>\n",
       "      <td>0.694030</td>\n",
       "      <td>0.349476</td>\n",
       "      <td>0.681118</td>\n",
       "      <td>0.554426</td>\n",
       "      <td>0.503789</td>\n",
       "    </tr>\n",
       "    <tr>\n",
       "      <th>4867420</th>\n",
       "      <td>13</td>\n",
       "      <td>2</td>\n",
       "      <td>99.998001</td>\n",
       "      <td>1</td>\n",
       "      <td>A</td>\n",
       "      <td>0.201402</td>\n",
       "      <td>0.430926</td>\n",
       "      <td>0.668734</td>\n",
       "      <td>0.420241</td>\n",
       "      <td>0.409927</td>\n",
       "      <td>0.451285</td>\n",
       "      <td>0.481472</td>\n",
       "      <td>0.467080</td>\n",
       "      <td>0.335831</td>\n",
       "      <td>0.336392</td>\n",
       "      <td>0.424653</td>\n",
       "      <td>0.634675</td>\n",
       "      <td>0.537752</td>\n",
       "      <td>0.482884</td>\n",
       "      <td>0.518026</td>\n",
       "      <td>0.522021</td>\n",
       "      <td>0.458036</td>\n",
       "      <td>0.524826</td>\n",
       "      <td>0.582274</td>\n",
       "      <td>0.329346</td>\n",
       "      <td>0.541161</td>\n",
       "      <td>0.501008</td>\n",
       "      <td>0.480536</td>\n",
       "    </tr>\n",
       "  </tbody>\n",
       "</table>\n",
       "<p>4867421 rows × 28 columns</p>\n",
       "</div>"
      ],
      "text/plain": [
       "         crew  experiment  ...  smoothened_eeg_cz  smoothened_eeg_o2\n",
       "0           1           0  ...           0.495478           0.484320\n",
       "1           1           0  ...           0.499284           0.486074\n",
       "2           1           0  ...           0.500125           0.486987\n",
       "3           1           0  ...           0.500554           0.486514\n",
       "4           1           0  ...           0.499537           0.487844\n",
       "...       ...         ...  ...                ...                ...\n",
       "4867416    13           2  ...           0.477813           0.473767\n",
       "4867417    13           2  ...           0.492802           0.472740\n",
       "4867418    13           2  ...           0.510355           0.483686\n",
       "4867419    13           2  ...           0.554426           0.503789\n",
       "4867420    13           2  ...           0.501008           0.480536\n",
       "\n",
       "[4867421 rows x 28 columns]"
      ]
     },
     "execution_count": 101,
     "metadata": {
      "tags": []
     },
     "output_type": "execute_result"
    }
   ],
   "source": [
    "#EXPERIMENT and EVENTS features are in Alphabets,so we convert them into numericals.\n",
    "\n",
    "df_train['experiment'] = df_train['experiment'].map({'CA': 0, 'DA': 1, 'SS': 2, 'LOFT': 3})\n",
    "df_train[\"experiment\"] = df_train[\"experiment\"].astype('int8')\n",
    "df_train"
   ]
  },
  {
   "cell_type": "code",
   "execution_count": 102,
   "metadata": {
    "colab": {
     "base_uri": "https://localhost:8080/",
     "height": 422
    },
    "id": "IFNwIRziknPW",
    "outputId": "cab87b5d-6bdc-434c-a568-375e5b99107c"
   },
   "outputs": [
    {
     "data": {
      "text/html": [
       "<div>\n",
       "<style scoped>\n",
       "    .dataframe tbody tr th:only-of-type {\n",
       "        vertical-align: middle;\n",
       "    }\n",
       "\n",
       "    .dataframe tbody tr th {\n",
       "        vertical-align: top;\n",
       "    }\n",
       "\n",
       "    .dataframe thead th {\n",
       "        text-align: right;\n",
       "    }\n",
       "</style>\n",
       "<table border=\"1\" class=\"dataframe\">\n",
       "  <thead>\n",
       "    <tr style=\"text-align: right;\">\n",
       "      <th></th>\n",
       "      <th>crew</th>\n",
       "      <th>experiment</th>\n",
       "      <th>time</th>\n",
       "      <th>seat</th>\n",
       "      <th>event</th>\n",
       "      <th>smoothened_ecg_data</th>\n",
       "      <th>smoothened_gsr_data</th>\n",
       "      <th>smoothened_r_data</th>\n",
       "      <th>smoothened_eeg_fp1</th>\n",
       "      <th>smoothened_eeg_f7</th>\n",
       "      <th>smoothened_eeg_f8</th>\n",
       "      <th>smoothened_eeg_t4</th>\n",
       "      <th>smoothened_eeg_t6</th>\n",
       "      <th>smoothened_eeg_t5</th>\n",
       "      <th>smoothened_eeg_t3</th>\n",
       "      <th>smoothened_eeg_fp2</th>\n",
       "      <th>smoothened_eeg_o1</th>\n",
       "      <th>smoothened_eeg_p3</th>\n",
       "      <th>smoothened_eeg_pz</th>\n",
       "      <th>smoothened_eeg_f3</th>\n",
       "      <th>smoothened_eeg_fz</th>\n",
       "      <th>smoothened_eeg_f4</th>\n",
       "      <th>smoothened_eeg_c4</th>\n",
       "      <th>smoothened_eeg_p4</th>\n",
       "      <th>smoothened_eeg_poz</th>\n",
       "      <th>smoothened_eeg_c3</th>\n",
       "      <th>smoothened_eeg_cz</th>\n",
       "      <th>smoothened_eeg_o2</th>\n",
       "    </tr>\n",
       "  </thead>\n",
       "  <tbody>\n",
       "    <tr>\n",
       "      <th>0</th>\n",
       "      <td>1</td>\n",
       "      <td>0</td>\n",
       "      <td>0.011719</td>\n",
       "      <td>1</td>\n",
       "      <td>0</td>\n",
       "      <td>0.274755</td>\n",
       "      <td>0.330513</td>\n",
       "      <td>0.782286</td>\n",
       "      <td>0.422730</td>\n",
       "      <td>0.430899</td>\n",
       "      <td>0.449610</td>\n",
       "      <td>0.474881</td>\n",
       "      <td>0.497374</td>\n",
       "      <td>0.357974</td>\n",
       "      <td>0.345345</td>\n",
       "      <td>0.424435</td>\n",
       "      <td>0.639376</td>\n",
       "      <td>0.549713</td>\n",
       "      <td>0.482880</td>\n",
       "      <td>0.523979</td>\n",
       "      <td>0.523364</td>\n",
       "      <td>0.461031</td>\n",
       "      <td>0.567931</td>\n",
       "      <td>0.589564</td>\n",
       "      <td>0.331786</td>\n",
       "      <td>0.552896</td>\n",
       "      <td>0.495478</td>\n",
       "      <td>0.484320</td>\n",
       "    </tr>\n",
       "    <tr>\n",
       "      <th>1</th>\n",
       "      <td>1</td>\n",
       "      <td>0</td>\n",
       "      <td>0.015625</td>\n",
       "      <td>1</td>\n",
       "      <td>0</td>\n",
       "      <td>0.274762</td>\n",
       "      <td>0.330513</td>\n",
       "      <td>0.782286</td>\n",
       "      <td>0.424230</td>\n",
       "      <td>0.431652</td>\n",
       "      <td>0.450664</td>\n",
       "      <td>0.479395</td>\n",
       "      <td>0.496431</td>\n",
       "      <td>0.356368</td>\n",
       "      <td>0.344661</td>\n",
       "      <td>0.424796</td>\n",
       "      <td>0.638787</td>\n",
       "      <td>0.549741</td>\n",
       "      <td>0.483321</td>\n",
       "      <td>0.524945</td>\n",
       "      <td>0.523568</td>\n",
       "      <td>0.462672</td>\n",
       "      <td>0.555012</td>\n",
       "      <td>0.590890</td>\n",
       "      <td>0.332135</td>\n",
       "      <td>0.553995</td>\n",
       "      <td>0.499284</td>\n",
       "      <td>0.486074</td>\n",
       "    </tr>\n",
       "    <tr>\n",
       "      <th>2</th>\n",
       "      <td>1</td>\n",
       "      <td>0</td>\n",
       "      <td>0.019531</td>\n",
       "      <td>1</td>\n",
       "      <td>0</td>\n",
       "      <td>0.274775</td>\n",
       "      <td>0.330513</td>\n",
       "      <td>0.782286</td>\n",
       "      <td>0.427798</td>\n",
       "      <td>0.431640</td>\n",
       "      <td>0.454360</td>\n",
       "      <td>0.486551</td>\n",
       "      <td>0.497426</td>\n",
       "      <td>0.356931</td>\n",
       "      <td>0.345183</td>\n",
       "      <td>0.426211</td>\n",
       "      <td>0.639132</td>\n",
       "      <td>0.550483</td>\n",
       "      <td>0.483740</td>\n",
       "      <td>0.525433</td>\n",
       "      <td>0.523840</td>\n",
       "      <td>0.464316</td>\n",
       "      <td>0.535427</td>\n",
       "      <td>0.592171</td>\n",
       "      <td>0.333059</td>\n",
       "      <td>0.553731</td>\n",
       "      <td>0.500125</td>\n",
       "      <td>0.486987</td>\n",
       "    </tr>\n",
       "    <tr>\n",
       "      <th>3</th>\n",
       "      <td>1</td>\n",
       "      <td>0</td>\n",
       "      <td>0.023438</td>\n",
       "      <td>1</td>\n",
       "      <td>0</td>\n",
       "      <td>0.274795</td>\n",
       "      <td>0.330513</td>\n",
       "      <td>0.782286</td>\n",
       "      <td>0.428961</td>\n",
       "      <td>0.430984</td>\n",
       "      <td>0.453458</td>\n",
       "      <td>0.484914</td>\n",
       "      <td>0.500004</td>\n",
       "      <td>0.356892</td>\n",
       "      <td>0.344008</td>\n",
       "      <td>0.426920</td>\n",
       "      <td>0.639652</td>\n",
       "      <td>0.550179</td>\n",
       "      <td>0.484056</td>\n",
       "      <td>0.524927</td>\n",
       "      <td>0.524120</td>\n",
       "      <td>0.464164</td>\n",
       "      <td>0.542754</td>\n",
       "      <td>0.594125</td>\n",
       "      <td>0.333156</td>\n",
       "      <td>0.552512</td>\n",
       "      <td>0.500554</td>\n",
       "      <td>0.486514</td>\n",
       "    </tr>\n",
       "    <tr>\n",
       "      <th>4</th>\n",
       "      <td>1</td>\n",
       "      <td>0</td>\n",
       "      <td>0.027344</td>\n",
       "      <td>1</td>\n",
       "      <td>0</td>\n",
       "      <td>0.274822</td>\n",
       "      <td>0.330513</td>\n",
       "      <td>0.782286</td>\n",
       "      <td>0.427468</td>\n",
       "      <td>0.430294</td>\n",
       "      <td>0.451754</td>\n",
       "      <td>0.481264</td>\n",
       "      <td>0.499792</td>\n",
       "      <td>0.355245</td>\n",
       "      <td>0.343076</td>\n",
       "      <td>0.425932</td>\n",
       "      <td>0.640011</td>\n",
       "      <td>0.549292</td>\n",
       "      <td>0.484675</td>\n",
       "      <td>0.523754</td>\n",
       "      <td>0.524198</td>\n",
       "      <td>0.462932</td>\n",
       "      <td>0.544984</td>\n",
       "      <td>0.594965</td>\n",
       "      <td>0.333128</td>\n",
       "      <td>0.552229</td>\n",
       "      <td>0.499537</td>\n",
       "      <td>0.487844</td>\n",
       "    </tr>\n",
       "    <tr>\n",
       "      <th>...</th>\n",
       "      <td>...</td>\n",
       "      <td>...</td>\n",
       "      <td>...</td>\n",
       "      <td>...</td>\n",
       "      <td>...</td>\n",
       "      <td>...</td>\n",
       "      <td>...</td>\n",
       "      <td>...</td>\n",
       "      <td>...</td>\n",
       "      <td>...</td>\n",
       "      <td>...</td>\n",
       "      <td>...</td>\n",
       "      <td>...</td>\n",
       "      <td>...</td>\n",
       "      <td>...</td>\n",
       "      <td>...</td>\n",
       "      <td>...</td>\n",
       "      <td>...</td>\n",
       "      <td>...</td>\n",
       "      <td>...</td>\n",
       "      <td>...</td>\n",
       "      <td>...</td>\n",
       "      <td>...</td>\n",
       "      <td>...</td>\n",
       "      <td>...</td>\n",
       "      <td>...</td>\n",
       "      <td>...</td>\n",
       "      <td>...</td>\n",
       "    </tr>\n",
       "    <tr>\n",
       "      <th>4867416</th>\n",
       "      <td>13</td>\n",
       "      <td>2</td>\n",
       "      <td>99.991005</td>\n",
       "      <td>1</td>\n",
       "      <td>0</td>\n",
       "      <td>0.165976</td>\n",
       "      <td>0.408233</td>\n",
       "      <td>0.570142</td>\n",
       "      <td>0.406293</td>\n",
       "      <td>0.410275</td>\n",
       "      <td>0.444856</td>\n",
       "      <td>0.468627</td>\n",
       "      <td>0.461702</td>\n",
       "      <td>0.335867</td>\n",
       "      <td>0.323032</td>\n",
       "      <td>0.413629</td>\n",
       "      <td>0.628792</td>\n",
       "      <td>0.516156</td>\n",
       "      <td>0.477754</td>\n",
       "      <td>0.485500</td>\n",
       "      <td>0.519751</td>\n",
       "      <td>0.449000</td>\n",
       "      <td>0.544560</td>\n",
       "      <td>0.565472</td>\n",
       "      <td>0.319350</td>\n",
       "      <td>0.532427</td>\n",
       "      <td>0.477813</td>\n",
       "      <td>0.473767</td>\n",
       "    </tr>\n",
       "    <tr>\n",
       "      <th>4867417</th>\n",
       "      <td>13</td>\n",
       "      <td>2</td>\n",
       "      <td>99.993004</td>\n",
       "      <td>0</td>\n",
       "      <td>0</td>\n",
       "      <td>0.173328</td>\n",
       "      <td>0.413440</td>\n",
       "      <td>0.592765</td>\n",
       "      <td>0.412573</td>\n",
       "      <td>0.429870</td>\n",
       "      <td>0.438919</td>\n",
       "      <td>0.471314</td>\n",
       "      <td>0.465288</td>\n",
       "      <td>0.322181</td>\n",
       "      <td>0.342384</td>\n",
       "      <td>0.418668</td>\n",
       "      <td>0.628168</td>\n",
       "      <td>0.510315</td>\n",
       "      <td>0.480649</td>\n",
       "      <td>0.493671</td>\n",
       "      <td>0.521919</td>\n",
       "      <td>0.466385</td>\n",
       "      <td>0.590118</td>\n",
       "      <td>0.556305</td>\n",
       "      <td>0.322173</td>\n",
       "      <td>0.574295</td>\n",
       "      <td>0.492802</td>\n",
       "      <td>0.472740</td>\n",
       "    </tr>\n",
       "    <tr>\n",
       "      <th>4867418</th>\n",
       "      <td>13</td>\n",
       "      <td>2</td>\n",
       "      <td>99.994003</td>\n",
       "      <td>1</td>\n",
       "      <td>0</td>\n",
       "      <td>0.181932</td>\n",
       "      <td>0.409904</td>\n",
       "      <td>0.577402</td>\n",
       "      <td>0.415645</td>\n",
       "      <td>0.420113</td>\n",
       "      <td>0.447909</td>\n",
       "      <td>0.478053</td>\n",
       "      <td>0.489744</td>\n",
       "      <td>0.342185</td>\n",
       "      <td>0.324024</td>\n",
       "      <td>0.422692</td>\n",
       "      <td>0.634907</td>\n",
       "      <td>0.554424</td>\n",
       "      <td>0.485860</td>\n",
       "      <td>0.497991</td>\n",
       "      <td>0.523764</td>\n",
       "      <td>0.465601</td>\n",
       "      <td>0.591356</td>\n",
       "      <td>0.601829</td>\n",
       "      <td>0.330958</td>\n",
       "      <td>0.602124</td>\n",
       "      <td>0.510355</td>\n",
       "      <td>0.483686</td>\n",
       "    </tr>\n",
       "    <tr>\n",
       "      <th>4867419</th>\n",
       "      <td>13</td>\n",
       "      <td>2</td>\n",
       "      <td>99.997002</td>\n",
       "      <td>0</td>\n",
       "      <td>0</td>\n",
       "      <td>0.191441</td>\n",
       "      <td>0.402409</td>\n",
       "      <td>0.544842</td>\n",
       "      <td>0.427258</td>\n",
       "      <td>0.413950</td>\n",
       "      <td>0.465341</td>\n",
       "      <td>0.489674</td>\n",
       "      <td>0.530587</td>\n",
       "      <td>0.372940</td>\n",
       "      <td>0.300882</td>\n",
       "      <td>0.435956</td>\n",
       "      <td>0.646575</td>\n",
       "      <td>0.635667</td>\n",
       "      <td>0.498135</td>\n",
       "      <td>0.506017</td>\n",
       "      <td>0.529700</td>\n",
       "      <td>0.486331</td>\n",
       "      <td>0.660487</td>\n",
       "      <td>0.694030</td>\n",
       "      <td>0.349476</td>\n",
       "      <td>0.681118</td>\n",
       "      <td>0.554426</td>\n",
       "      <td>0.503789</td>\n",
       "    </tr>\n",
       "    <tr>\n",
       "      <th>4867420</th>\n",
       "      <td>13</td>\n",
       "      <td>2</td>\n",
       "      <td>99.998001</td>\n",
       "      <td>1</td>\n",
       "      <td>0</td>\n",
       "      <td>0.201402</td>\n",
       "      <td>0.430926</td>\n",
       "      <td>0.668734</td>\n",
       "      <td>0.420241</td>\n",
       "      <td>0.409927</td>\n",
       "      <td>0.451285</td>\n",
       "      <td>0.481472</td>\n",
       "      <td>0.467080</td>\n",
       "      <td>0.335831</td>\n",
       "      <td>0.336392</td>\n",
       "      <td>0.424653</td>\n",
       "      <td>0.634675</td>\n",
       "      <td>0.537752</td>\n",
       "      <td>0.482884</td>\n",
       "      <td>0.518026</td>\n",
       "      <td>0.522021</td>\n",
       "      <td>0.458036</td>\n",
       "      <td>0.524826</td>\n",
       "      <td>0.582274</td>\n",
       "      <td>0.329346</td>\n",
       "      <td>0.541161</td>\n",
       "      <td>0.501008</td>\n",
       "      <td>0.480536</td>\n",
       "    </tr>\n",
       "  </tbody>\n",
       "</table>\n",
       "<p>4867421 rows × 28 columns</p>\n",
       "</div>"
      ],
      "text/plain": [
       "         crew  experiment  ...  smoothened_eeg_cz  smoothened_eeg_o2\n",
       "0           1           0  ...           0.495478           0.484320\n",
       "1           1           0  ...           0.499284           0.486074\n",
       "2           1           0  ...           0.500125           0.486987\n",
       "3           1           0  ...           0.500554           0.486514\n",
       "4           1           0  ...           0.499537           0.487844\n",
       "...       ...         ...  ...                ...                ...\n",
       "4867416    13           2  ...           0.477813           0.473767\n",
       "4867417    13           2  ...           0.492802           0.472740\n",
       "4867418    13           2  ...           0.510355           0.483686\n",
       "4867419    13           2  ...           0.554426           0.503789\n",
       "4867420    13           2  ...           0.501008           0.480536\n",
       "\n",
       "[4867421 rows x 28 columns]"
      ]
     },
     "execution_count": 102,
     "metadata": {
      "tags": []
     },
     "output_type": "execute_result"
    }
   ],
   "source": [
    "df_train['event'] = df_train['event'].map({'A': 0, 'B': 1, 'C': 2, 'D': 3})\n",
    "df_train[\"event\"] = df_train[\"event\"].astype('int8')\n",
    "df_train"
   ]
  },
  {
   "cell_type": "code",
   "execution_count": 105,
   "metadata": {
    "id": "ez0gjet3krb2"
   },
   "outputs": [],
   "source": [
    "# Splitting the data\n",
    "\n",
    "import re\n",
    "df_train = df_train.rename(columns = lambda x:re.sub('[^A-Za-z0-9_]+', '', x))"
   ]
  },
  {
   "cell_type": "code",
   "execution_count": 106,
   "metadata": {
    "id": "5hd3eTABk2Ue"
   },
   "outputs": [],
   "source": [
    "train, cv = train_test_split(df_train, test_size=0.2, random_state=42, shuffle=True)"
   ]
  },
  {
   "cell_type": "code",
   "execution_count": 107,
   "metadata": {
    "id": "9jenTnYPlKTH"
   },
   "outputs": [],
   "source": [
    "x_train = train.loc[:, df_train.columns != 'event']\n",
    "y_train = train['event']\n",
    "\n",
    "x_cv = cv.loc[:, df_train.columns != 'event']\n",
    "y_cv = cv['event']"
   ]
  },
  {
   "cell_type": "code",
   "execution_count": 108,
   "metadata": {
    "colab": {
     "base_uri": "https://localhost:8080/"
    },
    "id": "c95xu6LclMYk",
    "outputId": "f177416c-b752-4b68-96ee-fe7498e378d5"
   },
   "outputs": [
    {
     "name": "stdout",
     "output_type": "stream",
     "text": [
      "(3893936, 27) (3893936,)\n",
      "(973485, 27) (973485,)\n",
      "-----------------------------------------------\n",
      "Features of x_train :  ['crew' 'experiment' 'time' 'seat' 'smoothened_ecg_data'\n",
      " 'smoothened_gsr_data' 'smoothened_r_data' 'smoothened_eeg_fp1'\n",
      " 'smoothened_eeg_f7' 'smoothened_eeg_f8' 'smoothened_eeg_t4'\n",
      " 'smoothened_eeg_t6' 'smoothened_eeg_t5' 'smoothened_eeg_t3'\n",
      " 'smoothened_eeg_fp2' 'smoothened_eeg_o1' 'smoothened_eeg_p3'\n",
      " 'smoothened_eeg_pz' 'smoothened_eeg_f3' 'smoothened_eeg_fz'\n",
      " 'smoothened_eeg_f4' 'smoothened_eeg_c4' 'smoothened_eeg_p4'\n",
      " 'smoothened_eeg_poz' 'smoothened_eeg_c3' 'smoothened_eeg_cz'\n",
      " 'smoothened_eeg_o2']\n",
      "Features of x_test:  ['crew' 'experiment' 'time' 'seat' 'smoothened_ecg_data'\n",
      " 'smoothened_gsr_data' 'smoothened_r_data' 'smoothened_eeg_fp1'\n",
      " 'smoothened_eeg_f7' 'smoothened_eeg_f8' 'smoothened_eeg_t4'\n",
      " 'smoothened_eeg_t6' 'smoothened_eeg_t5' 'smoothened_eeg_t3'\n",
      " 'smoothened_eeg_fp2' 'smoothened_eeg_o1' 'smoothened_eeg_p3'\n",
      " 'smoothened_eeg_pz' 'smoothened_eeg_f3' 'smoothened_eeg_fz'\n",
      " 'smoothened_eeg_f4' 'smoothened_eeg_c4' 'smoothened_eeg_p4'\n",
      " 'smoothened_eeg_poz' 'smoothened_eeg_c3' 'smoothened_eeg_cz'\n",
      " 'smoothened_eeg_o2']\n",
      "-----------------------------------------------\n",
      "Values of y_train:  [0 0 0 ... 2 0 2]\n",
      "Values of y_test:  [2 0 2 ... 0 3 2]\n"
     ]
    }
   ],
   "source": [
    "print(x_train.shape,y_train.shape)\n",
    "print(x_cv.shape,y_cv.shape)\n",
    "print('-----------------------------------------------')\n",
    "print('Features of x_train : ', x_train.columns.values)\n",
    "print('Features of x_test: ', x_cv.columns.values)\n",
    "print('-----------------------------------------------')\n",
    "print('Values of y_train: ', y_train.values)\n",
    "print('Values of y_test: ', y_cv.values)"
   ]
  },
  {
   "cell_type": "code",
   "execution_count": 73,
   "metadata": {
    "colab": {
     "base_uri": "https://localhost:8080/",
     "height": 422
    },
    "id": "yeYEqA5d0lH-",
    "outputId": "17081155-3eee-42c1-9e5c-8975b4601ecb"
   },
   "outputs": [
    {
     "data": {
      "text/html": [
       "<div>\n",
       "<style scoped>\n",
       "    .dataframe tbody tr th:only-of-type {\n",
       "        vertical-align: middle;\n",
       "    }\n",
       "\n",
       "    .dataframe tbody tr th {\n",
       "        vertical-align: top;\n",
       "    }\n",
       "\n",
       "    .dataframe thead th {\n",
       "        text-align: right;\n",
       "    }\n",
       "</style>\n",
       "<table border=\"1\" class=\"dataframe\">\n",
       "  <thead>\n",
       "    <tr style=\"text-align: right;\">\n",
       "      <th></th>\n",
       "      <th>id</th>\n",
       "      <th>crew</th>\n",
       "      <th>experiment</th>\n",
       "      <th>time</th>\n",
       "      <th>seat</th>\n",
       "      <th>smoothened_ecg_data</th>\n",
       "      <th>smoothened_gsr_data</th>\n",
       "      <th>smoothened_r_data</th>\n",
       "      <th>smoothened_eeg_fp1</th>\n",
       "      <th>smoothened_eeg_f7</th>\n",
       "      <th>smoothened_eeg_f8</th>\n",
       "      <th>smoothened_eeg_t4</th>\n",
       "      <th>smoothened_eeg_t6</th>\n",
       "      <th>smoothened_eeg_t5</th>\n",
       "      <th>smoothened_eeg_t3</th>\n",
       "      <th>smoothened_eeg_fp2</th>\n",
       "      <th>smoothened_eeg_o1</th>\n",
       "      <th>smoothened_eeg_p3</th>\n",
       "      <th>smoothened_eeg_pz</th>\n",
       "      <th>smoothened_eeg_f3</th>\n",
       "      <th>smoothened_eeg_fz</th>\n",
       "      <th>smoothened_eeg_f4</th>\n",
       "      <th>smoothened_eeg_c4</th>\n",
       "      <th>smoothened_eeg_p4</th>\n",
       "      <th>smoothened_eeg_poz</th>\n",
       "      <th>smoothened_eeg_c3</th>\n",
       "      <th>smoothened_eeg_cz</th>\n",
       "      <th>smoothened_eeg_o2</th>\n",
       "    </tr>\n",
       "  </thead>\n",
       "  <tbody>\n",
       "    <tr>\n",
       "      <th>0</th>\n",
       "      <td>0</td>\n",
       "      <td>1</td>\n",
       "      <td>3</td>\n",
       "      <td>0.000000</td>\n",
       "      <td>0</td>\n",
       "      <td>0.313174</td>\n",
       "      <td>0.373447</td>\n",
       "      <td>0.462570</td>\n",
       "      <td>0.474272</td>\n",
       "      <td>0.513928</td>\n",
       "      <td>0.500689</td>\n",
       "      <td>0.496480</td>\n",
       "      <td>0.490559</td>\n",
       "      <td>0.464126</td>\n",
       "      <td>0.498555</td>\n",
       "      <td>0.502582</td>\n",
       "      <td>0.506490</td>\n",
       "      <td>0.510029</td>\n",
       "      <td>0.504200</td>\n",
       "      <td>0.436139</td>\n",
       "      <td>0.592030</td>\n",
       "      <td>0.500570</td>\n",
       "      <td>0.522411</td>\n",
       "      <td>0.490369</td>\n",
       "      <td>0.502378</td>\n",
       "      <td>0.510679</td>\n",
       "      <td>0.550762</td>\n",
       "      <td>0.499552</td>\n",
       "    </tr>\n",
       "    <tr>\n",
       "      <th>1</th>\n",
       "      <td>1</td>\n",
       "      <td>1</td>\n",
       "      <td>3</td>\n",
       "      <td>0.000000</td>\n",
       "      <td>1</td>\n",
       "      <td>0.325051</td>\n",
       "      <td>0.222763</td>\n",
       "      <td>0.795883</td>\n",
       "      <td>0.478517</td>\n",
       "      <td>0.527595</td>\n",
       "      <td>0.503217</td>\n",
       "      <td>0.501186</td>\n",
       "      <td>0.499128</td>\n",
       "      <td>0.494793</td>\n",
       "      <td>0.505952</td>\n",
       "      <td>0.508152</td>\n",
       "      <td>0.463941</td>\n",
       "      <td>0.506583</td>\n",
       "      <td>0.504006</td>\n",
       "      <td>0.435868</td>\n",
       "      <td>0.654578</td>\n",
       "      <td>0.503784</td>\n",
       "      <td>0.492801</td>\n",
       "      <td>0.491179</td>\n",
       "      <td>0.503630</td>\n",
       "      <td>0.507526</td>\n",
       "      <td>0.722564</td>\n",
       "      <td>0.500204</td>\n",
       "    </tr>\n",
       "    <tr>\n",
       "      <th>2</th>\n",
       "      <td>2</td>\n",
       "      <td>1</td>\n",
       "      <td>3</td>\n",
       "      <td>0.003906</td>\n",
       "      <td>0</td>\n",
       "      <td>0.336437</td>\n",
       "      <td>0.263170</td>\n",
       "      <td>0.706503</td>\n",
       "      <td>0.479097</td>\n",
       "      <td>0.526616</td>\n",
       "      <td>0.502142</td>\n",
       "      <td>0.502670</td>\n",
       "      <td>0.497728</td>\n",
       "      <td>0.489084</td>\n",
       "      <td>0.509749</td>\n",
       "      <td>0.507182</td>\n",
       "      <td>0.475283</td>\n",
       "      <td>0.510167</td>\n",
       "      <td>0.504218</td>\n",
       "      <td>0.436200</td>\n",
       "      <td>0.636959</td>\n",
       "      <td>0.502688</td>\n",
       "      <td>0.502134</td>\n",
       "      <td>0.491943</td>\n",
       "      <td>0.504314</td>\n",
       "      <td>0.509403</td>\n",
       "      <td>0.676891</td>\n",
       "      <td>0.500480</td>\n",
       "    </tr>\n",
       "    <tr>\n",
       "      <th>3</th>\n",
       "      <td>3</td>\n",
       "      <td>1</td>\n",
       "      <td>3</td>\n",
       "      <td>0.003906</td>\n",
       "      <td>1</td>\n",
       "      <td>0.346810</td>\n",
       "      <td>0.280885</td>\n",
       "      <td>0.667317</td>\n",
       "      <td>0.476813</td>\n",
       "      <td>0.523177</td>\n",
       "      <td>0.501427</td>\n",
       "      <td>0.500525</td>\n",
       "      <td>0.496354</td>\n",
       "      <td>0.495680</td>\n",
       "      <td>0.504028</td>\n",
       "      <td>0.505372</td>\n",
       "      <td>0.478232</td>\n",
       "      <td>0.505907</td>\n",
       "      <td>0.504058</td>\n",
       "      <td>0.435581</td>\n",
       "      <td>0.628507</td>\n",
       "      <td>0.502683</td>\n",
       "      <td>0.504820</td>\n",
       "      <td>0.490889</td>\n",
       "      <td>0.502877</td>\n",
       "      <td>0.507123</td>\n",
       "      <td>0.655071</td>\n",
       "      <td>0.500309</td>\n",
       "    </tr>\n",
       "    <tr>\n",
       "      <th>4</th>\n",
       "      <td>4</td>\n",
       "      <td>1</td>\n",
       "      <td>3</td>\n",
       "      <td>0.007812</td>\n",
       "      <td>0</td>\n",
       "      <td>0.355785</td>\n",
       "      <td>0.252939</td>\n",
       "      <td>0.729133</td>\n",
       "      <td>0.474625</td>\n",
       "      <td>0.522696</td>\n",
       "      <td>0.499860</td>\n",
       "      <td>0.496698</td>\n",
       "      <td>0.498270</td>\n",
       "      <td>0.509234</td>\n",
       "      <td>0.498562</td>\n",
       "      <td>0.504119</td>\n",
       "      <td>0.468392</td>\n",
       "      <td>0.498870</td>\n",
       "      <td>0.503723</td>\n",
       "      <td>0.434366</td>\n",
       "      <td>0.639018</td>\n",
       "      <td>0.502323</td>\n",
       "      <td>0.496155</td>\n",
       "      <td>0.489115</td>\n",
       "      <td>0.500564</td>\n",
       "      <td>0.502736</td>\n",
       "      <td>0.685474</td>\n",
       "      <td>0.500152</td>\n",
       "    </tr>\n",
       "    <tr>\n",
       "      <th>...</th>\n",
       "      <td>...</td>\n",
       "      <td>...</td>\n",
       "      <td>...</td>\n",
       "      <td>...</td>\n",
       "      <td>...</td>\n",
       "      <td>...</td>\n",
       "      <td>...</td>\n",
       "      <td>...</td>\n",
       "      <td>...</td>\n",
       "      <td>...</td>\n",
       "      <td>...</td>\n",
       "      <td>...</td>\n",
       "      <td>...</td>\n",
       "      <td>...</td>\n",
       "      <td>...</td>\n",
       "      <td>...</td>\n",
       "      <td>...</td>\n",
       "      <td>...</td>\n",
       "      <td>...</td>\n",
       "      <td>...</td>\n",
       "      <td>...</td>\n",
       "      <td>...</td>\n",
       "      <td>...</td>\n",
       "      <td>...</td>\n",
       "      <td>...</td>\n",
       "      <td>...</td>\n",
       "      <td>...</td>\n",
       "      <td>...</td>\n",
       "    </tr>\n",
       "    <tr>\n",
       "      <th>17965138</th>\n",
       "      <td>17965138</td>\n",
       "      <td>13</td>\n",
       "      <td>3</td>\n",
       "      <td>999.988281</td>\n",
       "      <td>1</td>\n",
       "      <td>0.287655</td>\n",
       "      <td>0.277189</td>\n",
       "      <td>0.687062</td>\n",
       "      <td>0.478108</td>\n",
       "      <td>0.521922</td>\n",
       "      <td>0.508948</td>\n",
       "      <td>0.511599</td>\n",
       "      <td>0.513011</td>\n",
       "      <td>0.504679</td>\n",
       "      <td>0.516932</td>\n",
       "      <td>0.511052</td>\n",
       "      <td>0.505698</td>\n",
       "      <td>0.507158</td>\n",
       "      <td>0.502674</td>\n",
       "      <td>0.294957</td>\n",
       "      <td>0.591518</td>\n",
       "      <td>0.508124</td>\n",
       "      <td>0.529817</td>\n",
       "      <td>0.493836</td>\n",
       "      <td>0.506020</td>\n",
       "      <td>0.509850</td>\n",
       "      <td>0.554066</td>\n",
       "      <td>0.501523</td>\n",
       "    </tr>\n",
       "    <tr>\n",
       "      <th>17965139</th>\n",
       "      <td>17965139</td>\n",
       "      <td>13</td>\n",
       "      <td>3</td>\n",
       "      <td>999.992188</td>\n",
       "      <td>0</td>\n",
       "      <td>0.293241</td>\n",
       "      <td>0.298321</td>\n",
       "      <td>0.725826</td>\n",
       "      <td>0.476508</td>\n",
       "      <td>0.520809</td>\n",
       "      <td>0.507620</td>\n",
       "      <td>0.507758</td>\n",
       "      <td>0.507716</td>\n",
       "      <td>0.507924</td>\n",
       "      <td>0.515284</td>\n",
       "      <td>0.509742</td>\n",
       "      <td>0.505537</td>\n",
       "      <td>0.507059</td>\n",
       "      <td>0.502462</td>\n",
       "      <td>0.327362</td>\n",
       "      <td>0.591496</td>\n",
       "      <td>0.506519</td>\n",
       "      <td>0.528018</td>\n",
       "      <td>0.493027</td>\n",
       "      <td>0.505842</td>\n",
       "      <td>0.509082</td>\n",
       "      <td>0.552357</td>\n",
       "      <td>0.501552</td>\n",
       "    </tr>\n",
       "    <tr>\n",
       "      <th>17965140</th>\n",
       "      <td>17965140</td>\n",
       "      <td>13</td>\n",
       "      <td>3</td>\n",
       "      <td>999.992188</td>\n",
       "      <td>1</td>\n",
       "      <td>0.299653</td>\n",
       "      <td>0.285048</td>\n",
       "      <td>0.701352</td>\n",
       "      <td>0.477575</td>\n",
       "      <td>0.522416</td>\n",
       "      <td>0.507599</td>\n",
       "      <td>0.507897</td>\n",
       "      <td>0.507055</td>\n",
       "      <td>0.510640</td>\n",
       "      <td>0.518955</td>\n",
       "      <td>0.510493</td>\n",
       "      <td>0.507228</td>\n",
       "      <td>0.508625</td>\n",
       "      <td>0.502815</td>\n",
       "      <td>0.306549</td>\n",
       "      <td>0.591414</td>\n",
       "      <td>0.507252</td>\n",
       "      <td>0.528288</td>\n",
       "      <td>0.493288</td>\n",
       "      <td>0.506714</td>\n",
       "      <td>0.509382</td>\n",
       "      <td>0.553078</td>\n",
       "      <td>0.502036</td>\n",
       "    </tr>\n",
       "    <tr>\n",
       "      <th>17965141</th>\n",
       "      <td>17965141</td>\n",
       "      <td>13</td>\n",
       "      <td>3</td>\n",
       "      <td>999.996094</td>\n",
       "      <td>0</td>\n",
       "      <td>0.306651</td>\n",
       "      <td>0.254371</td>\n",
       "      <td>0.644993</td>\n",
       "      <td>0.479931</td>\n",
       "      <td>0.524814</td>\n",
       "      <td>0.508025</td>\n",
       "      <td>0.508486</td>\n",
       "      <td>0.501868</td>\n",
       "      <td>0.510063</td>\n",
       "      <td>0.521480</td>\n",
       "      <td>0.511955</td>\n",
       "      <td>0.509396</td>\n",
       "      <td>0.510384</td>\n",
       "      <td>0.503055</td>\n",
       "      <td>0.259082</td>\n",
       "      <td>0.591655</td>\n",
       "      <td>0.508543</td>\n",
       "      <td>0.528519</td>\n",
       "      <td>0.492913</td>\n",
       "      <td>0.507267</td>\n",
       "      <td>0.510326</td>\n",
       "      <td>0.554748</td>\n",
       "      <td>0.502472</td>\n",
       "    </tr>\n",
       "    <tr>\n",
       "      <th>17965142</th>\n",
       "      <td>17965142</td>\n",
       "      <td>13</td>\n",
       "      <td>3</td>\n",
       "      <td>999.996094</td>\n",
       "      <td>1</td>\n",
       "      <td>0.313920</td>\n",
       "      <td>0.368331</td>\n",
       "      <td>0.854458</td>\n",
       "      <td>0.472322</td>\n",
       "      <td>0.515107</td>\n",
       "      <td>0.501322</td>\n",
       "      <td>0.501186</td>\n",
       "      <td>0.501196</td>\n",
       "      <td>0.508871</td>\n",
       "      <td>0.507510</td>\n",
       "      <td>0.505149</td>\n",
       "      <td>0.504818</td>\n",
       "      <td>0.506319</td>\n",
       "      <td>0.502312</td>\n",
       "      <td>0.435848</td>\n",
       "      <td>0.590669</td>\n",
       "      <td>0.501807</td>\n",
       "      <td>0.525499</td>\n",
       "      <td>0.491935</td>\n",
       "      <td>0.505547</td>\n",
       "      <td>0.506049</td>\n",
       "      <td>0.547557</td>\n",
       "      <td>0.501230</td>\n",
       "    </tr>\n",
       "  </tbody>\n",
       "</table>\n",
       "<p>17965143 rows × 28 columns</p>\n",
       "</div>"
      ],
      "text/plain": [
       "                id  crew  ...  smoothened_eeg_cz  smoothened_eeg_o2\n",
       "0                0     1  ...           0.550762           0.499552\n",
       "1                1     1  ...           0.722564           0.500204\n",
       "2                2     1  ...           0.676891           0.500480\n",
       "3                3     1  ...           0.655071           0.500309\n",
       "4                4     1  ...           0.685474           0.500152\n",
       "...            ...   ...  ...                ...                ...\n",
       "17965138  17965138    13  ...           0.554066           0.501523\n",
       "17965139  17965139    13  ...           0.552357           0.501552\n",
       "17965140  17965140    13  ...           0.553078           0.502036\n",
       "17965141  17965141    13  ...           0.554748           0.502472\n",
       "17965142  17965142    13  ...           0.547557           0.501230\n",
       "\n",
       "[17965143 rows x 28 columns]"
      ]
     },
     "execution_count": 73,
     "metadata": {
      "tags": []
     },
     "output_type": "execute_result"
    }
   ],
   "source": [
    "#EXPERIMENT feature in KAGGLE TEST DATASET is in Alphabets,so we convert them into numericals.\n",
    "\n",
    "df_test['experiment'] = df_test['experiment'].map({'CA': 0, 'DA': 1, 'SS': 2, 'LOFT': 3})\n",
    "df_test[\"experiment\"] = df_test[\"experiment\"].astype('int8')\n",
    "df_test"
   ]
  },
  {
   "cell_type": "code",
   "execution_count": 74,
   "metadata": {
    "colab": {
     "base_uri": "https://localhost:8080/"
    },
    "id": "ey40qmrhh6xo",
    "outputId": "dc9585c4-517b-41e8-e4ca-fd12c18c10a1"
   },
   "outputs": [
    {
     "name": "stdout",
     "output_type": "stream",
     "text": [
      "Memory usage of properties dataframe is : 3340.9147386550903  MB\n",
      "******************************\n",
      "Column:  id\n",
      "dtype before:  uint32\n",
      "dtype after:  uint32\n",
      "******************************\n",
      "******************************\n",
      "Column:  crew\n",
      "dtype before:  uint8\n",
      "dtype after:  uint8\n",
      "******************************\n",
      "******************************\n",
      "Column:  experiment\n",
      "dtype before:  int8\n",
      "dtype after:  uint8\n",
      "******************************\n",
      "******************************\n",
      "Column:  time\n",
      "dtype before:  float32\n",
      "dtype after:  float32\n",
      "******************************\n",
      "******************************\n",
      "Column:  seat\n",
      "dtype before:  uint8\n",
      "dtype after:  uint8\n",
      "******************************\n",
      "******************************\n",
      "Column:  smoothened_ecg_data\n",
      "dtype before:  float64\n",
      "dtype after:  float32\n",
      "******************************\n",
      "******************************\n",
      "Column:  smoothened_gsr_data\n",
      "dtype before:  float64\n",
      "dtype after:  float32\n",
      "******************************\n",
      "******************************\n",
      "Column:  smoothened_r_data\n",
      "dtype before:  float64\n",
      "dtype after:  float32\n",
      "******************************\n",
      "******************************\n",
      "Column:  smoothened_eeg_fp1\n",
      "dtype before:  float64\n",
      "dtype after:  float32\n",
      "******************************\n",
      "******************************\n",
      "Column:  smoothened_eeg_f7\n",
      "dtype before:  float64\n",
      "dtype after:  float32\n",
      "******************************\n",
      "******************************\n",
      "Column:  smoothened_eeg_f8\n",
      "dtype before:  float64\n",
      "dtype after:  float32\n",
      "******************************\n",
      "******************************\n",
      "Column:  smoothened_eeg_t4\n",
      "dtype before:  float64\n",
      "dtype after:  float32\n",
      "******************************\n",
      "******************************\n",
      "Column:  smoothened_eeg_t6\n",
      "dtype before:  float64\n",
      "dtype after:  float32\n",
      "******************************\n",
      "******************************\n",
      "Column:  smoothened_eeg_t5\n",
      "dtype before:  float64\n",
      "dtype after:  float32\n",
      "******************************\n",
      "******************************\n",
      "Column:  smoothened_eeg_t3\n",
      "dtype before:  float64\n",
      "dtype after:  float32\n",
      "******************************\n",
      "******************************\n",
      "Column:  smoothened_eeg_fp2\n",
      "dtype before:  float64\n",
      "dtype after:  float32\n",
      "******************************\n",
      "******************************\n",
      "Column:  smoothened_eeg_o1\n",
      "dtype before:  float64\n",
      "dtype after:  float32\n",
      "******************************\n",
      "******************************\n",
      "Column:  smoothened_eeg_p3\n",
      "dtype before:  float64\n",
      "dtype after:  float32\n",
      "******************************\n",
      "******************************\n",
      "Column:  smoothened_eeg_pz\n",
      "dtype before:  float64\n",
      "dtype after:  float32\n",
      "******************************\n",
      "******************************\n",
      "Column:  smoothened_eeg_f3\n",
      "dtype before:  float64\n",
      "dtype after:  float32\n",
      "******************************\n",
      "******************************\n",
      "Column:  smoothened_eeg_fz\n",
      "dtype before:  float64\n",
      "dtype after:  float32\n",
      "******************************\n",
      "******************************\n",
      "Column:  smoothened_eeg_f4\n",
      "dtype before:  float64\n",
      "dtype after:  float32\n",
      "******************************\n",
      "******************************\n",
      "Column:  smoothened_eeg_c4\n",
      "dtype before:  float64\n",
      "dtype after:  float32\n",
      "******************************\n",
      "******************************\n",
      "Column:  smoothened_eeg_p4\n",
      "dtype before:  float64\n",
      "dtype after:  float32\n",
      "******************************\n",
      "******************************\n",
      "Column:  smoothened_eeg_poz\n",
      "dtype before:  float64\n",
      "dtype after:  float32\n",
      "******************************\n",
      "******************************\n",
      "Column:  smoothened_eeg_c3\n",
      "dtype before:  float64\n",
      "dtype after:  float32\n",
      "******************************\n",
      "******************************\n",
      "Column:  smoothened_eeg_cz\n",
      "dtype before:  float64\n",
      "dtype after:  float32\n",
      "******************************\n",
      "******************************\n",
      "Column:  smoothened_eeg_o2\n",
      "dtype before:  float64\n",
      "dtype after:  float32\n",
      "******************************\n",
      "___MEMORY USAGE AFTER COMPLETION:___\n",
      "Memory usage is:  1764.6883554458618  MB\n",
      "This is  52.8205145443565 % of the initial size\n"
     ]
    }
   ],
   "source": [
    "df_test = reduce_mem_usage(df_test)"
   ]
  },
  {
   "cell_type": "code",
   "execution_count": 75,
   "metadata": {
    "colab": {
     "base_uri": "https://localhost:8080/",
     "height": 422
    },
    "id": "Bk-9dRKJ0sOr",
    "outputId": "e7016c19-92f9-42a1-cd5d-3bc3cd71fdf1",
    "scrolled": true
   },
   "outputs": [
    {
     "data": {
      "text/html": [
       "<div>\n",
       "<style scoped>\n",
       "    .dataframe tbody tr th:only-of-type {\n",
       "        vertical-align: middle;\n",
       "    }\n",
       "\n",
       "    .dataframe tbody tr th {\n",
       "        vertical-align: top;\n",
       "    }\n",
       "\n",
       "    .dataframe thead th {\n",
       "        text-align: right;\n",
       "    }\n",
       "</style>\n",
       "<table border=\"1\" class=\"dataframe\">\n",
       "  <thead>\n",
       "    <tr style=\"text-align: right;\">\n",
       "      <th></th>\n",
       "      <th>id</th>\n",
       "      <th>crew</th>\n",
       "      <th>experiment</th>\n",
       "      <th>time</th>\n",
       "      <th>seat</th>\n",
       "      <th>smoothened_ecg_data</th>\n",
       "      <th>smoothened_gsr_data</th>\n",
       "      <th>smoothened_r_data</th>\n",
       "      <th>smoothened_eeg_fp1</th>\n",
       "      <th>smoothened_eeg_f7</th>\n",
       "      <th>smoothened_eeg_f8</th>\n",
       "      <th>smoothened_eeg_t4</th>\n",
       "      <th>smoothened_eeg_t6</th>\n",
       "      <th>smoothened_eeg_t5</th>\n",
       "      <th>smoothened_eeg_t3</th>\n",
       "      <th>smoothened_eeg_fp2</th>\n",
       "      <th>smoothened_eeg_o1</th>\n",
       "      <th>smoothened_eeg_p3</th>\n",
       "      <th>smoothened_eeg_pz</th>\n",
       "      <th>smoothened_eeg_f3</th>\n",
       "      <th>smoothened_eeg_fz</th>\n",
       "      <th>smoothened_eeg_f4</th>\n",
       "      <th>smoothened_eeg_c4</th>\n",
       "      <th>smoothened_eeg_p4</th>\n",
       "      <th>smoothened_eeg_poz</th>\n",
       "      <th>smoothened_eeg_c3</th>\n",
       "      <th>smoothened_eeg_cz</th>\n",
       "      <th>smoothened_eeg_o2</th>\n",
       "    </tr>\n",
       "  </thead>\n",
       "  <tbody>\n",
       "    <tr>\n",
       "      <th>0</th>\n",
       "      <td>0</td>\n",
       "      <td>1</td>\n",
       "      <td>3</td>\n",
       "      <td>0.000000</td>\n",
       "      <td>0</td>\n",
       "      <td>0.313174</td>\n",
       "      <td>0.373447</td>\n",
       "      <td>0.462570</td>\n",
       "      <td>0.474272</td>\n",
       "      <td>0.513928</td>\n",
       "      <td>0.500689</td>\n",
       "      <td>0.496480</td>\n",
       "      <td>0.490559</td>\n",
       "      <td>0.464126</td>\n",
       "      <td>0.498555</td>\n",
       "      <td>0.502582</td>\n",
       "      <td>0.506490</td>\n",
       "      <td>0.510029</td>\n",
       "      <td>0.504200</td>\n",
       "      <td>0.436139</td>\n",
       "      <td>0.592030</td>\n",
       "      <td>0.500570</td>\n",
       "      <td>0.522411</td>\n",
       "      <td>0.490369</td>\n",
       "      <td>0.502378</td>\n",
       "      <td>0.510679</td>\n",
       "      <td>0.550762</td>\n",
       "      <td>0.499552</td>\n",
       "    </tr>\n",
       "    <tr>\n",
       "      <th>1</th>\n",
       "      <td>1</td>\n",
       "      <td>1</td>\n",
       "      <td>3</td>\n",
       "      <td>0.000000</td>\n",
       "      <td>1</td>\n",
       "      <td>0.325051</td>\n",
       "      <td>0.222763</td>\n",
       "      <td>0.795883</td>\n",
       "      <td>0.478517</td>\n",
       "      <td>0.527595</td>\n",
       "      <td>0.503217</td>\n",
       "      <td>0.501186</td>\n",
       "      <td>0.499128</td>\n",
       "      <td>0.494793</td>\n",
       "      <td>0.505952</td>\n",
       "      <td>0.508152</td>\n",
       "      <td>0.463941</td>\n",
       "      <td>0.506583</td>\n",
       "      <td>0.504006</td>\n",
       "      <td>0.435868</td>\n",
       "      <td>0.654578</td>\n",
       "      <td>0.503784</td>\n",
       "      <td>0.492801</td>\n",
       "      <td>0.491179</td>\n",
       "      <td>0.503630</td>\n",
       "      <td>0.507526</td>\n",
       "      <td>0.722564</td>\n",
       "      <td>0.500204</td>\n",
       "    </tr>\n",
       "    <tr>\n",
       "      <th>2</th>\n",
       "      <td>2</td>\n",
       "      <td>1</td>\n",
       "      <td>3</td>\n",
       "      <td>0.003906</td>\n",
       "      <td>0</td>\n",
       "      <td>0.336437</td>\n",
       "      <td>0.263170</td>\n",
       "      <td>0.706503</td>\n",
       "      <td>0.479097</td>\n",
       "      <td>0.526616</td>\n",
       "      <td>0.502142</td>\n",
       "      <td>0.502670</td>\n",
       "      <td>0.497728</td>\n",
       "      <td>0.489084</td>\n",
       "      <td>0.509749</td>\n",
       "      <td>0.507182</td>\n",
       "      <td>0.475283</td>\n",
       "      <td>0.510167</td>\n",
       "      <td>0.504218</td>\n",
       "      <td>0.436200</td>\n",
       "      <td>0.636959</td>\n",
       "      <td>0.502688</td>\n",
       "      <td>0.502134</td>\n",
       "      <td>0.491943</td>\n",
       "      <td>0.504314</td>\n",
       "      <td>0.509403</td>\n",
       "      <td>0.676890</td>\n",
       "      <td>0.500480</td>\n",
       "    </tr>\n",
       "    <tr>\n",
       "      <th>3</th>\n",
       "      <td>3</td>\n",
       "      <td>1</td>\n",
       "      <td>3</td>\n",
       "      <td>0.003906</td>\n",
       "      <td>1</td>\n",
       "      <td>0.346810</td>\n",
       "      <td>0.280885</td>\n",
       "      <td>0.667317</td>\n",
       "      <td>0.476813</td>\n",
       "      <td>0.523177</td>\n",
       "      <td>0.501427</td>\n",
       "      <td>0.500525</td>\n",
       "      <td>0.496354</td>\n",
       "      <td>0.495680</td>\n",
       "      <td>0.504028</td>\n",
       "      <td>0.505372</td>\n",
       "      <td>0.478232</td>\n",
       "      <td>0.505907</td>\n",
       "      <td>0.504058</td>\n",
       "      <td>0.435581</td>\n",
       "      <td>0.628507</td>\n",
       "      <td>0.502683</td>\n",
       "      <td>0.504820</td>\n",
       "      <td>0.490889</td>\n",
       "      <td>0.502877</td>\n",
       "      <td>0.507123</td>\n",
       "      <td>0.655071</td>\n",
       "      <td>0.500309</td>\n",
       "    </tr>\n",
       "    <tr>\n",
       "      <th>4</th>\n",
       "      <td>4</td>\n",
       "      <td>1</td>\n",
       "      <td>3</td>\n",
       "      <td>0.007812</td>\n",
       "      <td>0</td>\n",
       "      <td>0.355785</td>\n",
       "      <td>0.252939</td>\n",
       "      <td>0.729133</td>\n",
       "      <td>0.474625</td>\n",
       "      <td>0.522696</td>\n",
       "      <td>0.499860</td>\n",
       "      <td>0.496698</td>\n",
       "      <td>0.498270</td>\n",
       "      <td>0.509234</td>\n",
       "      <td>0.498562</td>\n",
       "      <td>0.504119</td>\n",
       "      <td>0.468392</td>\n",
       "      <td>0.498870</td>\n",
       "      <td>0.503723</td>\n",
       "      <td>0.434366</td>\n",
       "      <td>0.639018</td>\n",
       "      <td>0.502323</td>\n",
       "      <td>0.496155</td>\n",
       "      <td>0.489115</td>\n",
       "      <td>0.500564</td>\n",
       "      <td>0.502736</td>\n",
       "      <td>0.685474</td>\n",
       "      <td>0.500152</td>\n",
       "    </tr>\n",
       "    <tr>\n",
       "      <th>...</th>\n",
       "      <td>...</td>\n",
       "      <td>...</td>\n",
       "      <td>...</td>\n",
       "      <td>...</td>\n",
       "      <td>...</td>\n",
       "      <td>...</td>\n",
       "      <td>...</td>\n",
       "      <td>...</td>\n",
       "      <td>...</td>\n",
       "      <td>...</td>\n",
       "      <td>...</td>\n",
       "      <td>...</td>\n",
       "      <td>...</td>\n",
       "      <td>...</td>\n",
       "      <td>...</td>\n",
       "      <td>...</td>\n",
       "      <td>...</td>\n",
       "      <td>...</td>\n",
       "      <td>...</td>\n",
       "      <td>...</td>\n",
       "      <td>...</td>\n",
       "      <td>...</td>\n",
       "      <td>...</td>\n",
       "      <td>...</td>\n",
       "      <td>...</td>\n",
       "      <td>...</td>\n",
       "      <td>...</td>\n",
       "      <td>...</td>\n",
       "    </tr>\n",
       "    <tr>\n",
       "      <th>17965138</th>\n",
       "      <td>17965138</td>\n",
       "      <td>13</td>\n",
       "      <td>3</td>\n",
       "      <td>999.988281</td>\n",
       "      <td>1</td>\n",
       "      <td>0.287655</td>\n",
       "      <td>0.277189</td>\n",
       "      <td>0.687062</td>\n",
       "      <td>0.478108</td>\n",
       "      <td>0.521922</td>\n",
       "      <td>0.508949</td>\n",
       "      <td>0.511599</td>\n",
       "      <td>0.513011</td>\n",
       "      <td>0.504679</td>\n",
       "      <td>0.516932</td>\n",
       "      <td>0.511052</td>\n",
       "      <td>0.505698</td>\n",
       "      <td>0.507158</td>\n",
       "      <td>0.502674</td>\n",
       "      <td>0.294957</td>\n",
       "      <td>0.591518</td>\n",
       "      <td>0.508124</td>\n",
       "      <td>0.529817</td>\n",
       "      <td>0.493836</td>\n",
       "      <td>0.506020</td>\n",
       "      <td>0.509850</td>\n",
       "      <td>0.554066</td>\n",
       "      <td>0.501523</td>\n",
       "    </tr>\n",
       "    <tr>\n",
       "      <th>17965139</th>\n",
       "      <td>17965139</td>\n",
       "      <td>13</td>\n",
       "      <td>3</td>\n",
       "      <td>999.992188</td>\n",
       "      <td>0</td>\n",
       "      <td>0.293241</td>\n",
       "      <td>0.298321</td>\n",
       "      <td>0.725826</td>\n",
       "      <td>0.476508</td>\n",
       "      <td>0.520809</td>\n",
       "      <td>0.507620</td>\n",
       "      <td>0.507758</td>\n",
       "      <td>0.507716</td>\n",
       "      <td>0.507924</td>\n",
       "      <td>0.515284</td>\n",
       "      <td>0.509742</td>\n",
       "      <td>0.505537</td>\n",
       "      <td>0.507059</td>\n",
       "      <td>0.502462</td>\n",
       "      <td>0.327362</td>\n",
       "      <td>0.591496</td>\n",
       "      <td>0.506519</td>\n",
       "      <td>0.528018</td>\n",
       "      <td>0.493027</td>\n",
       "      <td>0.505842</td>\n",
       "      <td>0.509082</td>\n",
       "      <td>0.552357</td>\n",
       "      <td>0.501552</td>\n",
       "    </tr>\n",
       "    <tr>\n",
       "      <th>17965140</th>\n",
       "      <td>17965140</td>\n",
       "      <td>13</td>\n",
       "      <td>3</td>\n",
       "      <td>999.992188</td>\n",
       "      <td>1</td>\n",
       "      <td>0.299653</td>\n",
       "      <td>0.285048</td>\n",
       "      <td>0.701352</td>\n",
       "      <td>0.477575</td>\n",
       "      <td>0.522416</td>\n",
       "      <td>0.507599</td>\n",
       "      <td>0.507897</td>\n",
       "      <td>0.507055</td>\n",
       "      <td>0.510641</td>\n",
       "      <td>0.518955</td>\n",
       "      <td>0.510493</td>\n",
       "      <td>0.507228</td>\n",
       "      <td>0.508625</td>\n",
       "      <td>0.502815</td>\n",
       "      <td>0.306549</td>\n",
       "      <td>0.591414</td>\n",
       "      <td>0.507252</td>\n",
       "      <td>0.528288</td>\n",
       "      <td>0.493288</td>\n",
       "      <td>0.506714</td>\n",
       "      <td>0.509382</td>\n",
       "      <td>0.553078</td>\n",
       "      <td>0.502036</td>\n",
       "    </tr>\n",
       "    <tr>\n",
       "      <th>17965141</th>\n",
       "      <td>17965141</td>\n",
       "      <td>13</td>\n",
       "      <td>3</td>\n",
       "      <td>999.996094</td>\n",
       "      <td>0</td>\n",
       "      <td>0.306651</td>\n",
       "      <td>0.254371</td>\n",
       "      <td>0.644993</td>\n",
       "      <td>0.479931</td>\n",
       "      <td>0.524814</td>\n",
       "      <td>0.508025</td>\n",
       "      <td>0.508486</td>\n",
       "      <td>0.501868</td>\n",
       "      <td>0.510063</td>\n",
       "      <td>0.521480</td>\n",
       "      <td>0.511955</td>\n",
       "      <td>0.509396</td>\n",
       "      <td>0.510384</td>\n",
       "      <td>0.503055</td>\n",
       "      <td>0.259082</td>\n",
       "      <td>0.591655</td>\n",
       "      <td>0.508543</td>\n",
       "      <td>0.528519</td>\n",
       "      <td>0.492913</td>\n",
       "      <td>0.507267</td>\n",
       "      <td>0.510326</td>\n",
       "      <td>0.554748</td>\n",
       "      <td>0.502472</td>\n",
       "    </tr>\n",
       "    <tr>\n",
       "      <th>17965142</th>\n",
       "      <td>17965142</td>\n",
       "      <td>13</td>\n",
       "      <td>3</td>\n",
       "      <td>999.996094</td>\n",
       "      <td>1</td>\n",
       "      <td>0.313920</td>\n",
       "      <td>0.368331</td>\n",
       "      <td>0.854458</td>\n",
       "      <td>0.472322</td>\n",
       "      <td>0.515107</td>\n",
       "      <td>0.501322</td>\n",
       "      <td>0.501186</td>\n",
       "      <td>0.501196</td>\n",
       "      <td>0.508871</td>\n",
       "      <td>0.507510</td>\n",
       "      <td>0.505149</td>\n",
       "      <td>0.504818</td>\n",
       "      <td>0.506319</td>\n",
       "      <td>0.502312</td>\n",
       "      <td>0.435848</td>\n",
       "      <td>0.590669</td>\n",
       "      <td>0.501807</td>\n",
       "      <td>0.525499</td>\n",
       "      <td>0.491935</td>\n",
       "      <td>0.505547</td>\n",
       "      <td>0.506049</td>\n",
       "      <td>0.547557</td>\n",
       "      <td>0.501230</td>\n",
       "    </tr>\n",
       "  </tbody>\n",
       "</table>\n",
       "<p>17965143 rows × 28 columns</p>\n",
       "</div>"
      ],
      "text/plain": [
       "                id  crew  ...  smoothened_eeg_cz  smoothened_eeg_o2\n",
       "0                0     1  ...           0.550762           0.499552\n",
       "1                1     1  ...           0.722564           0.500204\n",
       "2                2     1  ...           0.676890           0.500480\n",
       "3                3     1  ...           0.655071           0.500309\n",
       "4                4     1  ...           0.685474           0.500152\n",
       "...            ...   ...  ...                ...                ...\n",
       "17965138  17965138    13  ...           0.554066           0.501523\n",
       "17965139  17965139    13  ...           0.552357           0.501552\n",
       "17965140  17965140    13  ...           0.553078           0.502036\n",
       "17965141  17965141    13  ...           0.554748           0.502472\n",
       "17965142  17965142    13  ...           0.547557           0.501230\n",
       "\n",
       "[17965143 rows x 28 columns]"
      ]
     },
     "execution_count": 75,
     "metadata": {
      "tags": []
     },
     "output_type": "execute_result"
    }
   ],
   "source": [
    "df_test"
   ]
  },
  {
   "cell_type": "code",
   "execution_count": null,
   "metadata": {},
   "outputs": [],
   "source": [
    "df_test.shape"
   ]
  },
  {
   "cell_type": "code",
   "execution_count": 112,
   "metadata": {
    "colab": {
     "base_uri": "https://localhost:8080/"
    },
    "id": "bSZHVlDMlOJg",
    "outputId": "cf082f93-d0d7-41b2-ae7d-ad9cee908c30"
   },
   "outputs": [
    {
     "name": "stdout",
     "output_type": "stream",
     "text": [
      "Training until validation scores don't improve for 50 rounds.\n",
      "[100]\tvalid_0's multi_logloss: 0.0488319\n",
      "[200]\tvalid_0's multi_logloss: 0.0254682\n",
      "[300]\tvalid_0's multi_logloss: 0.0183331\n",
      "[400]\tvalid_0's multi_logloss: 0.0134025\n",
      "[500]\tvalid_0's multi_logloss: 0.0107893\n",
      "[600]\tvalid_0's multi_logloss: 0.00885917\n",
      "[700]\tvalid_0's multi_logloss: 0.00752918\n",
      "[800]\tvalid_0's multi_logloss: 0.00664346\n",
      "[900]\tvalid_0's multi_logloss: 0.00584259\n",
      "[1000]\tvalid_0's multi_logloss: 0.00520256\n",
      "Did not meet early stopping. Best iteration is:\n",
      "[1000]\tvalid_0's multi_logloss: 0.00520256\n",
      "DONE WITH TRAINING\n"
     ]
    }
   ],
   "source": [
    "# Light GBM ( Light Gradient Boosting Machine)\n",
    "\n",
    "lgbtrain = lgb.Dataset(x_train, y_train)\n",
    "lgbtest = lgb.Dataset(x_cv, y_cv)\n",
    "\n",
    "params = {'bagging_fraction': 0.7,\n",
    " 'bagging_seed': 420,\n",
    " 'boosting_type': 'gbdt',\n",
    " 'feature_fraction': 0.7,\n",
    " 'learning_rate': 0.1,\n",
    " 'max_depth': 7,\n",
    " 'metric': 'multi_logloss',\n",
    " 'num_class': 4,\n",
    " 'num_leaves': 50,\n",
    " 'objective': 'multiclass'}\n",
    "\n",
    "model_lgb = lgb.train(params, lgbtrain, 1000, valid_sets=[lgbtest], early_stopping_rounds=50, verbose_eval=100)\n",
    "\n",
    "print(\"DONE WITH TRAINING\")"
   ]
  },
  {
   "cell_type": "code",
   "execution_count": null,
   "metadata": {
    "id": "j49MGMJHG76p"
   },
   "outputs": [],
   "source": [
    "# Exporting the trained model.\n",
    "import joblib\n",
    "joblib.dump(model_lgb,'final_model.pkl')\n",
    "\n",
    "predicted_lgb_kaggle = model_lgb.predict(df_test, num_iteration= model_lgb.best_iteration)\n",
    "\n",
    "print('PREDICTING THE OUTPUTS')\n",
    "# Saving the ids for further merging of features in csv.\n",
    "df_sub = pd.DataFrame()\n",
    "df_sub['id'] = df_test['id']\n",
    "df_test = df_test.drop('id',axis=1)\n",
    "\n",
    "df_sub = pd.DataFrame(np.concatenate((np.arange(len(df_test))[:, np.newaxis], predicted_lgb_kaggle), axis=1), columns=['id', 'A', 'B', 'C', 'D'])\n",
    "print('PREDICTIONS ARE READY')\n",
    "print(\"IMPORTING THEM TO A CSV FILE : \")\n",
    "\n",
    "# Creating the submission csv file.\n",
    "df_sub['id'] = df_sub['id'].astype(int)\n",
    "print(df_sub)"
   ]
  },
  {
   "cell_type": "code",
   "execution_count": 9,
   "metadata": {
    "id": "VvNTxJgpfzQ9"
   },
   "outputs": [],
   "source": [
    "infile = open('/content/final_model.pkl','rb')\n",
    "model_lgb = pickle.load(infile)"
   ]
  },
  {
   "cell_type": "code",
   "execution_count": 76,
   "metadata": {
    "colab": {
     "base_uri": "https://localhost:8080/"
    },
    "id": "knQZcg7Rgbw9",
    "outputId": "a7022f0d-bacd-48db-8337-070913ee1ec5"
   },
   "outputs": [
    {
     "name": "stdout",
     "output_type": "stream",
     "text": [
      "PREDICTING THE OUTPUTS\n",
      "PREDICTIONS ARE READY\n",
      "IMPORTING THEM TO A CSV FILE : \n",
      "                id         A             B             C             D\n",
      "0                0  0.999996  3.953715e-14  2.573250e-11  3.602875e-06\n",
      "1                1  0.999971  6.932504e-14  7.951497e-12  2.861606e-05\n",
      "2                2  0.996954  1.535343e-13  5.180332e-08  3.045480e-03\n",
      "3                3  0.994547  8.356948e-14  1.236544e-08  5.453178e-03\n",
      "4                4  0.998998  2.127593e-13  2.636679e-08  1.001800e-03\n",
      "...            ...       ...           ...           ...           ...\n",
      "17965138  17965138  1.000000  1.934453e-10  7.639736e-09  1.022520e-08\n",
      "17965139  17965139  1.000000  3.220847e-10  9.655428e-09  3.359970e-09\n",
      "17965140  17965140  1.000000  2.104774e-10  7.338993e-09  9.963137e-09\n",
      "17965141  17965141  1.000000  4.832494e-10  1.145591e-08  3.323602e-09\n",
      "17965142  17965142  1.000000  1.777939e-10  3.865879e-09  8.728732e-09\n",
      "\n",
      "[17965143 rows x 5 columns]\n"
     ]
    }
   ],
   "source": [
    "predicted_lgb_kaggle = model_lgb.predict(df_test, num_iteration= model_lgb.best_iteration)\n",
    "\n",
    "print('PREDICTING THE OUTPUTS')\n",
    "# Saving the ids for further merging of features in csv.\n",
    "df_sub = pd.DataFrame()\n",
    "df_sub['id'] = df_test['id']\n",
    "df_test = df_test.drop('id',axis=1)\n",
    "\n",
    "df_sub = pd.DataFrame(np.concatenate((np.arange(len(df_test))[:, np.newaxis], predicted_lgb_kaggle), axis=1), columns=['id', 'A', 'B', 'C', 'D'])\n",
    "print('PREDICTIONS ARE READY')\n",
    "print(\"IMPORTING THEM TO A CSV FILE : \")\n",
    "\n",
    "# Creating the submission csv file.\n",
    "df_sub['id'] = df_sub['id'].astype(int)\n",
    "print(df_sub)"
   ]
  },
  {
   "cell_type": "code",
   "execution_count": 77,
   "metadata": {
    "id": "zOxmXNdJGBnR"
   },
   "outputs": [],
   "source": [
    "df_sub.to_csv(\"predictions.csv\", index=False)"
   ]
  },
  {
   "cell_type": "code",
   "execution_count": 117,
   "metadata": {
    "colab": {
     "base_uri": "https://localhost:8080/"
    },
    "id": "QsrHLBYR1Sfi",
    "outputId": "e2401e20-5514-4b2a-8749-49cf4fbab9ec"
   },
   "outputs": [
    {
     "data": {
      "text/plain": [
       "array([[9.99996397e-01, 3.95371459e-14, 2.57325041e-11, 3.60287513e-06],\n",
       "       [9.99971384e-01, 6.93250405e-14, 7.95149717e-12, 2.86160550e-05],\n",
       "       [9.96954468e-01, 1.53534264e-13, 5.18033230e-08, 3.04548049e-03],\n",
       "       ...,\n",
       "       [9.99999982e-01, 2.10477435e-10, 7.33899266e-09, 9.96313749e-09],\n",
       "       [9.99999985e-01, 4.83249377e-10, 1.14559116e-08, 3.32360202e-09],\n",
       "       [9.99999987e-01, 1.77793875e-10, 3.86587939e-09, 8.72873177e-09]])"
      ]
     },
     "execution_count": 117,
     "metadata": {
      "tags": []
     },
     "output_type": "execute_result"
    }
   ],
   "source": [
    "predicted_lgb_kaggle"
   ]
  },
  {
   "cell_type": "code",
   "execution_count": 118,
   "metadata": {
    "colab": {
     "base_uri": "https://localhost:8080/",
     "height": 402
    },
    "id": "m0tGQv-mELYe",
    "outputId": "a5bff5dc-66cb-4e16-9cf6-fef610432264"
   },
   "outputs": [
    {
     "data": {
      "text/html": [
       "<div>\n",
       "<style scoped>\n",
       "    .dataframe tbody tr th:only-of-type {\n",
       "        vertical-align: middle;\n",
       "    }\n",
       "\n",
       "    .dataframe tbody tr th {\n",
       "        vertical-align: top;\n",
       "    }\n",
       "\n",
       "    .dataframe thead th {\n",
       "        text-align: right;\n",
       "    }\n",
       "</style>\n",
       "<table border=\"1\" class=\"dataframe\">\n",
       "  <thead>\n",
       "    <tr style=\"text-align: right;\">\n",
       "      <th></th>\n",
       "      <th>id</th>\n",
       "    </tr>\n",
       "  </thead>\n",
       "  <tbody>\n",
       "    <tr>\n",
       "      <th>0</th>\n",
       "      <td>0</td>\n",
       "    </tr>\n",
       "    <tr>\n",
       "      <th>1</th>\n",
       "      <td>1</td>\n",
       "    </tr>\n",
       "    <tr>\n",
       "      <th>2</th>\n",
       "      <td>2</td>\n",
       "    </tr>\n",
       "    <tr>\n",
       "      <th>3</th>\n",
       "      <td>3</td>\n",
       "    </tr>\n",
       "    <tr>\n",
       "      <th>4</th>\n",
       "      <td>4</td>\n",
       "    </tr>\n",
       "    <tr>\n",
       "      <th>...</th>\n",
       "      <td>...</td>\n",
       "    </tr>\n",
       "    <tr>\n",
       "      <th>17965138</th>\n",
       "      <td>17965138</td>\n",
       "    </tr>\n",
       "    <tr>\n",
       "      <th>17965139</th>\n",
       "      <td>17965139</td>\n",
       "    </tr>\n",
       "    <tr>\n",
       "      <th>17965140</th>\n",
       "      <td>17965140</td>\n",
       "    </tr>\n",
       "    <tr>\n",
       "      <th>17965141</th>\n",
       "      <td>17965141</td>\n",
       "    </tr>\n",
       "    <tr>\n",
       "      <th>17965142</th>\n",
       "      <td>17965142</td>\n",
       "    </tr>\n",
       "  </tbody>\n",
       "</table>\n",
       "<p>17965143 rows × 1 columns</p>\n",
       "</div>"
      ],
      "text/plain": [
       "                id\n",
       "0                0\n",
       "1                1\n",
       "2                2\n",
       "3                3\n",
       "4                4\n",
       "...            ...\n",
       "17965138  17965138\n",
       "17965139  17965139\n",
       "17965140  17965140\n",
       "17965141  17965141\n",
       "17965142  17965142\n",
       "\n",
       "[17965143 rows x 1 columns]"
      ]
     },
     "execution_count": 118,
     "metadata": {
      "tags": []
     },
     "output_type": "execute_result"
    }
   ],
   "source": [
    "df_sub"
   ]
  },
  {
   "cell_type": "code",
   "execution_count": 119,
   "metadata": {
    "colab": {
     "base_uri": "https://localhost:8080/",
     "height": 422
    },
    "id": "TTCe-vib9H3L",
    "outputId": "f1bd89ac-0445-4403-a616-792b4034b349"
   },
   "outputs": [
    {
     "data": {
      "text/html": [
       "<div>\n",
       "<style scoped>\n",
       "    .dataframe tbody tr th:only-of-type {\n",
       "        vertical-align: middle;\n",
       "    }\n",
       "\n",
       "    .dataframe tbody tr th {\n",
       "        vertical-align: top;\n",
       "    }\n",
       "\n",
       "    .dataframe thead th {\n",
       "        text-align: right;\n",
       "    }\n",
       "</style>\n",
       "<table border=\"1\" class=\"dataframe\">\n",
       "  <thead>\n",
       "    <tr style=\"text-align: right;\">\n",
       "      <th></th>\n",
       "      <th>crew</th>\n",
       "      <th>experiment</th>\n",
       "      <th>time</th>\n",
       "      <th>seat</th>\n",
       "      <th>smoothened_ecg_data</th>\n",
       "      <th>smoothened_gsr_data</th>\n",
       "      <th>smoothened_r_data</th>\n",
       "      <th>smoothened_eeg_fp1</th>\n",
       "      <th>smoothened_eeg_f7</th>\n",
       "      <th>smoothened_eeg_f8</th>\n",
       "      <th>smoothened_eeg_t4</th>\n",
       "      <th>smoothened_eeg_t6</th>\n",
       "      <th>smoothened_eeg_t5</th>\n",
       "      <th>smoothened_eeg_t3</th>\n",
       "      <th>smoothened_eeg_fp2</th>\n",
       "      <th>smoothened_eeg_o1</th>\n",
       "      <th>smoothened_eeg_p3</th>\n",
       "      <th>smoothened_eeg_pz</th>\n",
       "      <th>smoothened_eeg_f3</th>\n",
       "      <th>smoothened_eeg_fz</th>\n",
       "      <th>smoothened_eeg_f4</th>\n",
       "      <th>smoothened_eeg_c4</th>\n",
       "      <th>smoothened_eeg_p4</th>\n",
       "      <th>smoothened_eeg_poz</th>\n",
       "      <th>smoothened_eeg_c3</th>\n",
       "      <th>smoothened_eeg_cz</th>\n",
       "      <th>smoothened_eeg_o2</th>\n",
       "    </tr>\n",
       "  </thead>\n",
       "  <tbody>\n",
       "    <tr>\n",
       "      <th>0</th>\n",
       "      <td>1</td>\n",
       "      <td>3</td>\n",
       "      <td>0.000000</td>\n",
       "      <td>0</td>\n",
       "      <td>0.313174</td>\n",
       "      <td>0.373447</td>\n",
       "      <td>0.462570</td>\n",
       "      <td>0.474272</td>\n",
       "      <td>0.513928</td>\n",
       "      <td>0.500689</td>\n",
       "      <td>0.496480</td>\n",
       "      <td>0.490559</td>\n",
       "      <td>0.464126</td>\n",
       "      <td>0.498555</td>\n",
       "      <td>0.502582</td>\n",
       "      <td>0.506490</td>\n",
       "      <td>0.510029</td>\n",
       "      <td>0.504200</td>\n",
       "      <td>0.436139</td>\n",
       "      <td>0.592030</td>\n",
       "      <td>0.500570</td>\n",
       "      <td>0.522411</td>\n",
       "      <td>0.490369</td>\n",
       "      <td>0.502378</td>\n",
       "      <td>0.510679</td>\n",
       "      <td>0.550762</td>\n",
       "      <td>0.499552</td>\n",
       "    </tr>\n",
       "    <tr>\n",
       "      <th>1</th>\n",
       "      <td>1</td>\n",
       "      <td>3</td>\n",
       "      <td>0.000000</td>\n",
       "      <td>1</td>\n",
       "      <td>0.325051</td>\n",
       "      <td>0.222763</td>\n",
       "      <td>0.795883</td>\n",
       "      <td>0.478517</td>\n",
       "      <td>0.527595</td>\n",
       "      <td>0.503217</td>\n",
       "      <td>0.501186</td>\n",
       "      <td>0.499128</td>\n",
       "      <td>0.494793</td>\n",
       "      <td>0.505952</td>\n",
       "      <td>0.508152</td>\n",
       "      <td>0.463941</td>\n",
       "      <td>0.506583</td>\n",
       "      <td>0.504006</td>\n",
       "      <td>0.435868</td>\n",
       "      <td>0.654578</td>\n",
       "      <td>0.503784</td>\n",
       "      <td>0.492801</td>\n",
       "      <td>0.491179</td>\n",
       "      <td>0.503630</td>\n",
       "      <td>0.507526</td>\n",
       "      <td>0.722564</td>\n",
       "      <td>0.500204</td>\n",
       "    </tr>\n",
       "    <tr>\n",
       "      <th>2</th>\n",
       "      <td>1</td>\n",
       "      <td>3</td>\n",
       "      <td>0.003906</td>\n",
       "      <td>0</td>\n",
       "      <td>0.336437</td>\n",
       "      <td>0.263170</td>\n",
       "      <td>0.706503</td>\n",
       "      <td>0.479097</td>\n",
       "      <td>0.526616</td>\n",
       "      <td>0.502142</td>\n",
       "      <td>0.502670</td>\n",
       "      <td>0.497728</td>\n",
       "      <td>0.489084</td>\n",
       "      <td>0.509749</td>\n",
       "      <td>0.507182</td>\n",
       "      <td>0.475283</td>\n",
       "      <td>0.510167</td>\n",
       "      <td>0.504218</td>\n",
       "      <td>0.436200</td>\n",
       "      <td>0.636959</td>\n",
       "      <td>0.502688</td>\n",
       "      <td>0.502134</td>\n",
       "      <td>0.491943</td>\n",
       "      <td>0.504314</td>\n",
       "      <td>0.509403</td>\n",
       "      <td>0.676890</td>\n",
       "      <td>0.500480</td>\n",
       "    </tr>\n",
       "    <tr>\n",
       "      <th>3</th>\n",
       "      <td>1</td>\n",
       "      <td>3</td>\n",
       "      <td>0.003906</td>\n",
       "      <td>1</td>\n",
       "      <td>0.346810</td>\n",
       "      <td>0.280885</td>\n",
       "      <td>0.667317</td>\n",
       "      <td>0.476813</td>\n",
       "      <td>0.523177</td>\n",
       "      <td>0.501427</td>\n",
       "      <td>0.500525</td>\n",
       "      <td>0.496354</td>\n",
       "      <td>0.495680</td>\n",
       "      <td>0.504028</td>\n",
       "      <td>0.505372</td>\n",
       "      <td>0.478232</td>\n",
       "      <td>0.505907</td>\n",
       "      <td>0.504058</td>\n",
       "      <td>0.435581</td>\n",
       "      <td>0.628507</td>\n",
       "      <td>0.502683</td>\n",
       "      <td>0.504820</td>\n",
       "      <td>0.490889</td>\n",
       "      <td>0.502877</td>\n",
       "      <td>0.507123</td>\n",
       "      <td>0.655071</td>\n",
       "      <td>0.500309</td>\n",
       "    </tr>\n",
       "    <tr>\n",
       "      <th>4</th>\n",
       "      <td>1</td>\n",
       "      <td>3</td>\n",
       "      <td>0.007812</td>\n",
       "      <td>0</td>\n",
       "      <td>0.355785</td>\n",
       "      <td>0.252939</td>\n",
       "      <td>0.729133</td>\n",
       "      <td>0.474625</td>\n",
       "      <td>0.522696</td>\n",
       "      <td>0.499860</td>\n",
       "      <td>0.496698</td>\n",
       "      <td>0.498270</td>\n",
       "      <td>0.509234</td>\n",
       "      <td>0.498562</td>\n",
       "      <td>0.504119</td>\n",
       "      <td>0.468392</td>\n",
       "      <td>0.498870</td>\n",
       "      <td>0.503723</td>\n",
       "      <td>0.434366</td>\n",
       "      <td>0.639018</td>\n",
       "      <td>0.502323</td>\n",
       "      <td>0.496155</td>\n",
       "      <td>0.489115</td>\n",
       "      <td>0.500564</td>\n",
       "      <td>0.502736</td>\n",
       "      <td>0.685474</td>\n",
       "      <td>0.500152</td>\n",
       "    </tr>\n",
       "    <tr>\n",
       "      <th>...</th>\n",
       "      <td>...</td>\n",
       "      <td>...</td>\n",
       "      <td>...</td>\n",
       "      <td>...</td>\n",
       "      <td>...</td>\n",
       "      <td>...</td>\n",
       "      <td>...</td>\n",
       "      <td>...</td>\n",
       "      <td>...</td>\n",
       "      <td>...</td>\n",
       "      <td>...</td>\n",
       "      <td>...</td>\n",
       "      <td>...</td>\n",
       "      <td>...</td>\n",
       "      <td>...</td>\n",
       "      <td>...</td>\n",
       "      <td>...</td>\n",
       "      <td>...</td>\n",
       "      <td>...</td>\n",
       "      <td>...</td>\n",
       "      <td>...</td>\n",
       "      <td>...</td>\n",
       "      <td>...</td>\n",
       "      <td>...</td>\n",
       "      <td>...</td>\n",
       "      <td>...</td>\n",
       "      <td>...</td>\n",
       "    </tr>\n",
       "    <tr>\n",
       "      <th>17965138</th>\n",
       "      <td>13</td>\n",
       "      <td>3</td>\n",
       "      <td>999.988281</td>\n",
       "      <td>1</td>\n",
       "      <td>0.287655</td>\n",
       "      <td>0.277189</td>\n",
       "      <td>0.687062</td>\n",
       "      <td>0.478108</td>\n",
       "      <td>0.521922</td>\n",
       "      <td>0.508949</td>\n",
       "      <td>0.511599</td>\n",
       "      <td>0.513011</td>\n",
       "      <td>0.504679</td>\n",
       "      <td>0.516932</td>\n",
       "      <td>0.511052</td>\n",
       "      <td>0.505698</td>\n",
       "      <td>0.507158</td>\n",
       "      <td>0.502674</td>\n",
       "      <td>0.294957</td>\n",
       "      <td>0.591518</td>\n",
       "      <td>0.508124</td>\n",
       "      <td>0.529817</td>\n",
       "      <td>0.493836</td>\n",
       "      <td>0.506020</td>\n",
       "      <td>0.509850</td>\n",
       "      <td>0.554066</td>\n",
       "      <td>0.501523</td>\n",
       "    </tr>\n",
       "    <tr>\n",
       "      <th>17965139</th>\n",
       "      <td>13</td>\n",
       "      <td>3</td>\n",
       "      <td>999.992188</td>\n",
       "      <td>0</td>\n",
       "      <td>0.293241</td>\n",
       "      <td>0.298321</td>\n",
       "      <td>0.725826</td>\n",
       "      <td>0.476508</td>\n",
       "      <td>0.520809</td>\n",
       "      <td>0.507620</td>\n",
       "      <td>0.507758</td>\n",
       "      <td>0.507716</td>\n",
       "      <td>0.507924</td>\n",
       "      <td>0.515284</td>\n",
       "      <td>0.509742</td>\n",
       "      <td>0.505537</td>\n",
       "      <td>0.507059</td>\n",
       "      <td>0.502462</td>\n",
       "      <td>0.327362</td>\n",
       "      <td>0.591496</td>\n",
       "      <td>0.506519</td>\n",
       "      <td>0.528018</td>\n",
       "      <td>0.493027</td>\n",
       "      <td>0.505842</td>\n",
       "      <td>0.509082</td>\n",
       "      <td>0.552357</td>\n",
       "      <td>0.501552</td>\n",
       "    </tr>\n",
       "    <tr>\n",
       "      <th>17965140</th>\n",
       "      <td>13</td>\n",
       "      <td>3</td>\n",
       "      <td>999.992188</td>\n",
       "      <td>1</td>\n",
       "      <td>0.299653</td>\n",
       "      <td>0.285048</td>\n",
       "      <td>0.701352</td>\n",
       "      <td>0.477575</td>\n",
       "      <td>0.522416</td>\n",
       "      <td>0.507599</td>\n",
       "      <td>0.507897</td>\n",
       "      <td>0.507055</td>\n",
       "      <td>0.510641</td>\n",
       "      <td>0.518955</td>\n",
       "      <td>0.510493</td>\n",
       "      <td>0.507228</td>\n",
       "      <td>0.508625</td>\n",
       "      <td>0.502815</td>\n",
       "      <td>0.306549</td>\n",
       "      <td>0.591414</td>\n",
       "      <td>0.507252</td>\n",
       "      <td>0.528288</td>\n",
       "      <td>0.493288</td>\n",
       "      <td>0.506714</td>\n",
       "      <td>0.509382</td>\n",
       "      <td>0.553078</td>\n",
       "      <td>0.502036</td>\n",
       "    </tr>\n",
       "    <tr>\n",
       "      <th>17965141</th>\n",
       "      <td>13</td>\n",
       "      <td>3</td>\n",
       "      <td>999.996094</td>\n",
       "      <td>0</td>\n",
       "      <td>0.306651</td>\n",
       "      <td>0.254371</td>\n",
       "      <td>0.644993</td>\n",
       "      <td>0.479931</td>\n",
       "      <td>0.524814</td>\n",
       "      <td>0.508025</td>\n",
       "      <td>0.508486</td>\n",
       "      <td>0.501868</td>\n",
       "      <td>0.510063</td>\n",
       "      <td>0.521480</td>\n",
       "      <td>0.511955</td>\n",
       "      <td>0.509396</td>\n",
       "      <td>0.510384</td>\n",
       "      <td>0.503055</td>\n",
       "      <td>0.259082</td>\n",
       "      <td>0.591655</td>\n",
       "      <td>0.508543</td>\n",
       "      <td>0.528519</td>\n",
       "      <td>0.492913</td>\n",
       "      <td>0.507267</td>\n",
       "      <td>0.510326</td>\n",
       "      <td>0.554748</td>\n",
       "      <td>0.502472</td>\n",
       "    </tr>\n",
       "    <tr>\n",
       "      <th>17965142</th>\n",
       "      <td>13</td>\n",
       "      <td>3</td>\n",
       "      <td>999.996094</td>\n",
       "      <td>1</td>\n",
       "      <td>0.313920</td>\n",
       "      <td>0.368331</td>\n",
       "      <td>0.854458</td>\n",
       "      <td>0.472322</td>\n",
       "      <td>0.515107</td>\n",
       "      <td>0.501322</td>\n",
       "      <td>0.501186</td>\n",
       "      <td>0.501196</td>\n",
       "      <td>0.508871</td>\n",
       "      <td>0.507510</td>\n",
       "      <td>0.505149</td>\n",
       "      <td>0.504818</td>\n",
       "      <td>0.506319</td>\n",
       "      <td>0.502312</td>\n",
       "      <td>0.435848</td>\n",
       "      <td>0.590669</td>\n",
       "      <td>0.501807</td>\n",
       "      <td>0.525499</td>\n",
       "      <td>0.491935</td>\n",
       "      <td>0.505547</td>\n",
       "      <td>0.506049</td>\n",
       "      <td>0.547557</td>\n",
       "      <td>0.501230</td>\n",
       "    </tr>\n",
       "  </tbody>\n",
       "</table>\n",
       "<p>17965143 rows × 27 columns</p>\n",
       "</div>"
      ],
      "text/plain": [
       "          crew  experiment  ...  smoothened_eeg_cz  smoothened_eeg_o2\n",
       "0            1           3  ...           0.550762           0.499552\n",
       "1            1           3  ...           0.722564           0.500204\n",
       "2            1           3  ...           0.676890           0.500480\n",
       "3            1           3  ...           0.655071           0.500309\n",
       "4            1           3  ...           0.685474           0.500152\n",
       "...        ...         ...  ...                ...                ...\n",
       "17965138    13           3  ...           0.554066           0.501523\n",
       "17965139    13           3  ...           0.552357           0.501552\n",
       "17965140    13           3  ...           0.553078           0.502036\n",
       "17965141    13           3  ...           0.554748           0.502472\n",
       "17965142    13           3  ...           0.547557           0.501230\n",
       "\n",
       "[17965143 rows x 27 columns]"
      ]
     },
     "execution_count": 119,
     "metadata": {
      "tags": []
     },
     "output_type": "execute_result"
    }
   ],
   "source": [
    "df_test"
   ]
  },
  {
   "cell_type": "code",
   "execution_count": 120,
   "metadata": {
    "colab": {
     "base_uri": "https://localhost:8080/",
     "height": 402
    },
    "id": "p_Z8c8myeKbC",
    "outputId": "2bd1984c-5ddf-48f6-a767-0394d551b40c"
   },
   "outputs": [
    {
     "data": {
      "text/html": [
       "<div>\n",
       "<style scoped>\n",
       "    .dataframe tbody tr th:only-of-type {\n",
       "        vertical-align: middle;\n",
       "    }\n",
       "\n",
       "    .dataframe tbody tr th {\n",
       "        vertical-align: top;\n",
       "    }\n",
       "\n",
       "    .dataframe thead th {\n",
       "        text-align: right;\n",
       "    }\n",
       "</style>\n",
       "<table border=\"1\" class=\"dataframe\">\n",
       "  <thead>\n",
       "    <tr style=\"text-align: right;\">\n",
       "      <th></th>\n",
       "      <th>id</th>\n",
       "      <th>A</th>\n",
       "      <th>B</th>\n",
       "      <th>C</th>\n",
       "      <th>D</th>\n",
       "    </tr>\n",
       "  </thead>\n",
       "  <tbody>\n",
       "    <tr>\n",
       "      <th>0</th>\n",
       "      <td>0.0</td>\n",
       "      <td>0.999996</td>\n",
       "      <td>3.953715e-14</td>\n",
       "      <td>2.573250e-11</td>\n",
       "      <td>3.602875e-06</td>\n",
       "    </tr>\n",
       "    <tr>\n",
       "      <th>1</th>\n",
       "      <td>1.0</td>\n",
       "      <td>0.999971</td>\n",
       "      <td>6.932504e-14</td>\n",
       "      <td>7.951497e-12</td>\n",
       "      <td>2.861606e-05</td>\n",
       "    </tr>\n",
       "    <tr>\n",
       "      <th>2</th>\n",
       "      <td>2.0</td>\n",
       "      <td>0.996954</td>\n",
       "      <td>1.535343e-13</td>\n",
       "      <td>5.180332e-08</td>\n",
       "      <td>3.045480e-03</td>\n",
       "    </tr>\n",
       "    <tr>\n",
       "      <th>3</th>\n",
       "      <td>3.0</td>\n",
       "      <td>0.994547</td>\n",
       "      <td>8.356948e-14</td>\n",
       "      <td>1.236544e-08</td>\n",
       "      <td>5.453178e-03</td>\n",
       "    </tr>\n",
       "    <tr>\n",
       "      <th>4</th>\n",
       "      <td>4.0</td>\n",
       "      <td>0.998998</td>\n",
       "      <td>2.127593e-13</td>\n",
       "      <td>2.636679e-08</td>\n",
       "      <td>1.001800e-03</td>\n",
       "    </tr>\n",
       "    <tr>\n",
       "      <th>...</th>\n",
       "      <td>...</td>\n",
       "      <td>...</td>\n",
       "      <td>...</td>\n",
       "      <td>...</td>\n",
       "      <td>...</td>\n",
       "    </tr>\n",
       "    <tr>\n",
       "      <th>17965138</th>\n",
       "      <td>17965138.0</td>\n",
       "      <td>1.000000</td>\n",
       "      <td>1.934453e-10</td>\n",
       "      <td>7.639736e-09</td>\n",
       "      <td>1.022520e-08</td>\n",
       "    </tr>\n",
       "    <tr>\n",
       "      <th>17965139</th>\n",
       "      <td>17965139.0</td>\n",
       "      <td>1.000000</td>\n",
       "      <td>3.220847e-10</td>\n",
       "      <td>9.655428e-09</td>\n",
       "      <td>3.359970e-09</td>\n",
       "    </tr>\n",
       "    <tr>\n",
       "      <th>17965140</th>\n",
       "      <td>17965140.0</td>\n",
       "      <td>1.000000</td>\n",
       "      <td>2.104774e-10</td>\n",
       "      <td>7.338993e-09</td>\n",
       "      <td>9.963137e-09</td>\n",
       "    </tr>\n",
       "    <tr>\n",
       "      <th>17965141</th>\n",
       "      <td>17965141.0</td>\n",
       "      <td>1.000000</td>\n",
       "      <td>4.832494e-10</td>\n",
       "      <td>1.145591e-08</td>\n",
       "      <td>3.323602e-09</td>\n",
       "    </tr>\n",
       "    <tr>\n",
       "      <th>17965142</th>\n",
       "      <td>17965142.0</td>\n",
       "      <td>1.000000</td>\n",
       "      <td>1.777939e-10</td>\n",
       "      <td>3.865879e-09</td>\n",
       "      <td>8.728732e-09</td>\n",
       "    </tr>\n",
       "  </tbody>\n",
       "</table>\n",
       "<p>17965143 rows × 5 columns</p>\n",
       "</div>"
      ],
      "text/plain": [
       "                  id         A             B             C             D\n",
       "0                0.0  0.999996  3.953715e-14  2.573250e-11  3.602875e-06\n",
       "1                1.0  0.999971  6.932504e-14  7.951497e-12  2.861606e-05\n",
       "2                2.0  0.996954  1.535343e-13  5.180332e-08  3.045480e-03\n",
       "3                3.0  0.994547  8.356948e-14  1.236544e-08  5.453178e-03\n",
       "4                4.0  0.998998  2.127593e-13  2.636679e-08  1.001800e-03\n",
       "...              ...       ...           ...           ...           ...\n",
       "17965138  17965138.0  1.000000  1.934453e-10  7.639736e-09  1.022520e-08\n",
       "17965139  17965139.0  1.000000  3.220847e-10  9.655428e-09  3.359970e-09\n",
       "17965140  17965140.0  1.000000  2.104774e-10  7.338993e-09  9.963137e-09\n",
       "17965141  17965141.0  1.000000  4.832494e-10  1.145591e-08  3.323602e-09\n",
       "17965142  17965142.0  1.000000  1.777939e-10  3.865879e-09  8.728732e-09\n",
       "\n",
       "[17965143 rows x 5 columns]"
      ]
     },
     "execution_count": 120,
     "metadata": {
      "tags": []
     },
     "output_type": "execute_result"
    }
   ],
   "source": [
    "predictions"
   ]
  }
 ],
 "metadata": {
  "accelerator": "GPU",
  "colab": {
   "collapsed_sections": [],
   "machine_shape": "hm",
   "name": "Colab_25GBRAM_GPU Techhawa.ipynb",
   "provenance": [],
   "toc_visible": true
  },
  "kernelspec": {
   "display_name": "Python 3",
   "language": "python",
   "name": "python3"
  },
  "language_info": {
   "codemirror_mode": {
    "name": "ipython",
    "version": 3
   },
   "file_extension": ".py",
   "mimetype": "text/x-python",
   "name": "python",
   "nbconvert_exporter": "python",
   "pygments_lexer": "ipython3",
   "version": "3.7.6"
  }
 },
 "nbformat": 4,
 "nbformat_minor": 1
}
